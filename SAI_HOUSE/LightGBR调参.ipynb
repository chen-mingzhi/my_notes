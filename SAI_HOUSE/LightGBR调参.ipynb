{
 "cells": [
  {
   "cell_type": "code",
   "execution_count": 1,
   "id": "908bee3f",
   "metadata": {},
   "outputs": [],
   "source": [
    "import numpy as np\n",
    "import pandas as pd\n",
    "from lightgbm import LGBMRegressor\n",
    "from skopt import gp_minimize\n",
    "from skopt.space import Real, Integer\n",
    "from skopt.utils import use_named_args\n",
    "from sklearn.metrics import mean_squared_error\n",
    "from sklearn.model_selection import cross_val_score"
   ]
  },
  {
   "cell_type": "code",
   "execution_count": 2,
   "id": "f7f14c20",
   "metadata": {},
   "outputs": [],
   "source": [
    "train = pd.read_csv('./data/train.csv')\n",
    "test = pd.read_csv('./data/test.csv')"
   ]
  },
  {
   "cell_type": "code",
   "execution_count": 3,
   "id": "ed584ceb",
   "metadata": {},
   "outputs": [],
   "source": [
    "train.drop(['ID', 'Record Status '], axis=1, inplace=True)  # 删‘ID’列\n",
    "test.drop(['ID', 'Record Status '], axis=1, inplace=True)"
   ]
  },
  {
   "cell_type": "code",
   "execution_count": 4,
   "id": "22439b28",
   "metadata": {},
   "outputs": [],
   "source": [
    "train.drop(['Secondary Address'], axis=1, inplace=True)  # 删‘Secondary Address’列\n",
    "test.drop(['Secondary Address'], axis=1, inplace=True)\n",
    "train.drop(['Locality'], axis=1, inplace=True)  # 删‘Locality’列\n",
    "test.drop(['Locality'], axis=1, inplace=True)"
   ]
  },
  {
   "cell_type": "code",
   "execution_count": 5,
   "id": "043f9a3a",
   "metadata": {},
   "outputs": [],
   "source": [
    "train['Postcode'].fillna(train['Postcode'].mode()[0], inplace=True)\n",
    "test['Postcode'].fillna(test['Postcode'].mode()[0], inplace=True)\n",
    "\n",
    "train['Street'].fillna(train['Street'].mode()[0], inplace=True)\n",
    "test['Street'].fillna(test['Street'].mode()[0], inplace=True)\n",
    "\n",
    "train['District'].fillna(train['District'].mode()[0], inplace=True)\n",
    "test['District'].fillna(test['District'].mode()[0], inplace=True)"
   ]
  },
  {
   "cell_type": "code",
   "execution_count": 6,
   "id": "752461bf",
   "metadata": {},
   "outputs": [],
   "source": [
    "train['Price'] = np.log1p(train['Price'])"
   ]
  },
  {
   "cell_type": "code",
   "execution_count": 7,
   "id": "d9da4eb7",
   "metadata": {},
   "outputs": [],
   "source": [
    "train_counts = train.shape[0]\n",
    "test_counts = test.shape[0]\n",
    "\n",
    "train_Price = train['Price'][:train_counts]\n",
    "train_features = train.drop(['Price'], axis=1)\n",
    "test_features = test\n",
    "features = pd.concat([train_features, test_features]).reset_index(drop=True)"
   ]
  },
  {
   "cell_type": "code",
   "execution_count": 8,
   "id": "9bb12b50",
   "metadata": {},
   "outputs": [],
   "source": [
    "features['Date '] = pd.to_datetime(features['Date '])\n",
    "\n",
    "# 提取月、日新特征\n",
    "features['Month'] = features['Date '].dt.month\n",
    "features['Day'] = features['Date '].dt.day"
   ]
  },
  {
   "cell_type": "code",
   "execution_count": 9,
   "id": "bc1b83ac",
   "metadata": {},
   "outputs": [],
   "source": [
    "# 提取'Month'特征，转换为季节信息\n",
    "seasons = [(1, 'Winter'), (4, 'Spring'), (7, 'Summer'), (10, 'Fall')]\n",
    "bins = [1, 4, 7, 10, 13]\n",
    "labels = [name for _, name in seasons]\n",
    "features['Season'] = pd.cut(features['Date '].dt.month, bins=bins, labels=labels, right=False)\n",
    "\n",
    "# 提取'Day'特征，转换为星期几信息\n",
    "features['Weekday'] = features['Date '].dt.weekday\n",
    "features['Weekend'] = features['Weekday'].isin([5, 6]).astype(int)"
   ]
  },
  {
   "cell_type": "code",
   "execution_count": 10,
   "id": "3bc8e003",
   "metadata": {},
   "outputs": [],
   "source": [
    "# 删除原始的'Date '列\n",
    "features.drop(['Date '], axis=1, inplace=True)"
   ]
  },
  {
   "cell_type": "code",
   "execution_count": 11,
   "id": "4a97b6a8",
   "metadata": {},
   "outputs": [
    {
     "name": "stdout",
     "output_type": "stream",
     "text": [
      "            Price           Date   Postcode Property Type Old/New  \\\n",
      "0       13.415034  2019/1/11 0:00   CM3 4BS             D       N   \n",
      "1       12.206078   2019/1/4 0:00   SS3 9RJ             T       N   \n",
      "2       13.208543  2019/1/18 0:00   CM3 4UR             D       N   \n",
      "3       12.506181  2019/1/11 0:00   SS0 9TY             T       N   \n",
      "4       12.814481  2019/1/16 0:00  SS11 7BB             S       N   \n",
      "...           ...             ...       ...           ...     ...   \n",
      "691861  13.304687  2019/1/15 0:00  SW15 2TR             O       N   \n",
      "691862  14.603968   2019/1/3 0:00  EC2A 4HB             O       N   \n",
      "691863  13.473022   2019/2/1 0:00   SW9 9JB             T       N   \n",
      "691864  14.058458  2019/1/25 0:00    E8 4AU             O       N   \n",
      "691865  14.077876  2019/2/22 0:00  SW12 0BH             T       N   \n",
      "\n",
      "       Property Rights       First address               Street  \\\n",
      "0                    F    FIR TREE COTTAGE           NORTH HILL   \n",
      "1                    F                  38            EAGLE WAY   \n",
      "2                    F                   9        LITTLE FIELDS   \n",
      "3                    F                 148     WESTBOURNE GROVE   \n",
      "4                    F                  53     GUERNSEY GARDENS   \n",
      "...                ...                 ...                  ...   \n",
      "691861               F  TILEMAN HOUSE, 131  UPPER RICHMOND ROAD   \n",
      "691862               F                  64       CLIFTON STREET   \n",
      "691863               F                 130          LANDOR ROAD   \n",
      "691864               F                 445       KINGSLAND ROAD   \n",
      "691865               F                  15       CAVENDISH ROAD   \n",
      "\n",
      "               Town/City         District           County Category Type  \n",
      "0             CHELMSFORD       CHELMSFORD            ESSEX             A  \n",
      "1        SOUTHEND-ON-SEA  SOUTHEND-ON-SEA  SOUTHEND-ON-SEA             A  \n",
      "2             CHELMSFORD       CHELMSFORD            ESSEX             A  \n",
      "3       WESTCLIFF-ON-SEA  SOUTHEND-ON-SEA  SOUTHEND-ON-SEA             A  \n",
      "4               WICKFORD         BASILDON            ESSEX             A  \n",
      "...                  ...              ...              ...           ...  \n",
      "691861            LONDON       WANDSWORTH   GREATER LONDON             B  \n",
      "691862            LONDON          HACKNEY   GREATER LONDON             B  \n",
      "691863            LONDON          LAMBETH   GREATER LONDON             B  \n",
      "691864            LONDON          HACKNEY   GREATER LONDON             B  \n",
      "691865            LONDON          LAMBETH   GREATER LONDON             B  \n",
      "\n",
      "[691866 rows x 12 columns]\n",
      "Postcode\n",
      "<generator object _BaseKFold.split at 0x000001F7EC9B6C70>\n",
      "(553492,) (138374,)\n"
     ]
    },
    {
     "name": "stderr",
     "output_type": "stream",
     "text": [
      "C:\\My_data\\Work\\Anaconda\\envs\\torch-gpu\\lib\\site-packages\\pandas\\core\\arraylike.py:396: RuntimeWarning: overflow encountered in exp\n",
      "  result = getattr(ufunc, method)(*inputs, **kwargs)\n"
     ]
    },
    {
     "name": "stdout",
     "output_type": "stream",
     "text": [
      "Postcode\n",
      "AL1 1AJ    0.500000\n",
      "AL1 1AW    0.500000\n",
      "AL1 1BX    0.731059\n",
      "AL1 1DG    0.500000\n",
      "AL1 1HF    0.500000\n",
      "             ...   \n",
      "YO8 9TU    0.500000\n",
      "YO8 9XF    0.731059\n",
      "YO8 9XG    0.500000\n",
      "YO8 9XP    0.268941\n",
      "YO8 9YE    0.731059\n",
      "Name: beta, Length: 361469, dtype: float64\n",
      "(553493,) (138373,)\n"
     ]
    },
    {
     "name": "stderr",
     "output_type": "stream",
     "text": [
      "C:\\My_data\\Work\\Anaconda\\envs\\torch-gpu\\lib\\site-packages\\pandas\\core\\arraylike.py:396: RuntimeWarning: overflow encountered in exp\n",
      "  result = getattr(ufunc, method)(*inputs, **kwargs)\n"
     ]
    },
    {
     "name": "stdout",
     "output_type": "stream",
     "text": [
      "Postcode\n",
      "AL1 1AJ    0.731059\n",
      "AL1 1BX    0.731059\n",
      "AL1 1DU    0.731059\n",
      "AL1 1HF    0.500000\n",
      "AL1 1HY    0.731059\n",
      "             ...   \n",
      "YO8 9XF    0.731059\n",
      "YO8 9XG    0.500000\n",
      "YO8 9XL    0.731059\n",
      "YO8 9XP    0.731059\n",
      "YO8 9YE    0.731059\n",
      "Name: beta, Length: 362819, dtype: float64\n",
      "(553493,) (138373,)\n"
     ]
    },
    {
     "name": "stderr",
     "output_type": "stream",
     "text": [
      "C:\\My_data\\Work\\Anaconda\\envs\\torch-gpu\\lib\\site-packages\\pandas\\core\\arraylike.py:396: RuntimeWarning: overflow encountered in exp\n",
      "  result = getattr(ufunc, method)(*inputs, **kwargs)\n"
     ]
    },
    {
     "name": "stdout",
     "output_type": "stream",
     "text": [
      "Postcode\n",
      "AL1 1AJ    0.500000\n",
      "AL1 1AW    0.500000\n",
      "AL1 1BX    0.731059\n",
      "AL1 1DG    0.500000\n",
      "AL1 1DU    0.731059\n",
      "             ...   \n",
      "YO8 9XB    0.731059\n",
      "YO8 9XF    0.731059\n",
      "YO8 9XL    0.731059\n",
      "YO8 9XP    0.268941\n",
      "YO8 9YE    0.731059\n",
      "Name: beta, Length: 362953, dtype: float64\n",
      "(553493,) (138373,)\n"
     ]
    },
    {
     "name": "stderr",
     "output_type": "stream",
     "text": [
      "C:\\My_data\\Work\\Anaconda\\envs\\torch-gpu\\lib\\site-packages\\pandas\\core\\arraylike.py:396: RuntimeWarning: overflow encountered in exp\n",
      "  result = getattr(ufunc, method)(*inputs, **kwargs)\n"
     ]
    },
    {
     "name": "stdout",
     "output_type": "stream",
     "text": [
      "Postcode\n",
      "AL1 1AJ    0.731059\n",
      "AL1 1AW    0.500000\n",
      "AL1 1DG    0.500000\n",
      "AL1 1DU    0.731059\n",
      "AL1 1HF    0.500000\n",
      "             ...   \n",
      "YO8 9XF    0.731059\n",
      "YO8 9XG    0.500000\n",
      "YO8 9XL    0.731059\n",
      "YO8 9XP    0.268941\n",
      "YO8 9YE    0.731059\n",
      "Name: beta, Length: 363282, dtype: float64\n",
      "(553493,) (138373,)\n"
     ]
    },
    {
     "name": "stderr",
     "output_type": "stream",
     "text": [
      "C:\\My_data\\Work\\Anaconda\\envs\\torch-gpu\\lib\\site-packages\\pandas\\core\\arraylike.py:396: RuntimeWarning: overflow encountered in exp\n",
      "  result = getattr(ufunc, method)(*inputs, **kwargs)\n"
     ]
    },
    {
     "name": "stdout",
     "output_type": "stream",
     "text": [
      "Postcode\n",
      "AL1 1AJ    0.500000\n",
      "AL1 1AW    0.500000\n",
      "AL1 1BX    0.731059\n",
      "AL1 1DG    0.500000\n",
      "AL1 1DU    0.731059\n",
      "             ...   \n",
      "YO8 9TU    0.500000\n",
      "YO8 9XB    0.731059\n",
      "YO8 9XG    0.500000\n",
      "YO8 9XL    0.731059\n",
      "YO8 9XP    0.500000\n",
      "Name: beta, Length: 363121, dtype: float64\n",
      "Street\n",
      "<generator object _BaseKFold.split at 0x000001F7EC9B6D50>\n",
      "(553492,) (138374,)\n"
     ]
    },
    {
     "name": "stderr",
     "output_type": "stream",
     "text": [
      "C:\\My_data\\Work\\Anaconda\\envs\\torch-gpu\\lib\\site-packages\\pandas\\core\\arraylike.py:396: RuntimeWarning: overflow encountered in exp\n",
      "  result = getattr(ufunc, method)(*inputs, **kwargs)\n"
     ]
    },
    {
     "name": "stdout",
     "output_type": "stream",
     "text": [
      "Street\n",
      "12TH AVENUE      0.731059\n",
      "15TH AVENUE      0.731059\n",
      "1ST AVENUE       0.731059\n",
      "21ST AVENUE      0.268941\n",
      "23RD AVENUE      0.731059\n",
      "                   ...   \n",
      "ZORRINA CLOSE    0.500000\n",
      "ZOUCH STREET     0.731059\n",
      "ZULU ROAD        0.500000\n",
      "ZURICH AVENUE    0.268941\n",
      "ZURICH CLOSE     0.268941\n",
      "Name: beta, Length: 139401, dtype: float64\n",
      "(553493,) (138373,)\n"
     ]
    },
    {
     "name": "stderr",
     "output_type": "stream",
     "text": [
      "C:\\My_data\\Work\\Anaconda\\envs\\torch-gpu\\lib\\site-packages\\pandas\\core\\arraylike.py:396: RuntimeWarning: overflow encountered in exp\n",
      "  result = getattr(ufunc, method)(*inputs, **kwargs)\n"
     ]
    },
    {
     "name": "stdout",
     "output_type": "stream",
     "text": [
      "Street\n",
      "1ST AVENUE       0.500000\n",
      "21ST AVENUE      0.119203\n",
      "23RD AVENUE      0.731059\n",
      "24TH AVENUE      0.731059\n",
      "29TH AVENUE      0.731059\n",
      "                   ...   \n",
      "ZORRINA CLOSE    0.500000\n",
      "ZOUCH STREET     0.731059\n",
      "ZULU ROAD        0.500000\n",
      "ZURICH AVENUE    0.119203\n",
      "ZURICH CLOSE     0.500000\n",
      "Name: beta, Length: 139783, dtype: float64\n",
      "(553493,) (138373,)\n"
     ]
    },
    {
     "name": "stderr",
     "output_type": "stream",
     "text": [
      "C:\\My_data\\Work\\Anaconda\\envs\\torch-gpu\\lib\\site-packages\\pandas\\core\\arraylike.py:396: RuntimeWarning: overflow encountered in exp\n",
      "  result = getattr(ufunc, method)(*inputs, **kwargs)\n"
     ]
    },
    {
     "name": "stdout",
     "output_type": "stream",
     "text": [
      "Street\n",
      "12TH AVENUE      0.731059\n",
      "15TH AVENUE      0.731059\n",
      "1ST AVENUE       0.500000\n",
      "21ST AVENUE      0.268941\n",
      "23RD AVENUE      0.731059\n",
      "                   ...   \n",
      "ZOONS ROAD       0.731059\n",
      "ZORRINA CLOSE    0.500000\n",
      "ZULU ROAD        0.731059\n",
      "ZURICH AVENUE    0.268941\n",
      "ZURICH CLOSE     0.119203\n",
      "Name: beta, Length: 139983, dtype: float64\n",
      "(553493,) (138373,)\n"
     ]
    },
    {
     "name": "stderr",
     "output_type": "stream",
     "text": [
      "C:\\My_data\\Work\\Anaconda\\envs\\torch-gpu\\lib\\site-packages\\pandas\\core\\arraylike.py:396: RuntimeWarning: overflow encountered in exp\n",
      "  result = getattr(ufunc, method)(*inputs, **kwargs)\n"
     ]
    },
    {
     "name": "stdout",
     "output_type": "stream",
     "text": [
      "Street\n",
      "12TH AVENUE      0.731059\n",
      "15TH AVENUE      0.731059\n",
      "1ST AVENUE       0.731059\n",
      "21ST AVENUE      0.500000\n",
      "29TH AVENUE      0.731059\n",
      "                   ...   \n",
      "ZORRINA CLOSE    0.731059\n",
      "ZOUCH STREET     0.731059\n",
      "ZULU ROAD        0.731059\n",
      "ZURICH AVENUE    0.119203\n",
      "ZURICH CLOSE     0.119203\n",
      "Name: beta, Length: 140258, dtype: float64\n",
      "(553493,) (138373,)\n"
     ]
    },
    {
     "name": "stderr",
     "output_type": "stream",
     "text": [
      "C:\\My_data\\Work\\Anaconda\\envs\\torch-gpu\\lib\\site-packages\\pandas\\core\\arraylike.py:396: RuntimeWarning: overflow encountered in exp\n",
      "  result = getattr(ufunc, method)(*inputs, **kwargs)\n"
     ]
    },
    {
     "name": "stdout",
     "output_type": "stream",
     "text": [
      "Street\n",
      "12TH AVENUE      0.731059\n",
      "15TH AVENUE      0.731059\n",
      "1ST AVENUE       0.500000\n",
      "21ST AVENUE      0.119203\n",
      "23RD AVENUE      0.731059\n",
      "                   ...   \n",
      "ZORRINA CLOSE    0.731059\n",
      "ZOUCH STREET     0.731059\n",
      "ZULU ROAD        0.500000\n",
      "ZURICH AVENUE    0.500000\n",
      "ZURICH CLOSE     0.268941\n",
      "Name: beta, Length: 139444, dtype: float64\n",
      "First address\n",
      "<generator object _BaseKFold.split at 0x000001F7EC9B6E30>\n",
      "(553492,) (138374,)\n"
     ]
    },
    {
     "name": "stderr",
     "output_type": "stream",
     "text": [
      "C:\\My_data\\Work\\Anaconda\\envs\\torch-gpu\\lib\\site-packages\\pandas\\core\\arraylike.py:396: RuntimeWarning: overflow encountered in exp\n",
      "  result = getattr(ufunc, method)(*inputs, **kwargs)\n"
     ]
    },
    {
     "name": "stdout",
     "output_type": "stream",
     "text": [
      "First address\n",
      "(BARNES)      0.731059\n",
      "(GRANELLI)    0.731059\n",
      "(HARVEY)      0.731059\n",
      "(HOUSBY)      0.731059\n",
      "(OWEN)        0.731059\n",
      "                ...   \n",
      "ZONE 1        0.500000\n",
      "ZONE 11       0.731059\n",
      "ZONE 14       0.731059\n",
      "ZOOPIYI, 1    0.731059\n",
      "ZUIDHORN      0.731059\n",
      "Name: beta, Length: 53037, dtype: float64\n",
      "(553493,) (138373,)\n"
     ]
    },
    {
     "name": "stderr",
     "output_type": "stream",
     "text": [
      "C:\\My_data\\Work\\Anaconda\\envs\\torch-gpu\\lib\\site-packages\\pandas\\core\\arraylike.py:396: RuntimeWarning: overflow encountered in exp\n",
      "  result = getattr(ufunc, method)(*inputs, **kwargs)\n"
     ]
    },
    {
     "name": "stdout",
     "output_type": "stream",
     "text": [
      "First address\n",
      "(BARNES)        0.731059\n",
      "(GRANELLI)      0.731059\n",
      "(HAVEN)         0.731059\n",
      "(HOUSBY)        0.731059\n",
      "(TUCKER)        0.731059\n",
      "                  ...   \n",
      "ZONE 1          0.500000\n",
      "ZONE 11         0.268941\n",
      "ZONE 14         0.731059\n",
      "ZOOPIYI, 1      0.731059\n",
      "ZURICH HOUSE    0.731059\n",
      "Name: beta, Length: 53238, dtype: float64\n",
      "(553493,) (138373,)\n"
     ]
    },
    {
     "name": "stderr",
     "output_type": "stream",
     "text": [
      "C:\\My_data\\Work\\Anaconda\\envs\\torch-gpu\\lib\\site-packages\\pandas\\core\\arraylike.py:396: RuntimeWarning: overflow encountered in exp\n",
      "  result = getattr(ufunc, method)(*inputs, **kwargs)\n"
     ]
    },
    {
     "name": "stdout",
     "output_type": "stream",
     "text": [
      "First address\n",
      "(BARNES)        0.731059\n",
      "(GRANELLI)      0.731059\n",
      "(HARVEY)        0.731059\n",
      "(HAVEN)         0.731059\n",
      "(HOUSBY)        0.731059\n",
      "                  ...   \n",
      "ZONE 1          0.500000\n",
      "ZONE 11         0.268941\n",
      "ZONE 14         0.731059\n",
      "ZUIDHORN        0.731059\n",
      "ZURICH HOUSE    0.731059\n",
      "Name: beta, Length: 52698, dtype: float64\n",
      "(553493,) (138373,)\n"
     ]
    },
    {
     "name": "stderr",
     "output_type": "stream",
     "text": [
      "C:\\My_data\\Work\\Anaconda\\envs\\torch-gpu\\lib\\site-packages\\pandas\\core\\arraylike.py:396: RuntimeWarning: overflow encountered in exp\n",
      "  result = getattr(ufunc, method)(*inputs, **kwargs)\n"
     ]
    },
    {
     "name": "stdout",
     "output_type": "stream",
     "text": [
      "First address\n",
      "(GRANELLI)        0.731059\n",
      "(HARVEY)          0.731059\n",
      "(HAVEN)           0.731059\n",
      "(HOUSBY)          0.731059\n",
      "(OWEN)            0.731059\n",
      "                    ...   \n",
      "ZOEY COURT, 26    0.500000\n",
      "ZONE 11           0.268941\n",
      "ZOOPIYI, 1        0.731059\n",
      "ZUIDHORN          0.731059\n",
      "ZURICH HOUSE      0.731059\n",
      "Name: beta, Length: 52338, dtype: float64\n",
      "(553493,) (138373,)\n"
     ]
    },
    {
     "name": "stderr",
     "output_type": "stream",
     "text": [
      "C:\\My_data\\Work\\Anaconda\\envs\\torch-gpu\\lib\\site-packages\\pandas\\core\\arraylike.py:396: RuntimeWarning: overflow encountered in exp\n",
      "  result = getattr(ufunc, method)(*inputs, **kwargs)\n"
     ]
    },
    {
     "name": "stdout",
     "output_type": "stream",
     "text": [
      "First address\n",
      "(BARNES)        0.731059\n",
      "(HARVEY)        0.731059\n",
      "(HAVEN)         0.731059\n",
      "(OWEN)          0.731059\n",
      "(UZZELL)        0.731059\n",
      "                  ...   \n",
      "ZONE 11         0.500000\n",
      "ZONE 14         0.731059\n",
      "ZOOPIYI, 1      0.731059\n",
      "ZUIDHORN        0.731059\n",
      "ZURICH HOUSE    0.731059\n",
      "Name: beta, Length: 52497, dtype: float64\n",
      "Town/City\n",
      "<generator object _BaseKFold.split at 0x000001F7EC9B6E30>\n",
      "(553492,) (138374,)\n"
     ]
    },
    {
     "name": "stderr",
     "output_type": "stream",
     "text": [
      "C:\\My_data\\Work\\Anaconda\\envs\\torch-gpu\\lib\\site-packages\\pandas\\core\\arraylike.py:396: RuntimeWarning: overflow encountered in exp\n",
      "  result = getattr(ufunc, method)(*inputs, **kwargs)\n"
     ]
    },
    {
     "name": "stdout",
     "output_type": "stream",
     "text": [
      "Town/City\n",
      "ABBOTS LANGLEY     3.625141e-34\n",
      "ABERAERON          3.442477e-14\n",
      "ABERDARE          1.701841e-167\n",
      "ABERDOVEY          1.026188e-10\n",
      "ABERGAVENNY        2.601073e-99\n",
      "                      ...      \n",
      "YATELEY            2.285694e-49\n",
      "YELVERTON          1.900620e-55\n",
      "YEOVIL            2.171738e-300\n",
      "YORK               0.000000e+00\n",
      "YSTRAD MEURIG      6.144175e-06\n",
      "Name: beta, Length: 1142, dtype: float64\n",
      "(553493,) (138373,)\n"
     ]
    },
    {
     "name": "stderr",
     "output_type": "stream",
     "text": [
      "C:\\My_data\\Work\\Anaconda\\envs\\torch-gpu\\lib\\site-packages\\pandas\\core\\arraylike.py:396: RuntimeWarning: overflow encountered in exp\n",
      "  result = getattr(ufunc, method)(*inputs, **kwargs)\n"
     ]
    },
    {
     "name": "stdout",
     "output_type": "stream",
     "text": [
      "Town/City\n",
      "ABBOTS LANGLEY     1.979260e-32\n",
      "ABERAERON          2.543666e-13\n",
      "ABERDARE          1.746409e-177\n",
      "ABERDOVEY          1.026188e-10\n",
      "ABERGAVENNY       3.961430e-107\n",
      "                      ...      \n",
      "YATELEY            6.813557e-46\n",
      "YELVERTON          7.667648e-53\n",
      "YEOVIL            6.308650e-287\n",
      "YORK               0.000000e+00\n",
      "YSTRAD MEURIG      1.670142e-05\n",
      "Name: beta, Length: 1143, dtype: float64\n",
      "(553493,) (138373,)\n"
     ]
    },
    {
     "name": "stderr",
     "output_type": "stream",
     "text": [
      "C:\\My_data\\Work\\Anaconda\\envs\\torch-gpu\\lib\\site-packages\\pandas\\core\\arraylike.py:396: RuntimeWarning: overflow encountered in exp\n",
      "  result = getattr(ufunc, method)(*inputs, **kwargs)\n"
     ]
    },
    {
     "name": "stdout",
     "output_type": "stream",
     "text": [
      "Town/City\n",
      "ABBOTS LANGLEY     7.281290e-33\n",
      "ABERAERON          4.658886e-15\n",
      "ABERDARE          3.507755e-176\n",
      "ABERDOVEY          2.543666e-13\n",
      "ABERGAVENNY       1.798486e-111\n",
      "                      ...      \n",
      "YATELEY            5.166421e-55\n",
      "YELVERTON          2.138866e-62\n",
      "YEOVIL             0.000000e+00\n",
      "YORK               0.000000e+00\n",
      "YSTRAD MEURIG      8.315280e-07\n",
      "Name: beta, Length: 1143, dtype: float64\n",
      "(553493,) (138373,)\n"
     ]
    },
    {
     "name": "stderr",
     "output_type": "stream",
     "text": [
      "C:\\My_data\\Work\\Anaconda\\envs\\torch-gpu\\lib\\site-packages\\pandas\\core\\arraylike.py:396: RuntimeWarning: overflow encountered in exp\n",
      "  result = getattr(ufunc, method)(*inputs, **kwargs)\n"
     ]
    },
    {
     "name": "stdout",
     "output_type": "stream",
     "text": [
      "Town/City\n",
      "ABBOTS LANGLEY     9.602680e-24\n",
      "ABERAERON          6.305117e-16\n",
      "ABERDARE          2.659777e-185\n",
      "ABERDOVEY          1.026188e-10\n",
      "ABERGAVENNY       2.277633e-125\n",
      "                      ...      \n",
      "YATELEY            4.079559e-41\n",
      "YELVERTON          5.966298e-72\n",
      "YEOVIL            1.053652e-291\n",
      "YORK               0.000000e+00\n",
      "YSTRAD MEURIG      4.539787e-05\n",
      "Name: beta, Length: 1143, dtype: float64\n",
      "(553493,) (138373,)\n"
     ]
    },
    {
     "name": "stderr",
     "output_type": "stream",
     "text": [
      "C:\\My_data\\Work\\Anaconda\\envs\\torch-gpu\\lib\\site-packages\\pandas\\core\\arraylike.py:396: RuntimeWarning: overflow encountered in exp\n",
      "  result = getattr(ufunc, method)(*inputs, **kwargs)\n"
     ]
    },
    {
     "name": "stdout",
     "output_type": "stream",
     "text": [
      "Town/City\n",
      "ABBOTS LANGLEY     2.227364e-39\n",
      "ABERAERON          5.109089e-12\n",
      "ABERDARE          2.337279e-135\n",
      "ABERDOVEY          3.775135e-11\n",
      "ABERGAVENNY       9.568814e-100\n",
      "                      ...      \n",
      "YATELEY            1.580420e-61\n",
      "YELVERTON          1.037703e-53\n",
      "YEOVIL            3.876168e-292\n",
      "YORK               0.000000e+00\n",
      "YSTRAD MEURIG      1.670142e-05\n",
      "Name: beta, Length: 1141, dtype: float64\n",
      "District\n",
      "<generator object _BaseKFold.split at 0x000001F7EC9B6E30>\n",
      "(553492,) (138374,)\n"
     ]
    },
    {
     "name": "stderr",
     "output_type": "stream",
     "text": [
      "C:\\My_data\\Work\\Anaconda\\envs\\torch-gpu\\lib\\site-packages\\pandas\\core\\arraylike.py:396: RuntimeWarning: overflow encountered in exp\n",
      "  result = getattr(ufunc, method)(*inputs, **kwargs)\n"
     ]
    },
    {
     "name": "stdout",
     "output_type": "stream",
     "text": [
      "District\n",
      "ADUR            7.285370e-304\n",
      "ALLERDALE        0.000000e+00\n",
      "AMBER VALLEY     0.000000e+00\n",
      "ARUN             0.000000e+00\n",
      "ASHFIELD         0.000000e+00\n",
      "                    ...      \n",
      "WYCHAVON         0.000000e+00\n",
      "WYCOMBE          0.000000e+00\n",
      "WYRE             0.000000e+00\n",
      "WYRE FOREST      0.000000e+00\n",
      "YORK             0.000000e+00\n",
      "Name: beta, Length: 354, dtype: float64\n",
      "(553493,) (138373,)\n"
     ]
    },
    {
     "name": "stderr",
     "output_type": "stream",
     "text": [
      "C:\\My_data\\Work\\Anaconda\\envs\\torch-gpu\\lib\\site-packages\\pandas\\core\\arraylike.py:396: RuntimeWarning: overflow encountered in exp\n",
      "  result = getattr(ufunc, method)(*inputs, **kwargs)\n"
     ]
    },
    {
     "name": "stdout",
     "output_type": "stream",
     "text": [
      "District\n",
      "ADUR            1.563758e-289\n",
      "ALLERDALE        0.000000e+00\n",
      "AMBER VALLEY     0.000000e+00\n",
      "ARUN             0.000000e+00\n",
      "ASHFIELD         0.000000e+00\n",
      "                    ...      \n",
      "WYCHAVON         0.000000e+00\n",
      "WYCOMBE          0.000000e+00\n",
      "WYRE             0.000000e+00\n",
      "WYRE FOREST      0.000000e+00\n",
      "YORK             0.000000e+00\n",
      "Name: beta, Length: 354, dtype: float64\n",
      "(553493,) (138373,)\n"
     ]
    },
    {
     "name": "stderr",
     "output_type": "stream",
     "text": [
      "C:\\My_data\\Work\\Anaconda\\envs\\torch-gpu\\lib\\site-packages\\pandas\\core\\arraylike.py:396: RuntimeWarning: overflow encountered in exp\n",
      "  result = getattr(ufunc, method)(*inputs, **kwargs)\n"
     ]
    },
    {
     "name": "stdout",
     "output_type": "stream",
     "text": [
      "District\n",
      "ADUR            1.714869e-286\n",
      "ALLERDALE        0.000000e+00\n",
      "AMBER VALLEY     0.000000e+00\n",
      "ARUN             0.000000e+00\n",
      "ASHFIELD         0.000000e+00\n",
      "                    ...      \n",
      "WYCHAVON         0.000000e+00\n",
      "WYCOMBE          0.000000e+00\n",
      "WYRE             0.000000e+00\n",
      "WYRE FOREST      0.000000e+00\n",
      "YORK             0.000000e+00\n",
      "Name: beta, Length: 354, dtype: float64\n",
      "(553493,) (138373,)\n"
     ]
    },
    {
     "name": "stderr",
     "output_type": "stream",
     "text": [
      "C:\\My_data\\Work\\Anaconda\\envs\\torch-gpu\\lib\\site-packages\\pandas\\core\\arraylike.py:396: RuntimeWarning: overflow encountered in exp\n",
      "  result = getattr(ufunc, method)(*inputs, **kwargs)\n"
     ]
    },
    {
     "name": "stdout",
     "output_type": "stream",
     "text": [
      "District\n",
      "ADUR            4.142258e-279\n",
      "ALLERDALE        0.000000e+00\n",
      "AMBER VALLEY     0.000000e+00\n",
      "ARUN             0.000000e+00\n",
      "ASHFIELD         0.000000e+00\n",
      "                    ...      \n",
      "WYCHAVON         0.000000e+00\n",
      "WYCOMBE          0.000000e+00\n",
      "WYRE             0.000000e+00\n",
      "WYRE FOREST      0.000000e+00\n",
      "YORK             0.000000e+00\n",
      "Name: beta, Length: 354, dtype: float64\n",
      "(553493,) (138373,)\n"
     ]
    },
    {
     "name": "stderr",
     "output_type": "stream",
     "text": [
      "C:\\My_data\\Work\\Anaconda\\envs\\torch-gpu\\lib\\site-packages\\pandas\\core\\arraylike.py:396: RuntimeWarning: overflow encountered in exp\n",
      "  result = getattr(ufunc, method)(*inputs, **kwargs)\n"
     ]
    },
    {
     "name": "stdout",
     "output_type": "stream",
     "text": [
      "District\n",
      "ADUR            1.000560e-271\n",
      "ALLERDALE        0.000000e+00\n",
      "AMBER VALLEY     0.000000e+00\n",
      "ARUN             0.000000e+00\n",
      "ASHFIELD         0.000000e+00\n",
      "                    ...      \n",
      "WYCHAVON         0.000000e+00\n",
      "WYCOMBE          0.000000e+00\n",
      "WYRE             0.000000e+00\n",
      "WYRE FOREST      0.000000e+00\n",
      "YORK             0.000000e+00\n",
      "Name: beta, Length: 354, dtype: float64\n",
      "County\n",
      "<generator object _BaseKFold.split at 0x000001F7EC9B6E30>\n",
      "(553492,) (138374,)\n"
     ]
    },
    {
     "name": "stderr",
     "output_type": "stream",
     "text": [
      "C:\\My_data\\Work\\Anaconda\\envs\\torch-gpu\\lib\\site-packages\\pandas\\core\\arraylike.py:396: RuntimeWarning: overflow encountered in exp\n",
      "  result = getattr(ufunc, method)(*inputs, **kwargs)\n"
     ]
    },
    {
     "name": "stdout",
     "output_type": "stream",
     "text": [
      "County\n",
      "BATH AND NORTH EAST SOMERSET     0.000000e+00\n",
      "BEDFORD                          0.000000e+00\n",
      "BLACKBURN WITH DARWEN            0.000000e+00\n",
      "BLACKPOOL                        0.000000e+00\n",
      "BLAENAU GWENT                   6.308650e-287\n",
      "                                    ...      \n",
      "WOKINGHAM                        0.000000e+00\n",
      "WORCESTERSHIRE                   0.000000e+00\n",
      "WREKIN                           0.000000e+00\n",
      "WREXHAM                          0.000000e+00\n",
      "YORK                             0.000000e+00\n",
      "Name: beta, Length: 113, dtype: float64\n",
      "(553493,) (138373,)\n"
     ]
    },
    {
     "name": "stderr",
     "output_type": "stream",
     "text": [
      "C:\\My_data\\Work\\Anaconda\\envs\\torch-gpu\\lib\\site-packages\\pandas\\core\\arraylike.py:396: RuntimeWarning: overflow encountered in exp\n",
      "  result = getattr(ufunc, method)(*inputs, **kwargs)\n"
     ]
    },
    {
     "name": "stdout",
     "output_type": "stream",
     "text": [
      "County\n",
      "BATH AND NORTH EAST SOMERSET     0.000000e+00\n",
      "BEDFORD                          0.000000e+00\n",
      "BLACKBURN WITH DARWEN            0.000000e+00\n",
      "BLACKPOOL                        0.000000e+00\n",
      "BLAENAU GWENT                   7.285370e-304\n",
      "                                    ...      \n",
      "WOKINGHAM                        0.000000e+00\n",
      "WORCESTERSHIRE                   0.000000e+00\n",
      "WREKIN                           0.000000e+00\n",
      "WREXHAM                          0.000000e+00\n",
      "YORK                             0.000000e+00\n",
      "Name: beta, Length: 113, dtype: float64\n",
      "(553493,) (138373,)\n"
     ]
    },
    {
     "name": "stderr",
     "output_type": "stream",
     "text": [
      "C:\\My_data\\Work\\Anaconda\\envs\\torch-gpu\\lib\\site-packages\\pandas\\core\\arraylike.py:396: RuntimeWarning: overflow encountered in exp\n",
      "  result = getattr(ufunc, method)(*inputs, **kwargs)\n"
     ]
    },
    {
     "name": "stdout",
     "output_type": "stream",
     "text": [
      "County\n",
      "BATH AND NORTH EAST SOMERSET    0.0\n",
      "BEDFORD                         0.0\n",
      "BLACKBURN WITH DARWEN           0.0\n",
      "BLACKPOOL                       0.0\n",
      "BLAENAU GWENT                   0.0\n",
      "                               ... \n",
      "WOKINGHAM                       0.0\n",
      "WORCESTERSHIRE                  0.0\n",
      "WREKIN                          0.0\n",
      "WREXHAM                         0.0\n",
      "YORK                            0.0\n",
      "Name: beta, Length: 113, dtype: float64\n",
      "(553493,) (138373,)\n"
     ]
    },
    {
     "name": "stderr",
     "output_type": "stream",
     "text": [
      "C:\\My_data\\Work\\Anaconda\\envs\\torch-gpu\\lib\\site-packages\\pandas\\core\\arraylike.py:396: RuntimeWarning: overflow encountered in exp\n",
      "  result = getattr(ufunc, method)(*inputs, **kwargs)\n"
     ]
    },
    {
     "name": "stdout",
     "output_type": "stream",
     "text": [
      "County\n",
      "BATH AND NORTH EAST SOMERSET    0.0\n",
      "BEDFORD                         0.0\n",
      "BLACKBURN WITH DARWEN           0.0\n",
      "BLACKPOOL                       0.0\n",
      "BLAENAU GWENT                   0.0\n",
      "                               ... \n",
      "WOKINGHAM                       0.0\n",
      "WORCESTERSHIRE                  0.0\n",
      "WREKIN                          0.0\n",
      "WREXHAM                         0.0\n",
      "YORK                            0.0\n",
      "Name: beta, Length: 113, dtype: float64\n",
      "(553493,) (138373,)\n"
     ]
    },
    {
     "name": "stderr",
     "output_type": "stream",
     "text": [
      "C:\\My_data\\Work\\Anaconda\\envs\\torch-gpu\\lib\\site-packages\\pandas\\core\\arraylike.py:396: RuntimeWarning: overflow encountered in exp\n",
      "  result = getattr(ufunc, method)(*inputs, **kwargs)\n"
     ]
    },
    {
     "name": "stdout",
     "output_type": "stream",
     "text": [
      "County\n",
      "BATH AND NORTH EAST SOMERSET     0.000000e+00\n",
      "BEDFORD                          0.000000e+00\n",
      "BLACKBURN WITH DARWEN            0.000000e+00\n",
      "BLACKPOOL                        0.000000e+00\n",
      "BLAENAU GWENT                   3.735334e-239\n",
      "                                    ...      \n",
      "WOKINGHAM                        0.000000e+00\n",
      "WORCESTERSHIRE                   0.000000e+00\n",
      "WREKIN                           0.000000e+00\n",
      "WREXHAM                          0.000000e+00\n",
      "YORK                             0.000000e+00\n",
      "Name: beta, Length: 113, dtype: float64\n"
     ]
    }
   ],
   "source": [
    "from mean_encoder import MeanEncoder\n",
    "\n",
    "Large_Num_Features = ['Postcode', 'Street', 'First address', 'Town/City', 'District', 'County']\n",
    "\n",
    "mean_encoder = MeanEncoder(categorical_features=Large_Num_Features)\n",
    "train = mean_encoder.fit_transform(train, train['Price'])\n",
    "features = mean_encoder.transform(features)\n",
    "\n",
    "features.drop(Large_Num_Features, axis=1, inplace=True)"
   ]
  },
  {
   "cell_type": "code",
   "execution_count": 12,
   "id": "666eb7f2",
   "metadata": {},
   "outputs": [],
   "source": [
    "from sklearn.preprocessing import LabelEncoder\n",
    "\n",
    "# 创建LabelEncoder对象\n",
    "le = LabelEncoder()\n",
    "features['Property Type'] = le.fit_transform(features['Property Type'])\n",
    "features['Old/New'] = le.fit_transform(features['Old/New'])\n",
    "features['Property Rights'] = le.fit_transform(features['Property Rights'])"
   ]
  },
  {
   "cell_type": "code",
   "execution_count": 13,
   "id": "57d3581d",
   "metadata": {},
   "outputs": [],
   "source": [
    "features = pd.get_dummies(features, columns=['Category Type'])\n",
    "features['Category Type_A'] = features['Category Type_A'].astype('int8')\n",
    "features['Category Type_B'] = features['Category Type_B'].astype('int8')\n",
    "features = pd.get_dummies(features, columns=['Season'])\n",
    "features['Season_Spring'] = features['Season_Spring'].astype('int8')\n",
    "features['Season_Summer'] = features['Season_Summer'].astype('int8')\n",
    "features['Season_Fall'] = features['Season_Fall'].astype('int8')\n",
    "features['Season_Winter'] = features['Season_Winter'].astype('int8')"
   ]
  },
  {
   "cell_type": "code",
   "execution_count": 14,
   "id": "f14de78b",
   "metadata": {},
   "outputs": [],
   "source": [
    "train = features[:train_counts]\n",
    "test = features[train_counts:]"
   ]
  },
  {
   "cell_type": "code",
   "execution_count": 15,
   "id": "fe0c6ab9",
   "metadata": {},
   "outputs": [],
   "source": [
    "X_train = train\n",
    "y_train = train_Price"
   ]
  },
  {
   "cell_type": "code",
   "execution_count": 16,
   "id": "63598e18",
   "metadata": {},
   "outputs": [],
   "source": [
    "from sklearn.model_selection import cross_val_predict\n",
    "#采用十折交叉验证\n",
    "n_folds = 10\n",
    "\n",
    "def rmse_cv(model):\n",
    "    kf = KFold(n_folds, shuffle=True, random_state=20)\n",
    "    preds = cross_val_predict(model, X_train, y_train, cv=kf)\n",
    "    rmse = np.sqrt(mean_squared_error(y_train, preds))\n",
    "    return (rmse)"
   ]
  },
  {
   "cell_type": "code",
   "execution_count": 17,
   "id": "06e9c9c9",
   "metadata": {},
   "outputs": [
    {
     "name": "stdout",
     "output_type": "stream",
     "text": [
      "|   iter    |  target   | colsam... | learni... | max_depth | min_ch... | min_ch... | n_esti... | num_le... | reg_alpha | reg_la... | subsample |\n",
      "-------------------------------------------------------------------------------------------------------------------------------------------------\n",
      "| \u001b[0m1        \u001b[0m | \u001b[0m0.08781  \u001b[0m | \u001b[0m0.944    \u001b[0m | \u001b[0m0.08166  \u001b[0m | \u001b[0m3.439    \u001b[0m | \u001b[0m88.68    \u001b[0m | \u001b[0m1.814    \u001b[0m | \u001b[0m6.227e+03\u001b[0m | \u001b[0m50.82    \u001b[0m | \u001b[0m0.0297   \u001b[0m | \u001b[0m0.07578  \u001b[0m | \u001b[0m0.5063   \u001b[0m |\n",
      "| \u001b[0m2        \u001b[0m | \u001b[0m0.08232  \u001b[0m | \u001b[0m0.7589   \u001b[0m | \u001b[0m0.02996  \u001b[0m | \u001b[0m12.24    \u001b[0m | \u001b[0m80.45    \u001b[0m | \u001b[0m3.446    \u001b[0m | \u001b[0m4.053e+03\u001b[0m | \u001b[0m59.69    \u001b[0m | \u001b[0m0.04044  \u001b[0m | \u001b[0m0.01713  \u001b[0m | \u001b[0m0.6142   \u001b[0m |\n",
      "| \u001b[0m3        \u001b[0m | \u001b[0m0.08347  \u001b[0m | \u001b[0m0.9122   \u001b[0m | \u001b[0m0.06042  \u001b[0m | \u001b[0m10.29    \u001b[0m | \u001b[0m29.12    \u001b[0m | \u001b[0m5.112    \u001b[0m | \u001b[0m9.647e+03\u001b[0m | \u001b[0m37.82    \u001b[0m | \u001b[0m0.07855  \u001b[0m | \u001b[0m0.04999  \u001b[0m | \u001b[0m0.9995   \u001b[0m |\n",
      "| \u001b[0m4        \u001b[0m | \u001b[0m0.08355  \u001b[0m | \u001b[0m0.6605   \u001b[0m | \u001b[0m0.01265  \u001b[0m | \u001b[0m14.11    \u001b[0m | \u001b[0m88.61    \u001b[0m | \u001b[0m7.509    \u001b[0m | \u001b[0m3.354e+03\u001b[0m | \u001b[0m64.18    \u001b[0m | \u001b[0m0.03349  \u001b[0m | \u001b[0m0.06822  \u001b[0m | \u001b[0m0.611    \u001b[0m |\n",
      "| \u001b[0m5        \u001b[0m | \u001b[0m0.0821   \u001b[0m | \u001b[0m0.6095   \u001b[0m | \u001b[0m0.02411  \u001b[0m | \u001b[0m11.39    \u001b[0m | \u001b[0m45.4     \u001b[0m | \u001b[0m9.724    \u001b[0m | \u001b[0m6.556e+03\u001b[0m | \u001b[0m75.21    \u001b[0m | \u001b[0m0.04153  \u001b[0m | \u001b[0m0.06237  \u001b[0m | \u001b[0m0.5439   \u001b[0m |\n",
      "| \u001b[0m6        \u001b[0m | \u001b[0m0.0837   \u001b[0m | \u001b[0m0.5519   \u001b[0m | \u001b[0m0.08853  \u001b[0m | \u001b[0m11.15    \u001b[0m | \u001b[0m18.99    \u001b[0m | \u001b[0m2.035    \u001b[0m | \u001b[0m8.989e+03\u001b[0m | \u001b[0m24.99    \u001b[0m | \u001b[0m0.02981  \u001b[0m | \u001b[0m0.0163   \u001b[0m | \u001b[0m0.6672   \u001b[0m |\n",
      "| \u001b[0m7        \u001b[0m | \u001b[0m0.08252  \u001b[0m | \u001b[0m0.6753   \u001b[0m | \u001b[0m0.03051  \u001b[0m | \u001b[0m10.05    \u001b[0m | \u001b[0m28.53    \u001b[0m | \u001b[0m3.108    \u001b[0m | \u001b[0m4.546e+03\u001b[0m | \u001b[0m39.21    \u001b[0m | \u001b[0m0.04475  \u001b[0m | \u001b[0m0.03197  \u001b[0m | \u001b[0m0.7241   \u001b[0m |\n",
      "| \u001b[0m8        \u001b[0m | \u001b[0m0.08301  \u001b[0m | \u001b[0m0.8979   \u001b[0m | \u001b[0m0.04077  \u001b[0m | \u001b[0m9.172    \u001b[0m | \u001b[0m57.32    \u001b[0m | \u001b[0m5.95     \u001b[0m | \u001b[0m4.622e+03\u001b[0m | \u001b[0m30.94    \u001b[0m | \u001b[0m0.02189  \u001b[0m | \u001b[0m0.003756 \u001b[0m | \u001b[0m0.8184   \u001b[0m |\n",
      "| \u001b[95m9        \u001b[0m | \u001b[95m0.08967  \u001b[0m | \u001b[95m0.8582   \u001b[0m | \u001b[95m0.03962  \u001b[0m | \u001b[95m4.716    \u001b[0m | \u001b[95m69.22    \u001b[0m | \u001b[95m8.865    \u001b[0m | \u001b[95m1.756e+03\u001b[0m | \u001b[95m66.05    \u001b[0m | \u001b[95m0.009899 \u001b[0m | \u001b[95m0.05867  \u001b[0m | \u001b[95m0.7038   \u001b[0m |\n",
      "| \u001b[0m10       \u001b[0m | \u001b[0m0.08373  \u001b[0m | \u001b[0m0.79     \u001b[0m | \u001b[0m0.01866  \u001b[0m | \u001b[0m6.562    \u001b[0m | \u001b[0m81.73    \u001b[0m | \u001b[0m6.439    \u001b[0m | \u001b[0m6.138e+03\u001b[0m | \u001b[0m50.54    \u001b[0m | \u001b[0m0.0863   \u001b[0m | \u001b[0m0.01314  \u001b[0m | \u001b[0m0.9883   \u001b[0m |\n",
      "| \u001b[95m11       \u001b[0m | \u001b[95m0.09404  \u001b[0m | \u001b[95m0.8123   \u001b[0m | \u001b[95m0.02261  \u001b[0m | \u001b[95m3.808    \u001b[0m | \u001b[95m64.38    \u001b[0m | \u001b[95m6.576    \u001b[0m | \u001b[95m5.732e+03\u001b[0m | \u001b[95m85.39    \u001b[0m | \u001b[95m0.05524  \u001b[0m | \u001b[95m0.08432  \u001b[0m | \u001b[95m0.757    \u001b[0m |\n",
      "| \u001b[0m12       \u001b[0m | \u001b[0m0.08216  \u001b[0m | \u001b[0m0.7431   \u001b[0m | \u001b[0m0.04162  \u001b[0m | \u001b[0m14.27    \u001b[0m | \u001b[0m79.55    \u001b[0m | \u001b[0m3.484    \u001b[0m | \u001b[0m2.147e+03\u001b[0m | \u001b[0m87.3     \u001b[0m | \u001b[0m0.09247  \u001b[0m | \u001b[0m0.05763  \u001b[0m | \u001b[0m0.6978   \u001b[0m |\n",
      "| \u001b[0m13       \u001b[0m | \u001b[0m0.08492  \u001b[0m | \u001b[0m0.8855   \u001b[0m | \u001b[0m0.08568  \u001b[0m | \u001b[0m14.26    \u001b[0m | \u001b[0m71.78    \u001b[0m | \u001b[0m5.182    \u001b[0m | \u001b[0m8.861e+03\u001b[0m | \u001b[0m44.0     \u001b[0m | \u001b[0m0.02015  \u001b[0m | \u001b[0m0.09128  \u001b[0m | \u001b[0m0.6577   \u001b[0m |\n",
      "| \u001b[0m14       \u001b[0m | \u001b[0m0.08423  \u001b[0m | \u001b[0m0.6714   \u001b[0m | \u001b[0m0.0261   \u001b[0m | \u001b[0m8.678    \u001b[0m | \u001b[0m73.59    \u001b[0m | \u001b[0m4.023    \u001b[0m | \u001b[0m1.723e+03\u001b[0m | \u001b[0m51.06    \u001b[0m | \u001b[0m0.05121  \u001b[0m | \u001b[0m0.02697  \u001b[0m | \u001b[0m0.7231   \u001b[0m |\n",
      "| \u001b[0m15       \u001b[0m | \u001b[0m0.09271  \u001b[0m | \u001b[0m0.9405   \u001b[0m | \u001b[0m0.04056  \u001b[0m | \u001b[0m3.656    \u001b[0m | \u001b[0m97.4     \u001b[0m | \u001b[0m5.653    \u001b[0m | \u001b[0m3.587e+03\u001b[0m | \u001b[0m43.3     \u001b[0m | \u001b[0m0.009773 \u001b[0m | \u001b[0m0.006281 \u001b[0m | \u001b[0m0.8782   \u001b[0m |\n",
      "| \u001b[0m16       \u001b[0m | \u001b[0m0.08461  \u001b[0m | \u001b[0m0.9531   \u001b[0m | \u001b[0m0.06329  \u001b[0m | \u001b[0m8.737    \u001b[0m | \u001b[0m86.27    \u001b[0m | \u001b[0m1.366    \u001b[0m | \u001b[0m6.109e+03\u001b[0m | \u001b[0m68.53    \u001b[0m | \u001b[0m0.002749 \u001b[0m | \u001b[0m0.01349  \u001b[0m | \u001b[0m0.8222   \u001b[0m |\n",
      "| \u001b[0m17       \u001b[0m | \u001b[0m0.08297  \u001b[0m | \u001b[0m0.5007   \u001b[0m | \u001b[0m0.04498  \u001b[0m | \u001b[0m10.37    \u001b[0m | \u001b[0m36.02    \u001b[0m | \u001b[0m1.4      \u001b[0m | \u001b[0m2.312e+03\u001b[0m | \u001b[0m60.39    \u001b[0m | \u001b[0m0.01681  \u001b[0m | \u001b[0m0.004127 \u001b[0m | \u001b[0m0.5431   \u001b[0m |\n",
      "| \u001b[0m18       \u001b[0m | \u001b[0m0.08462  \u001b[0m | \u001b[0m0.5189   \u001b[0m | \u001b[0m0.06433  \u001b[0m | \u001b[0m6.934    \u001b[0m | \u001b[0m56.32    \u001b[0m | \u001b[0m1.94     \u001b[0m | \u001b[0m9.815e+03\u001b[0m | \u001b[0m36.74    \u001b[0m | \u001b[0m0.03894  \u001b[0m | \u001b[0m0.08536  \u001b[0m | \u001b[0m0.577    \u001b[0m |\n",
      "| \u001b[0m19       \u001b[0m | \u001b[0m0.08283  \u001b[0m | \u001b[0m0.6905   \u001b[0m | \u001b[0m0.06286  \u001b[0m | \u001b[0m11.8     \u001b[0m | \u001b[0m46.37    \u001b[0m | \u001b[0m2.667    \u001b[0m | \u001b[0m4.369e+03\u001b[0m | \u001b[0m41.12    \u001b[0m | \u001b[0m0.02146  \u001b[0m | \u001b[0m0.06085  \u001b[0m | \u001b[0m0.6223   \u001b[0m |\n",
      "| \u001b[95m20       \u001b[0m | \u001b[95m0.09684  \u001b[0m | \u001b[95m0.9439   \u001b[0m | \u001b[95m0.02153  \u001b[0m | \u001b[95m3.877    \u001b[0m | \u001b[95m95.71    \u001b[0m | \u001b[95m4.527    \u001b[0m | \u001b[95m3.759e+03\u001b[0m | \u001b[95m76.42    \u001b[0m | \u001b[95m0.03658  \u001b[0m | \u001b[95m0.04747  \u001b[0m | \u001b[95m0.51     \u001b[0m |\n",
      "| \u001b[0m21       \u001b[0m | \u001b[0m0.09012  \u001b[0m | \u001b[0m0.7322   \u001b[0m | \u001b[0m0.07663  \u001b[0m | \u001b[0m3.901    \u001b[0m | \u001b[0m94.46    \u001b[0m | \u001b[0m7.01     \u001b[0m | \u001b[0m3.761e+03\u001b[0m | \u001b[0m78.22    \u001b[0m | \u001b[0m0.09878  \u001b[0m | \u001b[0m0.0962   \u001b[0m | \u001b[0m0.7506   \u001b[0m |\n",
      "| \u001b[0m22       \u001b[0m | \u001b[0m0.08546  \u001b[0m | \u001b[0m0.9615   \u001b[0m | \u001b[0m0.05092  \u001b[0m | \u001b[0m4.064    \u001b[0m | \u001b[0m69.04    \u001b[0m | \u001b[0m7.719    \u001b[0m | \u001b[0m5.724e+03\u001b[0m | \u001b[0m84.61    \u001b[0m | \u001b[0m0.002254 \u001b[0m | \u001b[0m0.02981  \u001b[0m | \u001b[0m0.8567   \u001b[0m |\n",
      "| \u001b[0m23       \u001b[0m | \u001b[0m0.08349  \u001b[0m | \u001b[0m0.6529   \u001b[0m | \u001b[0m0.05049  \u001b[0m | \u001b[0m7.716    \u001b[0m | \u001b[0m62.88    \u001b[0m | \u001b[0m1.974    \u001b[0m | \u001b[0m5.728e+03\u001b[0m | \u001b[0m75.88    \u001b[0m | \u001b[0m0.07828  \u001b[0m | \u001b[0m0.09541  \u001b[0m | \u001b[0m0.6989   \u001b[0m |\n",
      "| \u001b[0m24       \u001b[0m | \u001b[0m0.08549  \u001b[0m | \u001b[0m0.7662   \u001b[0m | \u001b[0m0.09772  \u001b[0m | \u001b[0m11.41    \u001b[0m | \u001b[0m58.24    \u001b[0m | \u001b[0m1.638    \u001b[0m | \u001b[0m5.735e+03\u001b[0m | \u001b[0m92.86    \u001b[0m | \u001b[0m0.06539  \u001b[0m | \u001b[0m0.03008  \u001b[0m | \u001b[0m0.9611   \u001b[0m |\n",
      "| \u001b[0m25       \u001b[0m | \u001b[0m0.08941  \u001b[0m | \u001b[0m0.8657   \u001b[0m | \u001b[0m0.02019  \u001b[0m | \u001b[0m4.583    \u001b[0m | \u001b[0m96.82    \u001b[0m | \u001b[0m8.423    \u001b[0m | \u001b[0m3.765e+03\u001b[0m | \u001b[0m82.2     \u001b[0m | \u001b[0m0.06362  \u001b[0m | \u001b[0m0.02466  \u001b[0m | \u001b[0m0.5881   \u001b[0m |\n",
      "| \u001b[95m26       \u001b[0m | \u001b[95m0.108    \u001b[0m | \u001b[95m0.6405   \u001b[0m | \u001b[95m0.01722  \u001b[0m | \u001b[95m3.631    \u001b[0m | \u001b[95m69.2     \u001b[0m | \u001b[95m6.275    \u001b[0m | \u001b[95m1.764e+03\u001b[0m | \u001b[95m65.9     \u001b[0m | \u001b[95m0.04284  \u001b[0m | \u001b[95m0.0294   \u001b[0m | \u001b[95m0.8212   \u001b[0m |\n",
      "| \u001b[0m27       \u001b[0m | \u001b[0m0.09635  \u001b[0m | \u001b[0m0.6766   \u001b[0m | \u001b[0m0.05714  \u001b[0m | \u001b[0m3.951    \u001b[0m | \u001b[0m58.6     \u001b[0m | \u001b[0m6.551    \u001b[0m | \u001b[0m1.76e+03 \u001b[0m | \u001b[0m72.25    \u001b[0m | \u001b[0m0.06208  \u001b[0m | \u001b[0m0.04004  \u001b[0m | \u001b[0m0.7958   \u001b[0m |\n",
      "| \u001b[0m28       \u001b[0m | \u001b[0m0.08287  \u001b[0m | \u001b[0m0.7008   \u001b[0m | \u001b[0m0.03388  \u001b[0m | \u001b[0m9.989    \u001b[0m | \u001b[0m66.7     \u001b[0m | \u001b[0m3.373    \u001b[0m | \u001b[0m1.77e+03 \u001b[0m | \u001b[0m76.11    \u001b[0m | \u001b[0m0.07225  \u001b[0m | \u001b[0m0.05214  \u001b[0m | \u001b[0m0.9375   \u001b[0m |\n",
      "| \u001b[0m29       \u001b[0m | \u001b[0m0.08456  \u001b[0m | \u001b[0m0.7599   \u001b[0m | \u001b[0m0.02171  \u001b[0m | \u001b[0m7.018    \u001b[0m | \u001b[0m74.29    \u001b[0m | \u001b[0m2.371    \u001b[0m | \u001b[0m1.766e+03\u001b[0m | \u001b[0m68.53    \u001b[0m | \u001b[0m0.02098  \u001b[0m | \u001b[0m0.069    \u001b[0m | \u001b[0m0.7843   \u001b[0m |\n",
      "| \u001b[0m30       \u001b[0m | \u001b[0m0.08882  \u001b[0m | \u001b[0m0.7261   \u001b[0m | \u001b[0m0.004073 \u001b[0m | \u001b[0m9.619    \u001b[0m | \u001b[0m98.82    \u001b[0m | \u001b[0m1.763    \u001b[0m | \u001b[0m3.584e+03\u001b[0m | \u001b[0m39.92    \u001b[0m | \u001b[0m0.007091 \u001b[0m | \u001b[0m0.04681  \u001b[0m | \u001b[0m0.8647   \u001b[0m |\n",
      "| \u001b[0m31       \u001b[0m | \u001b[0m0.08298  \u001b[0m | \u001b[0m0.7521   \u001b[0m | \u001b[0m0.08185  \u001b[0m | \u001b[0m9.623    \u001b[0m | \u001b[0m66.38    \u001b[0m | \u001b[0m9.758    \u001b[0m | \u001b[0m1.757e+03\u001b[0m | \u001b[0m69.48    \u001b[0m | \u001b[0m0.03762  \u001b[0m | \u001b[0m0.05754  \u001b[0m | \u001b[0m0.586    \u001b[0m |\n",
      "| \u001b[0m32       \u001b[0m | \u001b[0m0.08565  \u001b[0m | \u001b[0m0.5682   \u001b[0m | \u001b[0m0.09835  \u001b[0m | \u001b[0m7.331    \u001b[0m | \u001b[0m71.03    \u001b[0m | \u001b[0m2.41     \u001b[0m | \u001b[0m5.733e+03\u001b[0m | \u001b[0m85.67    \u001b[0m | \u001b[0m0.07547  \u001b[0m | \u001b[0m0.008472 \u001b[0m | \u001b[0m0.7616   \u001b[0m |\n",
      "| \u001b[0m33       \u001b[0m | \u001b[0m0.083    \u001b[0m | \u001b[0m0.6418   \u001b[0m | \u001b[0m0.08156  \u001b[0m | \u001b[0m9.724    \u001b[0m | \u001b[0m55.06    \u001b[0m | \u001b[0m7.217    \u001b[0m | \u001b[0m1.757e+03\u001b[0m | \u001b[0m63.85    \u001b[0m | \u001b[0m0.03911  \u001b[0m | \u001b[0m0.09028  \u001b[0m | \u001b[0m0.8136   \u001b[0m |\n"
     ]
    },
    {
     "name": "stdout",
     "output_type": "stream",
     "text": [
      "| \u001b[0m34       \u001b[0m | \u001b[0m0.0882   \u001b[0m | \u001b[0m0.7716   \u001b[0m | \u001b[0m0.08256  \u001b[0m | \u001b[0m3.566    \u001b[0m | \u001b[0m66.97    \u001b[0m | \u001b[0m9.623    \u001b[0m | \u001b[0m5.737e+03\u001b[0m | \u001b[0m89.34    \u001b[0m | \u001b[0m0.03113  \u001b[0m | \u001b[0m0.008089 \u001b[0m | \u001b[0m0.7741   \u001b[0m |\n",
      "| \u001b[0m35       \u001b[0m | \u001b[0m0.08322  \u001b[0m | \u001b[0m0.9899   \u001b[0m | \u001b[0m0.0748   \u001b[0m | \u001b[0m8.922    \u001b[0m | \u001b[0m64.95    \u001b[0m | \u001b[0m6.33     \u001b[0m | \u001b[0m1.764e+03\u001b[0m | \u001b[0m71.78    \u001b[0m | \u001b[0m0.06151  \u001b[0m | \u001b[0m0.01077  \u001b[0m | \u001b[0m0.9815   \u001b[0m |\n",
      "| \u001b[0m36       \u001b[0m | \u001b[0m0.09377  \u001b[0m | \u001b[0m0.6902   \u001b[0m | \u001b[0m0.03911  \u001b[0m | \u001b[0m3.319    \u001b[0m | \u001b[0m98.3     \u001b[0m | \u001b[0m9.349    \u001b[0m | \u001b[0m3.763e+03\u001b[0m | \u001b[0m92.11    \u001b[0m | \u001b[0m0.07221  \u001b[0m | \u001b[0m0.03156  \u001b[0m | \u001b[0m0.9112   \u001b[0m |\n",
      "| \u001b[0m37       \u001b[0m | \u001b[0m0.08306  \u001b[0m | \u001b[0m0.5256   \u001b[0m | \u001b[0m0.04533  \u001b[0m | \u001b[0m8.505    \u001b[0m | \u001b[0m96.41    \u001b[0m | \u001b[0m5.748    \u001b[0m | \u001b[0m3.758e+03\u001b[0m | \u001b[0m69.71    \u001b[0m | \u001b[0m0.02934  \u001b[0m | \u001b[0m0.02612  \u001b[0m | \u001b[0m0.7989   \u001b[0m |\n",
      "| \u001b[0m38       \u001b[0m | \u001b[0m0.08849  \u001b[0m | \u001b[0m0.8496   \u001b[0m | \u001b[0m0.07327  \u001b[0m | \u001b[0m3.324    \u001b[0m | \u001b[0m61.09    \u001b[0m | \u001b[0m0.6135   \u001b[0m | \u001b[0m5.743e+03\u001b[0m | \u001b[0m87.05    \u001b[0m | \u001b[0m0.03928  \u001b[0m | \u001b[0m0.0442   \u001b[0m | \u001b[0m0.5279   \u001b[0m |\n",
      "| \u001b[0m39       \u001b[0m | \u001b[0m0.09177  \u001b[0m | \u001b[0m0.8796   \u001b[0m | \u001b[0m0.007851 \u001b[0m | \u001b[0m4.335    \u001b[0m | \u001b[0m63.5     \u001b[0m | \u001b[0m7.663    \u001b[0m | \u001b[0m5.727e+03\u001b[0m | \u001b[0m82.15    \u001b[0m | \u001b[0m0.0923   \u001b[0m | \u001b[0m0.07586  \u001b[0m | \u001b[0m0.9671   \u001b[0m |\n",
      "| \u001b[0m40       \u001b[0m | \u001b[0m0.08843  \u001b[0m | \u001b[0m0.6346   \u001b[0m | \u001b[0m0.05868  \u001b[0m | \u001b[0m4.398    \u001b[0m | \u001b[0m68.99    \u001b[0m | \u001b[0m6.997    \u001b[0m | \u001b[0m1.772e+03\u001b[0m | \u001b[0m65.39    \u001b[0m | \u001b[0m0.07896  \u001b[0m | \u001b[0m0.09233  \u001b[0m | \u001b[0m0.5899   \u001b[0m |\n",
      "| \u001b[0m41       \u001b[0m | \u001b[0m0.09438  \u001b[0m | \u001b[0m0.9624   \u001b[0m | \u001b[0m0.06099  \u001b[0m | \u001b[0m3.969    \u001b[0m | \u001b[0m76.09    \u001b[0m | \u001b[0m1.59     \u001b[0m | \u001b[0m1.753e+03\u001b[0m | \u001b[0m63.6     \u001b[0m | \u001b[0m0.05905  \u001b[0m | \u001b[0m0.01382  \u001b[0m | \u001b[0m0.8376   \u001b[0m |\n",
      "| \u001b[0m42       \u001b[0m | \u001b[0m0.08269  \u001b[0m | \u001b[0m0.7975   \u001b[0m | \u001b[0m0.03301  \u001b[0m | \u001b[0m10.98    \u001b[0m | \u001b[0m98.2     \u001b[0m | \u001b[0m4.962    \u001b[0m | \u001b[0m3.58e+03 \u001b[0m | \u001b[0m44.41    \u001b[0m | \u001b[0m0.07274  \u001b[0m | \u001b[0m0.06156  \u001b[0m | \u001b[0m0.647    \u001b[0m |\n",
      "| \u001b[0m43       \u001b[0m | \u001b[0m0.08685  \u001b[0m | \u001b[0m0.5847   \u001b[0m | \u001b[0m0.03992  \u001b[0m | \u001b[0m5.196    \u001b[0m | \u001b[0m80.46    \u001b[0m | \u001b[0m0.094    \u001b[0m | \u001b[0m1.752e+03\u001b[0m | \u001b[0m52.61    \u001b[0m | \u001b[0m0.02548  \u001b[0m | \u001b[0m0.07988  \u001b[0m | \u001b[0m0.7802   \u001b[0m |\n",
      "| \u001b[0m44       \u001b[0m | \u001b[0m0.08385  \u001b[0m | \u001b[0m0.884    \u001b[0m | \u001b[0m0.08381  \u001b[0m | \u001b[0m6.495    \u001b[0m | \u001b[0m67.28    \u001b[0m | \u001b[0m8.839    \u001b[0m | \u001b[0m1.767e+03\u001b[0m | \u001b[0m63.14    \u001b[0m | \u001b[0m0.02473  \u001b[0m | \u001b[0m0.05893  \u001b[0m | \u001b[0m0.9489   \u001b[0m |\n",
      "| \u001b[0m45       \u001b[0m | \u001b[0m0.08311  \u001b[0m | \u001b[0m0.6584   \u001b[0m | \u001b[0m0.09653  \u001b[0m | \u001b[0m10.38    \u001b[0m | \u001b[0m69.83    \u001b[0m | \u001b[0m0.668    \u001b[0m | \u001b[0m1.755e+03\u001b[0m | \u001b[0m59.27    \u001b[0m | \u001b[0m0.07785  \u001b[0m | \u001b[0m0.04038  \u001b[0m | \u001b[0m0.8324   \u001b[0m |\n",
      "| \u001b[0m46       \u001b[0m | \u001b[0m0.09122  \u001b[0m | \u001b[0m0.6621   \u001b[0m | \u001b[0m0.06086  \u001b[0m | \u001b[0m3.962    \u001b[0m | \u001b[0m91.17    \u001b[0m | \u001b[0m0.7182   \u001b[0m | \u001b[0m3.76e+03 \u001b[0m | \u001b[0m84.81    \u001b[0m | \u001b[0m0.08996  \u001b[0m | \u001b[0m0.03755  \u001b[0m | \u001b[0m0.5998   \u001b[0m |\n",
      "| \u001b[0m47       \u001b[0m | \u001b[0m0.08313  \u001b[0m | \u001b[0m0.9056   \u001b[0m | \u001b[0m0.09938  \u001b[0m | \u001b[0m13.55    \u001b[0m | \u001b[0m58.48    \u001b[0m | \u001b[0m8.84     \u001b[0m | \u001b[0m1.758e+03\u001b[0m | \u001b[0m74.58    \u001b[0m | \u001b[0m0.06422  \u001b[0m | \u001b[0m0.05318  \u001b[0m | \u001b[0m0.8854   \u001b[0m |\n",
      "| \u001b[0m48       \u001b[0m | \u001b[0m0.09296  \u001b[0m | \u001b[0m0.9355   \u001b[0m | \u001b[0m0.07899  \u001b[0m | \u001b[0m3.387    \u001b[0m | \u001b[0m57.64    \u001b[0m | \u001b[0m4.873    \u001b[0m | \u001b[0m1.754e+03\u001b[0m | \u001b[0m78.2     \u001b[0m | \u001b[0m0.02946  \u001b[0m | \u001b[0m0.02213  \u001b[0m | \u001b[0m0.5051   \u001b[0m |\n",
      "| \u001b[0m49       \u001b[0m | \u001b[0m0.08611  \u001b[0m | \u001b[0m0.6859   \u001b[0m | \u001b[0m0.06209  \u001b[0m | \u001b[0m4.272    \u001b[0m | \u001b[0m93.81    \u001b[0m | \u001b[0m3.295    \u001b[0m | \u001b[0m3.762e+03\u001b[0m | \u001b[0m72.86    \u001b[0m | \u001b[0m0.09699  \u001b[0m | \u001b[0m0.07977  \u001b[0m | \u001b[0m0.9178   \u001b[0m |\n",
      "| \u001b[0m50       \u001b[0m | \u001b[0m0.08461  \u001b[0m | \u001b[0m0.8887   \u001b[0m | \u001b[0m0.09728  \u001b[0m | \u001b[0m5.109    \u001b[0m | \u001b[0m75.92    \u001b[0m | \u001b[0m7.862    \u001b[0m | \u001b[0m1.758e+03\u001b[0m | \u001b[0m64.82    \u001b[0m | \u001b[0m0.008952 \u001b[0m | \u001b[0m0.01109  \u001b[0m | \u001b[0m0.814    \u001b[0m |\n",
      "| \u001b[0m51       \u001b[0m | \u001b[0m0.0844   \u001b[0m | \u001b[0m0.8007   \u001b[0m | \u001b[0m0.06989  \u001b[0m | \u001b[0m5.796    \u001b[0m | \u001b[0m67.8     \u001b[0m | \u001b[0m4.247    \u001b[0m | \u001b[0m5.738e+03\u001b[0m | \u001b[0m80.26    \u001b[0m | \u001b[0m0.08252  \u001b[0m | \u001b[0m0.02437  \u001b[0m | \u001b[0m0.7189   \u001b[0m |\n",
      "| \u001b[0m52       \u001b[0m | \u001b[0m0.08761  \u001b[0m | \u001b[0m0.679    \u001b[0m | \u001b[0m0.07206  \u001b[0m | \u001b[0m4.326    \u001b[0m | \u001b[0m81.55    \u001b[0m | \u001b[0m1.507    \u001b[0m | \u001b[0m1.746e+03\u001b[0m | \u001b[0m64.46    \u001b[0m | \u001b[0m0.003071 \u001b[0m | \u001b[0m0.05928  \u001b[0m | \u001b[0m0.8475   \u001b[0m |\n",
      "| \u001b[0m53       \u001b[0m | \u001b[0m0.08386  \u001b[0m | \u001b[0m0.5163   \u001b[0m | \u001b[0m0.03652  \u001b[0m | \u001b[0m7.038    \u001b[0m | \u001b[0m51.15    \u001b[0m | \u001b[0m1.177    \u001b[0m | \u001b[0m1.75e+03 \u001b[0m | \u001b[0m77.26    \u001b[0m | \u001b[0m0.05284  \u001b[0m | \u001b[0m0.02929  \u001b[0m | \u001b[0m0.7577   \u001b[0m |\n",
      "| \u001b[0m54       \u001b[0m | \u001b[0m0.1011   \u001b[0m | \u001b[0m0.5003   \u001b[0m | \u001b[0m0.01013  \u001b[0m | \u001b[0m4.057    \u001b[0m | \u001b[0m79.17    \u001b[0m | \u001b[0m3.009    \u001b[0m | \u001b[0m1.752e+03\u001b[0m | \u001b[0m69.96    \u001b[0m | \u001b[0m0.04838  \u001b[0m | \u001b[0m0.06853  \u001b[0m | \u001b[0m0.8912   \u001b[0m |\n",
      "| \u001b[0m55       \u001b[0m | \u001b[0m0.08635  \u001b[0m | \u001b[0m0.5624   \u001b[0m | \u001b[0m0.04823  \u001b[0m | \u001b[0m5.274    \u001b[0m | \u001b[0m75.76    \u001b[0m | \u001b[0m0.817    \u001b[0m | \u001b[0m1.751e+03\u001b[0m | \u001b[0m60.66    \u001b[0m | \u001b[0m0.04601  \u001b[0m | \u001b[0m0.08663  \u001b[0m | \u001b[0m0.5732   \u001b[0m |\n",
      "| \u001b[0m56       \u001b[0m | \u001b[0m0.08348  \u001b[0m | \u001b[0m0.7233   \u001b[0m | \u001b[0m0.04056  \u001b[0m | \u001b[0m7.091    \u001b[0m | \u001b[0m69.44    \u001b[0m | \u001b[0m2.39     \u001b[0m | \u001b[0m1.75e+03 \u001b[0m | \u001b[0m71.3     \u001b[0m | \u001b[0m0.005877 \u001b[0m | \u001b[0m0.08888  \u001b[0m | \u001b[0m0.9683   \u001b[0m |\n",
      "| \u001b[0m57       \u001b[0m | \u001b[0m0.08885  \u001b[0m | \u001b[0m0.6149   \u001b[0m | \u001b[0m0.07334  \u001b[0m | \u001b[0m3.338    \u001b[0m | \u001b[0m65.48    \u001b[0m | \u001b[0m9.966    \u001b[0m | \u001b[0m5.729e+03\u001b[0m | \u001b[0m85.6     \u001b[0m | \u001b[0m0.04874  \u001b[0m | \u001b[0m0.08728  \u001b[0m | \u001b[0m0.8859   \u001b[0m |\n",
      "| \u001b[0m58       \u001b[0m | \u001b[0m0.08372  \u001b[0m | \u001b[0m0.5834   \u001b[0m | \u001b[0m0.04435  \u001b[0m | \u001b[0m6.515    \u001b[0m | \u001b[0m82.63    \u001b[0m | \u001b[0m1.226    \u001b[0m | \u001b[0m6.23e+03 \u001b[0m | \u001b[0m51.45    \u001b[0m | \u001b[0m0.01755  \u001b[0m | \u001b[0m0.007709 \u001b[0m | \u001b[0m0.5599   \u001b[0m |\n",
      "| \u001b[0m59       \u001b[0m | \u001b[0m0.09288  \u001b[0m | \u001b[0m0.8922   \u001b[0m | \u001b[0m0.02142  \u001b[0m | \u001b[0m4.842    \u001b[0m | \u001b[0m80.69    \u001b[0m | \u001b[0m2.587    \u001b[0m | \u001b[0m1.752e+03\u001b[0m | \u001b[0m68.42    \u001b[0m | \u001b[0m0.03427  \u001b[0m | \u001b[0m0.05725  \u001b[0m | \u001b[0m0.6427   \u001b[0m |\n",
      "| \u001b[0m60       \u001b[0m | \u001b[0m0.08374  \u001b[0m | \u001b[0m0.6234   \u001b[0m | \u001b[0m0.01197  \u001b[0m | \u001b[0m8.084    \u001b[0m | \u001b[0m95.8     \u001b[0m | \u001b[0m9.827    \u001b[0m | \u001b[0m3.759e+03\u001b[0m | \u001b[0m78.44    \u001b[0m | \u001b[0m0.002466 \u001b[0m | \u001b[0m0.0269   \u001b[0m | \u001b[0m0.5266   \u001b[0m |\n",
      "| \u001b[0m61       \u001b[0m | \u001b[0m0.08904  \u001b[0m | \u001b[0m0.6708   \u001b[0m | \u001b[0m0.05123  \u001b[0m | \u001b[0m4.765    \u001b[0m | \u001b[0m81.46    \u001b[0m | \u001b[0m6.515    \u001b[0m | \u001b[0m1.754e+03\u001b[0m | \u001b[0m77.37    \u001b[0m | \u001b[0m0.06159  \u001b[0m | \u001b[0m0.03905  \u001b[0m | \u001b[0m0.6558   \u001b[0m |\n",
      "| \u001b[0m62       \u001b[0m | \u001b[0m0.09942  \u001b[0m | \u001b[0m0.8108   \u001b[0m | \u001b[0m0.009631 \u001b[0m | \u001b[0m4.834    \u001b[0m | \u001b[0m72.99    \u001b[0m | \u001b[0m1.053    \u001b[0m | \u001b[0m1.753e+03\u001b[0m | \u001b[0m73.6     \u001b[0m | \u001b[0m0.03053  \u001b[0m | \u001b[0m0.008654 \u001b[0m | \u001b[0m0.9862   \u001b[0m |\n",
      "| \u001b[0m63       \u001b[0m | \u001b[0m0.0895   \u001b[0m | \u001b[0m0.6262   \u001b[0m | \u001b[0m0.01017  \u001b[0m | \u001b[0m5.98     \u001b[0m | \u001b[0m95.98    \u001b[0m | \u001b[0m8.936    \u001b[0m | \u001b[0m3.585e+03\u001b[0m | \u001b[0m43.42    \u001b[0m | \u001b[0m0.08622  \u001b[0m | \u001b[0m0.06222  \u001b[0m | \u001b[0m0.5251   \u001b[0m |\n",
      "| \u001b[0m64       \u001b[0m | \u001b[0m0.08485  \u001b[0m | \u001b[0m0.9085   \u001b[0m | \u001b[0m0.0173   \u001b[0m | \u001b[0m6.49     \u001b[0m | \u001b[0m91.27    \u001b[0m | \u001b[0m5.253    \u001b[0m | \u001b[0m3.584e+03\u001b[0m | \u001b[0m45.52    \u001b[0m | \u001b[0m0.04382  \u001b[0m | \u001b[0m0.0778   \u001b[0m | \u001b[0m0.9734   \u001b[0m |\n",
      "| \u001b[0m65       \u001b[0m | \u001b[0m0.08836  \u001b[0m | \u001b[0m0.6201   \u001b[0m | \u001b[0m0.08613  \u001b[0m | \u001b[0m3.169    \u001b[0m | \u001b[0m67.88    \u001b[0m | \u001b[0m6.483    \u001b[0m | \u001b[0m5.732e+03\u001b[0m | \u001b[0m79.97    \u001b[0m | \u001b[0m0.06975  \u001b[0m | \u001b[0m0.02068  \u001b[0m | \u001b[0m0.7863   \u001b[0m |\n",
      "| \u001b[0m66       \u001b[0m | \u001b[0m0.09941  \u001b[0m | \u001b[0m0.6888   \u001b[0m | \u001b[0m0.0103   \u001b[0m | \u001b[0m4.971    \u001b[0m | \u001b[0m70.62    \u001b[0m | \u001b[0m3.134    \u001b[0m | \u001b[0m1.757e+03\u001b[0m | \u001b[0m61.41    \u001b[0m | \u001b[0m0.04278  \u001b[0m | \u001b[0m0.03266  \u001b[0m | \u001b[0m0.5741   \u001b[0m |\n",
      "| \u001b[0m67       \u001b[0m | \u001b[0m0.08628  \u001b[0m | \u001b[0m0.5896   \u001b[0m | \u001b[0m0.05134  \u001b[0m | \u001b[0m5.161    \u001b[0m | \u001b[0m75.26    \u001b[0m | \u001b[0m5.031    \u001b[0m | \u001b[0m1.748e+03\u001b[0m | \u001b[0m64.64    \u001b[0m | \u001b[0m0.04019  \u001b[0m | \u001b[0m0.08854  \u001b[0m | \u001b[0m0.7516   \u001b[0m |\n"
     ]
    },
    {
     "name": "stdout",
     "output_type": "stream",
     "text": [
      "| \u001b[0m68       \u001b[0m | \u001b[0m0.08342  \u001b[0m | \u001b[0m0.6559   \u001b[0m | \u001b[0m0.05918  \u001b[0m | \u001b[0m8.599    \u001b[0m | \u001b[0m72.15    \u001b[0m | \u001b[0m0.6512   \u001b[0m | \u001b[0m1.766e+03\u001b[0m | \u001b[0m56.51    \u001b[0m | \u001b[0m0.09857  \u001b[0m | \u001b[0m0.06225  \u001b[0m | \u001b[0m0.5273   \u001b[0m |\n",
      "| \u001b[0m69       \u001b[0m | \u001b[0m0.09549  \u001b[0m | \u001b[0m0.5748   \u001b[0m | \u001b[0m0.01926  \u001b[0m | \u001b[0m4.025    \u001b[0m | \u001b[0m67.04    \u001b[0m | \u001b[0m6.883    \u001b[0m | \u001b[0m1.758e+03\u001b[0m | \u001b[0m63.38    \u001b[0m | \u001b[0m0.05428  \u001b[0m | \u001b[0m0.0758   \u001b[0m | \u001b[0m0.5148   \u001b[0m |\n",
      "| \u001b[0m70       \u001b[0m | \u001b[0m0.1006   \u001b[0m | \u001b[0m0.5615   \u001b[0m | \u001b[0m0.03772  \u001b[0m | \u001b[0m3.884    \u001b[0m | \u001b[0m84.39    \u001b[0m | \u001b[0m5.041    \u001b[0m | \u001b[0m1.756e+03\u001b[0m | \u001b[0m66.0     \u001b[0m | \u001b[0m0.03221  \u001b[0m | \u001b[0m0.0148   \u001b[0m | \u001b[0m0.5047   \u001b[0m |\n",
      "| \u001b[0m71       \u001b[0m | \u001b[0m0.1078   \u001b[0m | \u001b[0m0.7917   \u001b[0m | \u001b[0m0.0047   \u001b[0m | \u001b[0m4.929    \u001b[0m | \u001b[0m82.12    \u001b[0m | \u001b[0m2.552    \u001b[0m | \u001b[0m1.756e+03\u001b[0m | \u001b[0m75.02    \u001b[0m | \u001b[0m0.06382  \u001b[0m | \u001b[0m0.08124  \u001b[0m | \u001b[0m0.5284   \u001b[0m |\n",
      "| \u001b[95m72       \u001b[0m | \u001b[95m0.1121   \u001b[0m | \u001b[95m0.6077   \u001b[0m | \u001b[95m0.01135  \u001b[0m | \u001b[95m3.495    \u001b[0m | \u001b[95m67.97    \u001b[0m | \u001b[95m2.494    \u001b[0m | \u001b[95m1.759e+03\u001b[0m | \u001b[95m68.52    \u001b[0m | \u001b[95m0.04808  \u001b[0m | \u001b[95m0.05443  \u001b[0m | \u001b[95m0.6376   \u001b[0m |\n",
      "| \u001b[0m73       \u001b[0m | \u001b[0m0.08386  \u001b[0m | \u001b[0m0.9683   \u001b[0m | \u001b[0m0.06914  \u001b[0m | \u001b[0m6.376    \u001b[0m | \u001b[0m73.69    \u001b[0m | \u001b[0m1.37     \u001b[0m | \u001b[0m1.757e+03\u001b[0m | \u001b[0m64.88    \u001b[0m | \u001b[0m0.06395  \u001b[0m | \u001b[0m0.00879  \u001b[0m | \u001b[0m0.8996   \u001b[0m |\n",
      "| \u001b[0m74       \u001b[0m | \u001b[0m0.08397  \u001b[0m | \u001b[0m0.8771   \u001b[0m | \u001b[0m0.08733  \u001b[0m | \u001b[0m6.236    \u001b[0m | \u001b[0m79.85    \u001b[0m | \u001b[0m6.074    \u001b[0m | \u001b[0m1.752e+03\u001b[0m | \u001b[0m67.83    \u001b[0m | \u001b[0m0.07502  \u001b[0m | \u001b[0m0.09954  \u001b[0m | \u001b[0m0.8081   \u001b[0m |\n",
      "| \u001b[0m75       \u001b[0m | \u001b[0m0.08416  \u001b[0m | \u001b[0m0.7471   \u001b[0m | \u001b[0m0.09423  \u001b[0m | \u001b[0m6.73     \u001b[0m | \u001b[0m90.44    \u001b[0m | \u001b[0m4.174    \u001b[0m | \u001b[0m3.765e+03\u001b[0m | \u001b[0m94.23    \u001b[0m | \u001b[0m0.001372 \u001b[0m | \u001b[0m0.09448  \u001b[0m | \u001b[0m0.9143   \u001b[0m |\n",
      "| \u001b[0m76       \u001b[0m | \u001b[0m0.09207  \u001b[0m | \u001b[0m0.7789   \u001b[0m | \u001b[0m0.02563  \u001b[0m | \u001b[0m4.116    \u001b[0m | \u001b[0m56.41    \u001b[0m | \u001b[0m0.5438   \u001b[0m | \u001b[0m1.761e+03\u001b[0m | \u001b[0m71.94    \u001b[0m | \u001b[0m0.02564  \u001b[0m | \u001b[0m0.02021  \u001b[0m | \u001b[0m0.939    \u001b[0m |\n",
      "| \u001b[0m77       \u001b[0m | \u001b[0m0.08262  \u001b[0m | \u001b[0m0.8477   \u001b[0m | \u001b[0m0.07867  \u001b[0m | \u001b[0m12.12    \u001b[0m | \u001b[0m83.08    \u001b[0m | \u001b[0m3.624    \u001b[0m | \u001b[0m1.75e+03 \u001b[0m | \u001b[0m73.52    \u001b[0m | \u001b[0m0.02201  \u001b[0m | \u001b[0m0.04342  \u001b[0m | \u001b[0m0.8658   \u001b[0m |\n",
      "| \u001b[0m78       \u001b[0m | \u001b[0m0.08595  \u001b[0m | \u001b[0m0.6846   \u001b[0m | \u001b[0m0.0128   \u001b[0m | \u001b[0m8.379    \u001b[0m | \u001b[0m87.51    \u001b[0m | \u001b[0m4.571    \u001b[0m | \u001b[0m1.763e+03\u001b[0m | \u001b[0m59.62    \u001b[0m | \u001b[0m0.0971   \u001b[0m | \u001b[0m0.06373  \u001b[0m | \u001b[0m0.801    \u001b[0m |\n",
      "| \u001b[0m79       \u001b[0m | \u001b[0m0.08473  \u001b[0m | \u001b[0m0.9585   \u001b[0m | \u001b[0m0.09442  \u001b[0m | \u001b[0m5.121    \u001b[0m | \u001b[0m89.06    \u001b[0m | \u001b[0m0.4205   \u001b[0m | \u001b[0m1.755e+03\u001b[0m | \u001b[0m68.25    \u001b[0m | \u001b[0m0.06323  \u001b[0m | \u001b[0m0.05418  \u001b[0m | \u001b[0m0.7337   \u001b[0m |\n",
      "| \u001b[0m80       \u001b[0m | \u001b[0m0.08299  \u001b[0m | \u001b[0m0.9544   \u001b[0m | \u001b[0m0.05741  \u001b[0m | \u001b[0m9.094    \u001b[0m | \u001b[0m85.52    \u001b[0m | \u001b[0m4.456    \u001b[0m | \u001b[0m1.757e+03\u001b[0m | \u001b[0m63.38    \u001b[0m | \u001b[0m0.01858  \u001b[0m | \u001b[0m0.03616  \u001b[0m | \u001b[0m0.9648   \u001b[0m |\n",
      "| \u001b[0m81       \u001b[0m | \u001b[0m0.101    \u001b[0m | \u001b[0m0.6397   \u001b[0m | \u001b[0m0.03484  \u001b[0m | \u001b[0m3.75     \u001b[0m | \u001b[0m64.88    \u001b[0m | \u001b[0m3.335    \u001b[0m | \u001b[0m1.761e+03\u001b[0m | \u001b[0m75.29    \u001b[0m | \u001b[0m0.006767 \u001b[0m | \u001b[0m0.0467   \u001b[0m | \u001b[0m0.5247   \u001b[0m |\n",
      "| \u001b[0m82       \u001b[0m | \u001b[0m0.09859  \u001b[0m | \u001b[0m0.732    \u001b[0m | \u001b[0m0.0415   \u001b[0m | \u001b[0m3.048    \u001b[0m | \u001b[0m50.61    \u001b[0m | \u001b[0m4.618    \u001b[0m | \u001b[0m1.761e+03\u001b[0m | \u001b[0m81.27    \u001b[0m | \u001b[0m0.005108 \u001b[0m | \u001b[0m0.04313  \u001b[0m | \u001b[0m0.6196   \u001b[0m |\n",
      "| \u001b[95m83       \u001b[0m | \u001b[95m0.1434   \u001b[0m | \u001b[95m0.7317   \u001b[0m | \u001b[95m0.00233  \u001b[0m | \u001b[95m3.187    \u001b[0m | \u001b[95m81.26    \u001b[0m | \u001b[95m8.782    \u001b[0m | \u001b[95m1.763e+03\u001b[0m | \u001b[95m70.88    \u001b[0m | \u001b[95m0.01972  \u001b[0m | \u001b[95m0.01216  \u001b[0m | \u001b[95m0.5867   \u001b[0m |\n",
      "| \u001b[0m84       \u001b[0m | \u001b[0m0.08369  \u001b[0m | \u001b[0m0.9828   \u001b[0m | \u001b[0m0.08594  \u001b[0m | \u001b[0m7.637    \u001b[0m | \u001b[0m77.85    \u001b[0m | \u001b[0m4.323    \u001b[0m | \u001b[0m1.771e+03\u001b[0m | \u001b[0m80.15    \u001b[0m | \u001b[0m0.02283  \u001b[0m | \u001b[0m0.04121  \u001b[0m | \u001b[0m0.5026   \u001b[0m |\n",
      "| \u001b[0m85       \u001b[0m | \u001b[0m0.08284  \u001b[0m | \u001b[0m0.5415   \u001b[0m | \u001b[0m0.0367   \u001b[0m | \u001b[0m14.97    \u001b[0m | \u001b[0m46.96    \u001b[0m | \u001b[0m7.656    \u001b[0m | \u001b[0m1.766e+03\u001b[0m | \u001b[0m87.75    \u001b[0m | \u001b[0m0.08726  \u001b[0m | \u001b[0m0.01393  \u001b[0m | \u001b[0m0.547    \u001b[0m |\n",
      "| \u001b[0m86       \u001b[0m | \u001b[0m0.08317  \u001b[0m | \u001b[0m0.8332   \u001b[0m | \u001b[0m0.02554  \u001b[0m | \u001b[0m11.73    \u001b[0m | \u001b[0m91.35    \u001b[0m | \u001b[0m4.913    \u001b[0m | \u001b[0m1.774e+03\u001b[0m | \u001b[0m67.01    \u001b[0m | \u001b[0m0.06208  \u001b[0m | \u001b[0m0.03694  \u001b[0m | \u001b[0m0.825    \u001b[0m |\n",
      "| \u001b[0m87       \u001b[0m | \u001b[0m0.08634  \u001b[0m | \u001b[0m0.9678   \u001b[0m | \u001b[0m0.01648  \u001b[0m | \u001b[0m6.579    \u001b[0m | \u001b[0m44.3     \u001b[0m | \u001b[0m9.753    \u001b[0m | \u001b[0m1.771e+03\u001b[0m | \u001b[0m79.07    \u001b[0m | \u001b[0m0.04046  \u001b[0m | \u001b[0m0.01688  \u001b[0m | \u001b[0m0.5805   \u001b[0m |\n",
      "| \u001b[0m88       \u001b[0m | \u001b[0m0.08324  \u001b[0m | \u001b[0m0.8293   \u001b[0m | \u001b[0m0.09418  \u001b[0m | \u001b[0m8.68     \u001b[0m | \u001b[0m83.26    \u001b[0m | \u001b[0m9.319    \u001b[0m | \u001b[0m1.763e+03\u001b[0m | \u001b[0m63.53    \u001b[0m | \u001b[0m0.01938  \u001b[0m | \u001b[0m0.008937 \u001b[0m | \u001b[0m0.8506   \u001b[0m |\n",
      "| \u001b[0m89       \u001b[0m | \u001b[0m0.08485  \u001b[0m | \u001b[0m0.9177   \u001b[0m | \u001b[0m0.08582  \u001b[0m | \u001b[0m5.579    \u001b[0m | \u001b[0m71.45    \u001b[0m | \u001b[0m8.677    \u001b[0m | \u001b[0m1.758e+03\u001b[0m | \u001b[0m72.59    \u001b[0m | \u001b[0m0.01258  \u001b[0m | \u001b[0m0.03564  \u001b[0m | \u001b[0m0.5632   \u001b[0m |\n",
      "| \u001b[0m90       \u001b[0m | \u001b[0m0.08396  \u001b[0m | \u001b[0m0.9646   \u001b[0m | \u001b[0m0.06017  \u001b[0m | \u001b[0m6.435    \u001b[0m | \u001b[0m87.59    \u001b[0m | \u001b[0m6.401    \u001b[0m | \u001b[0m1.756e+03\u001b[0m | \u001b[0m71.74    \u001b[0m | \u001b[0m0.05838  \u001b[0m | \u001b[0m0.06365  \u001b[0m | \u001b[0m0.6373   \u001b[0m |\n",
      "| \u001b[0m91       \u001b[0m | \u001b[0m0.08698  \u001b[0m | \u001b[0m0.6716   \u001b[0m | \u001b[0m0.08867  \u001b[0m | \u001b[0m4.044    \u001b[0m | \u001b[0m55.47    \u001b[0m | \u001b[0m1.662    \u001b[0m | \u001b[0m1.767e+03\u001b[0m | \u001b[0m84.11    \u001b[0m | \u001b[0m0.05709  \u001b[0m | \u001b[0m0.06974  \u001b[0m | \u001b[0m0.6092   \u001b[0m |\n",
      "| \u001b[0m92       \u001b[0m | \u001b[0m0.1003   \u001b[0m | \u001b[0m0.7713   \u001b[0m | \u001b[0m0.03362  \u001b[0m | \u001b[0m3.954    \u001b[0m | \u001b[0m79.66    \u001b[0m | \u001b[0m7.091    \u001b[0m | \u001b[0m1.759e+03\u001b[0m | \u001b[0m77.44    \u001b[0m | \u001b[0m0.05333  \u001b[0m | \u001b[0m0.02016  \u001b[0m | \u001b[0m0.6263   \u001b[0m |\n",
      "| \u001b[0m93       \u001b[0m | \u001b[0m0.08258  \u001b[0m | \u001b[0m0.8854   \u001b[0m | \u001b[0m0.0689   \u001b[0m | \u001b[0m10.7     \u001b[0m | \u001b[0m68.99    \u001b[0m | \u001b[0m3.423    \u001b[0m | \u001b[0m1.754e+03\u001b[0m | \u001b[0m84.89    \u001b[0m | \u001b[0m0.09422  \u001b[0m | \u001b[0m0.09352  \u001b[0m | \u001b[0m0.5883   \u001b[0m |\n",
      "| \u001b[0m94       \u001b[0m | \u001b[0m0.08287  \u001b[0m | \u001b[0m0.8032   \u001b[0m | \u001b[0m0.06215  \u001b[0m | \u001b[0m13.0     \u001b[0m | \u001b[0m83.08    \u001b[0m | \u001b[0m0.3666   \u001b[0m | \u001b[0m3.75e+03 \u001b[0m | \u001b[0m86.75    \u001b[0m | \u001b[0m0.003801 \u001b[0m | \u001b[0m0.08229  \u001b[0m | \u001b[0m0.5553   \u001b[0m |\n",
      "| \u001b[0m95       \u001b[0m | \u001b[0m0.08541  \u001b[0m | \u001b[0m0.6786   \u001b[0m | \u001b[0m0.06938  \u001b[0m | \u001b[0m5.285    \u001b[0m | \u001b[0m86.37    \u001b[0m | \u001b[0m2.173    \u001b[0m | \u001b[0m1.757e+03\u001b[0m | \u001b[0m89.49    \u001b[0m | \u001b[0m0.07274  \u001b[0m | \u001b[0m0.06286  \u001b[0m | \u001b[0m0.6738   \u001b[0m |\n",
      "| \u001b[0m96       \u001b[0m | \u001b[0m0.08251  \u001b[0m | \u001b[0m0.6776   \u001b[0m | \u001b[0m0.04244  \u001b[0m | \u001b[0m12.07    \u001b[0m | \u001b[0m81.54    \u001b[0m | \u001b[0m2.321    \u001b[0m | \u001b[0m1.757e+03\u001b[0m | \u001b[0m74.43    \u001b[0m | \u001b[0m0.09123  \u001b[0m | \u001b[0m0.02644  \u001b[0m | \u001b[0m0.742    \u001b[0m |\n",
      "| \u001b[0m97       \u001b[0m | \u001b[0m0.08385  \u001b[0m | \u001b[0m0.5171   \u001b[0m | \u001b[0m0.03346  \u001b[0m | \u001b[0m7.165    \u001b[0m | \u001b[0m35.52    \u001b[0m | \u001b[0m3.843    \u001b[0m | \u001b[0m1.761e+03\u001b[0m | \u001b[0m78.11    \u001b[0m | \u001b[0m0.006908 \u001b[0m | \u001b[0m0.001372 \u001b[0m | \u001b[0m0.5392   \u001b[0m |\n",
      "| \u001b[0m98       \u001b[0m | \u001b[0m0.08312  \u001b[0m | \u001b[0m0.5349   \u001b[0m | \u001b[0m0.04131  \u001b[0m | \u001b[0m8.74     \u001b[0m | \u001b[0m50.08    \u001b[0m | \u001b[0m9.926    \u001b[0m | \u001b[0m5.713e+03\u001b[0m | \u001b[0m87.99    \u001b[0m | \u001b[0m0.03653  \u001b[0m | \u001b[0m0.09709  \u001b[0m | \u001b[0m0.7183   \u001b[0m |\n",
      "| \u001b[0m99       \u001b[0m | \u001b[0m0.08311  \u001b[0m | \u001b[0m0.5759   \u001b[0m | \u001b[0m0.07422  \u001b[0m | \u001b[0m9.518    \u001b[0m | \u001b[0m85.31    \u001b[0m | \u001b[0m8.252    \u001b[0m | \u001b[0m1.762e+03\u001b[0m | \u001b[0m79.62    \u001b[0m | \u001b[0m0.02656  \u001b[0m | \u001b[0m0.01318  \u001b[0m | \u001b[0m0.7336   \u001b[0m |\n",
      "| \u001b[0m100      \u001b[0m | \u001b[0m0.08414  \u001b[0m | \u001b[0m0.78     \u001b[0m | \u001b[0m0.09227  \u001b[0m | \u001b[0m12.35    \u001b[0m | \u001b[0m96.59    \u001b[0m | \u001b[0m0.02717  \u001b[0m | \u001b[0m3.763e+03\u001b[0m | \u001b[0m84.64    \u001b[0m | \u001b[0m0.01837  \u001b[0m | \u001b[0m0.09844  \u001b[0m | \u001b[0m0.623    \u001b[0m |\n",
      "| \u001b[0m101      \u001b[0m | \u001b[0m0.08767  \u001b[0m | \u001b[0m0.9255   \u001b[0m | \u001b[0m0.06239  \u001b[0m | \u001b[0m4.272    \u001b[0m | \u001b[0m56.48    \u001b[0m | \u001b[0m7.094    \u001b[0m | \u001b[0m1.771e+03\u001b[0m | \u001b[0m72.13    \u001b[0m | \u001b[0m0.002709 \u001b[0m | \u001b[0m0.05575  \u001b[0m | \u001b[0m0.869    \u001b[0m |\n"
     ]
    },
    {
     "name": "stdout",
     "output_type": "stream",
     "text": [
      "| \u001b[0m102      \u001b[0m | \u001b[0m0.09731  \u001b[0m | \u001b[0m0.5149   \u001b[0m | \u001b[0m0.05608  \u001b[0m | \u001b[0m3.665    \u001b[0m | \u001b[0m48.15    \u001b[0m | \u001b[0m3.83     \u001b[0m | \u001b[0m1.748e+03\u001b[0m | \u001b[0m92.47    \u001b[0m | \u001b[0m0.008095 \u001b[0m | \u001b[0m0.06249  \u001b[0m | \u001b[0m0.8877   \u001b[0m |\n",
      "| \u001b[95m103      \u001b[0m | \u001b[95m0.1688   \u001b[0m | \u001b[95m0.7956   \u001b[0m | \u001b[95m0.001343 \u001b[0m | \u001b[95m3.371    \u001b[0m | \u001b[95m40.73    \u001b[0m | \u001b[95m9.029    \u001b[0m | \u001b[95m1.75e+03 \u001b[0m | \u001b[95m94.66    \u001b[0m | \u001b[95m0.07258  \u001b[0m | \u001b[95m0.02303  \u001b[0m | \u001b[95m0.9124   \u001b[0m |\n",
      "| \u001b[0m104      \u001b[0m | \u001b[0m0.08508  \u001b[0m | \u001b[0m0.6668   \u001b[0m | \u001b[0m0.06675  \u001b[0m | \u001b[0m5.796    \u001b[0m | \u001b[0m28.88    \u001b[0m | \u001b[0m2.342    \u001b[0m | \u001b[0m1.746e+03\u001b[0m | \u001b[0m89.39    \u001b[0m | \u001b[0m0.05557  \u001b[0m | \u001b[0m0.06964  \u001b[0m | \u001b[0m0.8224   \u001b[0m |\n",
      "| \u001b[0m105      \u001b[0m | \u001b[0m0.08255  \u001b[0m | \u001b[0m0.9183   \u001b[0m | \u001b[0m0.07633  \u001b[0m | \u001b[0m12.87    \u001b[0m | \u001b[0m27.55    \u001b[0m | \u001b[0m8.666    \u001b[0m | \u001b[0m1.759e+03\u001b[0m | \u001b[0m92.47    \u001b[0m | \u001b[0m0.007287 \u001b[0m | \u001b[0m0.04543  \u001b[0m | \u001b[0m0.9737   \u001b[0m |\n",
      "| \u001b[0m106      \u001b[0m | \u001b[0m0.09323  \u001b[0m | \u001b[0m0.6256   \u001b[0m | \u001b[0m0.01011  \u001b[0m | \u001b[0m5.952    \u001b[0m | \u001b[0m36.94    \u001b[0m | \u001b[0m3.88     \u001b[0m | \u001b[0m1.745e+03\u001b[0m | \u001b[0m97.72    \u001b[0m | \u001b[0m0.09762  \u001b[0m | \u001b[0m0.07474  \u001b[0m | \u001b[0m0.9671   \u001b[0m |\n",
      "| \u001b[0m107      \u001b[0m | \u001b[0m0.1051   \u001b[0m | \u001b[0m0.7627   \u001b[0m | \u001b[0m0.02163  \u001b[0m | \u001b[0m3.473    \u001b[0m | \u001b[0m33.24    \u001b[0m | \u001b[0m4.719    \u001b[0m | \u001b[0m1.76e+03 \u001b[0m | \u001b[0m95.68    \u001b[0m | \u001b[0m0.0971   \u001b[0m | \u001b[0m0.0545   \u001b[0m | \u001b[0m0.9532   \u001b[0m |\n",
      "| \u001b[0m108      \u001b[0m | \u001b[0m0.08482  \u001b[0m | \u001b[0m0.5105   \u001b[0m | \u001b[0m0.01576  \u001b[0m | \u001b[0m8.57     \u001b[0m | \u001b[0m53.38    \u001b[0m | \u001b[0m6.409    \u001b[0m | \u001b[0m1.746e+03\u001b[0m | \u001b[0m99.28    \u001b[0m | \u001b[0m0.0314   \u001b[0m | \u001b[0m0.01192  \u001b[0m | \u001b[0m0.6145   \u001b[0m |\n",
      "| \u001b[0m109      \u001b[0m | \u001b[0m0.1373   \u001b[0m | \u001b[0m0.5764   \u001b[0m | \u001b[0m0.003212 \u001b[0m | \u001b[0m3.413    \u001b[0m | \u001b[0m46.21    \u001b[0m | \u001b[0m6.142    \u001b[0m | \u001b[0m1.76e+03 \u001b[0m | \u001b[0m89.03    \u001b[0m | \u001b[0m0.0546   \u001b[0m | \u001b[0m0.0264   \u001b[0m | \u001b[0m0.8021   \u001b[0m |\n",
      "| \u001b[0m110      \u001b[0m | \u001b[0m0.08339  \u001b[0m | \u001b[0m0.8978   \u001b[0m | \u001b[0m0.03376  \u001b[0m | \u001b[0m9.816    \u001b[0m | \u001b[0m92.3     \u001b[0m | \u001b[0m6.456    \u001b[0m | \u001b[0m3.599e+03\u001b[0m | \u001b[0m28.79    \u001b[0m | \u001b[0m0.07962  \u001b[0m | \u001b[0m0.0176   \u001b[0m | \u001b[0m0.8939   \u001b[0m |\n",
      "| \u001b[0m111      \u001b[0m | \u001b[0m0.08244  \u001b[0m | \u001b[0m0.8639   \u001b[0m | \u001b[0m0.03489  \u001b[0m | \u001b[0m9.017    \u001b[0m | \u001b[0m42.16    \u001b[0m | \u001b[0m7.004    \u001b[0m | \u001b[0m1.748e+03\u001b[0m | \u001b[0m99.03    \u001b[0m | \u001b[0m0.01425  \u001b[0m | \u001b[0m0.06466  \u001b[0m | \u001b[0m0.5179   \u001b[0m |\n",
      "| \u001b[0m112      \u001b[0m | \u001b[0m0.08413  \u001b[0m | \u001b[0m0.5962   \u001b[0m | \u001b[0m0.08425  \u001b[0m | \u001b[0m6.339    \u001b[0m | \u001b[0m90.85    \u001b[0m | \u001b[0m6.596    \u001b[0m | \u001b[0m4.439e+03\u001b[0m | \u001b[0m73.65    \u001b[0m | \u001b[0m0.005513 \u001b[0m | \u001b[0m0.09758  \u001b[0m | \u001b[0m0.9422   \u001b[0m |\n",
      "| \u001b[0m113      \u001b[0m | \u001b[0m0.08252  \u001b[0m | \u001b[0m0.8344   \u001b[0m | \u001b[0m0.04943  \u001b[0m | \u001b[0m8.813    \u001b[0m | \u001b[0m37.96    \u001b[0m | \u001b[0m5.907    \u001b[0m | \u001b[0m1.762e+03\u001b[0m | \u001b[0m87.28    \u001b[0m | \u001b[0m0.03479  \u001b[0m | \u001b[0m0.07107  \u001b[0m | \u001b[0m0.6737   \u001b[0m |\n",
      "| \u001b[0m114      \u001b[0m | \u001b[0m0.08272  \u001b[0m | \u001b[0m0.7321   \u001b[0m | \u001b[0m0.03519  \u001b[0m | \u001b[0m8.3      \u001b[0m | \u001b[0m45.25    \u001b[0m | \u001b[0m0.3535   \u001b[0m | \u001b[0m1.765e+03\u001b[0m | \u001b[0m90.97    \u001b[0m | \u001b[0m0.03048  \u001b[0m | \u001b[0m0.01716  \u001b[0m | \u001b[0m0.5224   \u001b[0m |\n",
      "| \u001b[0m115      \u001b[0m | \u001b[0m0.08346  \u001b[0m | \u001b[0m0.8191   \u001b[0m | \u001b[0m0.09809  \u001b[0m | \u001b[0m8.648    \u001b[0m | \u001b[0m40.68    \u001b[0m | \u001b[0m7.313    \u001b[0m | \u001b[0m1.761e+03\u001b[0m | \u001b[0m93.39    \u001b[0m | \u001b[0m0.03994  \u001b[0m | \u001b[0m0.0894   \u001b[0m | \u001b[0m0.9356   \u001b[0m |\n",
      "| \u001b[0m116      \u001b[0m | \u001b[0m0.08319  \u001b[0m | \u001b[0m0.7734   \u001b[0m | \u001b[0m0.02648  \u001b[0m | \u001b[0m8.287    \u001b[0m | \u001b[0m43.06    \u001b[0m | \u001b[0m9.77     \u001b[0m | \u001b[0m1.747e+03\u001b[0m | \u001b[0m84.32    \u001b[0m | \u001b[0m0.01938  \u001b[0m | \u001b[0m0.0385   \u001b[0m | \u001b[0m0.9961   \u001b[0m |\n",
      "| \u001b[0m117      \u001b[0m | \u001b[0m0.08238  \u001b[0m | \u001b[0m0.8295   \u001b[0m | \u001b[0m0.0197   \u001b[0m | \u001b[0m13.47    \u001b[0m | \u001b[0m99.84    \u001b[0m | \u001b[0m7.029    \u001b[0m | \u001b[0m3.618e+03\u001b[0m | \u001b[0m73.34    \u001b[0m | \u001b[0m0.01836  \u001b[0m | \u001b[0m0.03659  \u001b[0m | \u001b[0m0.9339   \u001b[0m |\n",
      "| \u001b[0m118      \u001b[0m | \u001b[0m0.08496  \u001b[0m | \u001b[0m0.9834   \u001b[0m | \u001b[0m0.09698  \u001b[0m | \u001b[0m11.18    \u001b[0m | \u001b[0m10.86    \u001b[0m | \u001b[0m4.351    \u001b[0m | \u001b[0m8.935e+03\u001b[0m | \u001b[0m76.3     \u001b[0m | \u001b[0m0.0828   \u001b[0m | \u001b[0m0.05855  \u001b[0m | \u001b[0m0.9464   \u001b[0m |\n",
      "| \u001b[0m119      \u001b[0m | \u001b[0m0.08297  \u001b[0m | \u001b[0m0.7808   \u001b[0m | \u001b[0m0.05535  \u001b[0m | \u001b[0m7.737    \u001b[0m | \u001b[0m29.8     \u001b[0m | \u001b[0m1.565    \u001b[0m | \u001b[0m1.763e+03\u001b[0m | \u001b[0m99.6     \u001b[0m | \u001b[0m0.06859  \u001b[0m | \u001b[0m0.03404  \u001b[0m | \u001b[0m0.7805   \u001b[0m |\n",
      "| \u001b[0m120      \u001b[0m | \u001b[0m0.08515  \u001b[0m | \u001b[0m0.9762   \u001b[0m | \u001b[0m0.06174  \u001b[0m | \u001b[0m5.662    \u001b[0m | \u001b[0m32.48    \u001b[0m | \u001b[0m9.431    \u001b[0m | \u001b[0m1.748e+03\u001b[0m | \u001b[0m89.79    \u001b[0m | \u001b[0m0.06636  \u001b[0m | \u001b[0m0.04545  \u001b[0m | \u001b[0m0.6394   \u001b[0m |\n",
      "=================================================================================================================================================\n",
      "Iteration 0: \n",
      "\t{'target': 0.08780705886433693, 'params': {'colsample_bytree': 0.9440125734360121, 'learning_rate': 0.08165890365721117, 'max_depth': 3.4393936351007786, 'min_child_samples': 88.6761184102867, 'min_child_weight': 1.8144772067065524, 'n_estimators': 6227.445561287082, 'num_leaves': 50.822329463361406, 'reg_alpha': 0.029698280906029415, 'reg_lambda': 0.07577529058612584, 'subsample': 0.5062861056295858}}\n",
      "Iteration 1: \n",
      "\t{'target': 0.08232114469239331, 'params': {'colsample_bytree': 0.7589018064988686, 'learning_rate': 0.029960309802215052, 'max_depth': 12.243506838380085, 'min_child_samples': 80.44607728159764, 'min_child_weight': 3.445805773419485, 'n_estimators': 4052.8430595817067, 'num_leaves': 59.687498986582426, 'reg_alpha': 0.04043585502988617, 'reg_lambda': 0.017127155450821413, 'subsample': 0.6141717743540229}}\n",
      "Iteration 2: \n",
      "\t{'target': 0.08346887317648757, 'params': {'colsample_bytree': 0.9122161136776239, 'learning_rate': 0.06042263944192609, 'max_depth': 10.289830871329022, 'min_child_samples': 29.12374009365437, 'min_child_weight': 5.112119926428706, 'n_estimators': 9647.352813514774, 'num_leaves': 37.81546369061392, 'reg_alpha': 0.07855427437336196, 'reg_lambda': 0.04998536056000158, 'subsample': 0.9995262332801457}}\n",
      "Iteration 3: \n",
      "\t{'target': 0.08354531093980276, 'params': {'colsample_bytree': 0.6605009859026703, 'learning_rate': 0.01264987143321181, 'max_depth': 14.105753257304158, 'min_child_samples': 88.61386070611684, 'min_child_weight': 7.508755378749527, 'n_estimators': 3353.743481128414, 'num_leaves': 64.18335477713916, 'reg_alpha': 0.033486908864313075, 'reg_lambda': 0.06822422368798402, 'subsample': 0.6110251814819618}}\n",
      "Iteration 4: \n",
      "\t{'target': 0.08209667128226067, 'params': {'colsample_bytree': 0.6095273009582869, 'learning_rate': 0.024107476404579647, 'max_depth': 11.388977604836331, 'min_child_samples': 45.40087026986469, 'min_child_weight': 9.723943533457547, 'n_estimators': 6555.879125551931, 'num_leaves': 75.20647302060883, 'reg_alpha': 0.041526569669122416, 'reg_lambda': 0.062374660322171475, 'subsample': 0.5438596881992792}}\n",
      "Iteration 5: \n",
      "\t{'target': 0.08369862219458704, 'params': {'colsample_bytree': 0.5519484916080333, 'learning_rate': 0.08852663298160084, 'max_depth': 11.149996858683085, 'min_child_samples': 18.991765061525868, 'min_child_weight': 2.0347364481162473, 'n_estimators': 8989.015208098377, 'num_leaves': 24.99385738345338, 'reg_alpha': 0.029814314707881113, 'reg_lambda': 0.016304359106958998, 'subsample': 0.6671535138627003}}\n",
      "Iteration 6: \n",
      "\t{'target': 0.08251971752673566, 'params': {'colsample_bytree': 0.675269382643217, 'learning_rate': 0.03051132638463223, 'max_depth': 10.049679436693733, 'min_child_samples': 28.531067007099626, 'min_child_weight': 3.1082291392944965, 'n_estimators': 4545.523563457775, 'num_leaves': 39.20549103796445, 'reg_alpha': 0.044753484311295784, 'reg_lambda': 0.03196526844541197, 'subsample': 0.7240870571534853}}\n",
      "Iteration 7: \n",
      "\t{'target': 0.0830075443532261, 'params': {'colsample_bytree': 0.8978531643077816, 'learning_rate': 0.04076505522859189, 'max_depth': 9.17211899795453, 'min_child_samples': 57.322068209533235, 'min_child_weight': 5.94959083614662, 'n_estimators': 4621.501818026623, 'num_leaves': 30.935851039817443, 'reg_alpha': 0.02189283765413844, 'reg_lambda': 0.003756163221970817, 'subsample': 0.818405921116892}}\n",
      "Iteration 8: \n",
      "\t{'target': 0.08967156601613893, 'params': {'colsample_bytree': 0.8581856024375216, 'learning_rate': 0.039615919805040166, 'max_depth': 4.715894917752896, 'min_child_samples': 69.21778943956551, 'min_child_weight': 8.864924139505304, 'n_estimators': 1755.5336013534977, 'num_leaves': 66.04625361958465, 'reg_alpha': 0.009898706777817158, 'reg_lambda': 0.058669097611302255, 'subsample': 0.7037954161474282}}\n",
      "Iteration 9: \n",
      "\t{'target': 0.08372770259944236, 'params': {'colsample_bytree': 0.7900438671876727, 'learning_rate': 0.01866034195232282, 'max_depth': 6.562411243283364, 'min_child_samples': 81.7321237377921, 'min_child_weight': 6.438630525856346, 'n_estimators': 6137.710420364339, 'num_leaves': 50.54274880439341, 'reg_alpha': 0.08629717839178484, 'reg_lambda': 0.013142839710229871, 'subsample': 0.9882529246461238}}\n",
      "Iteration 10: \n",
      "\t{'target': 0.09403522849686755, 'params': {'colsample_bytree': 0.8123185706400986, 'learning_rate': 0.022610451168898205, 'max_depth': 3.8080401822558336, 'min_child_samples': 64.38038071412802, 'min_child_weight': 6.576124248710686, 'n_estimators': 5732.375316889837, 'num_leaves': 85.39237964286767, 'reg_alpha': 0.055236150314116286, 'reg_lambda': 0.08431942351692116, 'subsample': 0.7569846090147021}}\n",
      "Iteration 11: \n",
      "\t{'target': 0.08215801343221615, 'params': {'colsample_bytree': 0.7431479884290555, 'learning_rate': 0.04162324864861595, 'max_depth': 14.274919658732683, 'min_child_samples': 79.55162446315275, 'min_child_weight': 3.484018841852836, 'n_estimators': 2146.69135230757, 'num_leaves': 87.3018311862292, 'reg_alpha': 0.09246989645157407, 'reg_lambda': 0.057629810282512815, 'subsample': 0.6978419114591079}}\n",
      "Iteration 12: \n",
      "\t{'target': 0.08492322400644811, 'params': {'colsample_bytree': 0.885458129174207, 'learning_rate': 0.08567692528032085, 'max_depth': 14.26312195303557, 'min_child_samples': 71.77807147927768, 'min_child_weight': 5.18195155452996, 'n_estimators': 8860.9889104066, 'num_leaves': 44.001186048276715, 'reg_alpha': 0.020154980973730117, 'reg_lambda': 0.09127560925987548, 'subsample': 0.657683859191057}}\n",
      "Iteration 13: \n",
      "\t{'target': 0.08422669353111437, 'params': {'colsample_bytree': 0.6714162587877468, 'learning_rate': 0.02610432422292989, 'max_depth': 8.67826254658282, 'min_child_samples': 73.58630713683606, 'min_child_weight': 4.023468090072024, 'n_estimators': 1722.8908870005062, 'num_leaves': 51.05979718144123, 'reg_alpha': 0.05121319360687519, 'reg_lambda': 0.02696920083198008, 'subsample': 0.7231047923228602}}\n",
      "Iteration 14: \n",
      "\t{'target': 0.0927080434521947, 'params': {'colsample_bytree': 0.9404900509249875, 'learning_rate': 0.040558588594136524, 'max_depth': 3.6563899514841176, 'min_child_samples': 97.39665273247796, 'min_child_weight': 5.652874740899361, 'n_estimators': 3587.167418203259, 'num_leaves': 43.30258273452681, 'reg_alpha': 0.009773476690234355, 'reg_lambda': 0.0062812196410271075, 'subsample': 0.8782049789663933}}\n",
      "Iteration 15: \n",
      "\t{'target': 0.08460842806208396, 'params': {'colsample_bytree': 0.9531214153767897, 'learning_rate': 0.0632894278727695, 'max_depth': 8.736992999784574, 'min_child_samples': 86.2670820146865, 'min_child_weight': 1.3662759852169868, 'n_estimators': 6108.978737782702, 'num_leaves': 68.53330372104534, 'reg_alpha': 0.0027491705062044815, 'reg_lambda': 0.013485418860329189, 'subsample': 0.8221866323878722}}\n",
      "Iteration 16: \n",
      "\t{'target': 0.08297168768751642, 'params': {'colsample_bytree': 0.5007284785015843, 'learning_rate': 0.044977676994341936, 'max_depth': 10.368205181015103, 'min_child_samples': 36.02384347019008, 'min_child_weight': 1.400368527497133, 'n_estimators': 2311.921309371706, 'num_leaves': 60.38995834682836, 'reg_alpha': 0.016808486436222708, 'reg_lambda': 0.004127359741263225, 'subsample': 0.5430894906011055}}\n",
      "Iteration 17: \n",
      "\t{'target': 0.08462322084879881, 'params': {'colsample_bytree': 0.5188662807911189, 'learning_rate': 0.064325776088677, 'max_depth': 6.934187379566202, 'min_child_samples': 56.32262758889162, 'min_child_weight': 1.939611862257957, 'n_estimators': 9814.610355498697, 'num_leaves': 36.73866639418606, 'reg_alpha': 0.03894187569898997, 'reg_lambda': 0.08535997172583924, 'subsample': 0.5770331530143257}}\n",
      "Iteration 18: \n",
      "\t{'target': 0.08282879942220588, 'params': {'colsample_bytree': 0.690460864339274, 'learning_rate': 0.06285705825398177, 'max_depth': 11.795174200922593, 'min_child_samples': 46.37450260258109, 'min_child_weight': 2.6673062620391454, 'n_estimators': 4368.923320307247, 'num_leaves': 41.115620018434875, 'reg_alpha': 0.021461067287213788, 'reg_lambda': 0.06085159630815178, 'subsample': 0.6222830263660803}}\n",
      "Iteration 19: \n",
      "\t{'target': 0.09683907327098429, 'params': {'colsample_bytree': 0.9438989686644386, 'learning_rate': 0.021534406645215883, 'max_depth': 3.8773174150382195, 'min_child_samples': 95.70848516696347, 'min_child_weight': 4.527426395509217, 'n_estimators': 3759.04122829913, 'num_leaves': 76.41782001990182, 'reg_alpha': 0.03658047256381486, 'reg_lambda': 0.04747002276572881, 'subsample': 0.5100166201978314}}\n",
      "Iteration 20: \n",
      "\t{'target': 0.09012164653898531, 'params': {'colsample_bytree': 0.7321520690260757, 'learning_rate': 0.07662695648089989, 'max_depth': 3.9012923291523283, 'min_child_samples': 94.46163463530006, 'min_child_weight': 7.010251257912669, 'n_estimators': 3761.2384502465125, 'num_leaves': 78.21650767061683, 'reg_alpha': 0.09877503192481624, 'reg_lambda': 0.09619613175474917, 'subsample': 0.7505575553695305}}\n",
      "Iteration 21: \n",
      "\t{'target': 0.0854607920639358, 'params': {'colsample_bytree': 0.9615078383462028, 'learning_rate': 0.050920328575842014, 'max_depth': 4.063596469544116, 'min_child_samples': 69.04365860362242, 'min_child_weight': 7.719170970974697, 'n_estimators': 5724.256682425898, 'num_leaves': 84.61494279425882, 'reg_alpha': 0.0022542358803525364, 'reg_lambda': 0.029808948568713516, 'subsample': 0.8567463187258927}}\n",
      "Iteration 22: \n",
      "\t{'target': 0.08349241625440251, 'params': {'colsample_bytree': 0.652925974266813, 'learning_rate': 0.05048916040601554, 'max_depth': 7.715812213879936, 'min_child_samples': 62.875326575683715, 'min_child_weight': 1.9740014135249881, 'n_estimators': 5728.126139614722, 'num_leaves': 75.87933349949003, 'reg_alpha': 0.07827836275233352, 'reg_lambda': 0.09541064832329191, 'subsample': 0.6989351479872604}}\n",
      "Iteration 23: \n",
      "\t{'target': 0.08548922076664986, 'params': {'colsample_bytree': 0.7661627601881267, 'learning_rate': 0.09772278768933482, 'max_depth': 11.405753707930366, 'min_child_samples': 58.243584966903946, 'min_child_weight': 1.6379546693875802, 'n_estimators': 5735.012330412302, 'num_leaves': 92.85890679882601, 'reg_alpha': 0.06538721191412597, 'reg_lambda': 0.030077278698114655, 'subsample': 0.9611323356531348}}\n",
      "Iteration 24: \n",
      "\t{'target': 0.08940620464816026, 'params': {'colsample_bytree': 0.8657492895842971, 'learning_rate': 0.0201921445886643, 'max_depth': 4.582855469636664, 'min_child_samples': 96.82199569242322, 'min_child_weight': 8.42273175316132, 'n_estimators': 3764.781989690266, 'num_leaves': 82.19955977812782, 'reg_alpha': 0.06361905134876923, 'reg_lambda': 0.02466309624414919, 'subsample': 0.5880767111005001}}\n",
      "Iteration 25: \n",
      "\t{'target': 0.10802107627479454, 'params': {'colsample_bytree': 0.6405474843520025, 'learning_rate': 0.017215431609361127, 'max_depth': 3.631230872517898, 'min_child_samples': 69.20260660532728, 'min_child_weight': 6.274686209691685, 'n_estimators': 1763.6962937963547, 'num_leaves': 65.8998166477653, 'reg_alpha': 0.04283938204723866, 'reg_lambda': 0.029398208758772013, 'subsample': 0.8211638540378366}}\n",
      "Iteration 26: \n",
      "\t{'target': 0.09635252910171088, 'params': {'colsample_bytree': 0.676573577159131, 'learning_rate': 0.057144655616581476, 'max_depth': 3.9508550581681705, 'min_child_samples': 58.595286891628774, 'min_child_weight': 6.551349221960248, 'n_estimators': 1760.2000881213194, 'num_leaves': 72.24555112509218, 'reg_alpha': 0.06208422404364284, 'reg_lambda': 0.04003701032428093, 'subsample': 0.7958411213785366}}\n",
      "Iteration 27: \n",
      "\t{'target': 0.08286957898227666, 'params': {'colsample_bytree': 0.70075436878453, 'learning_rate': 0.03387726035732761, 'max_depth': 9.989166927973203, 'min_child_samples': 66.70030340357332, 'min_child_weight': 3.372746413206207, 'n_estimators': 1769.7125150820182, 'num_leaves': 76.10887669329234, 'reg_alpha': 0.07225307499238627, 'reg_lambda': 0.05213596849173273, 'subsample': 0.9375093455872174}}\n",
      "Iteration 28: \n",
      "\t{'target': 0.08455873695550845, 'params': {'colsample_bytree': 0.7599472649416653, 'learning_rate': 0.02171401524275349, 'max_depth': 7.017528962514226, 'min_child_samples': 74.28537422626992, 'min_child_weight': 2.3706544027018808, 'n_estimators': 1766.031720760931, 'num_leaves': 68.53313740498115, 'reg_alpha': 0.020978522676243932, 'reg_lambda': 0.06899693833405968, 'subsample': 0.7843451502344299}}\n",
      "Iteration 29: \n",
      "\t{'target': 0.08881783070519093, 'params': {'colsample_bytree': 0.7261149830830003, 'learning_rate': 0.0040734788129300065, 'max_depth': 9.618668289323557, 'min_child_samples': 98.81843386792967, 'min_child_weight': 1.7628039554939463, 'n_estimators': 3584.3237887221057, 'num_leaves': 39.91832389653389, 'reg_alpha': 0.00709085834171416, 'reg_lambda': 0.046811869338013644, 'subsample': 0.864668098286433}}\n",
      "Iteration 30: \n",
      "\t{'target': 0.08298092878765106, 'params': {'colsample_bytree': 0.7520566386901534, 'learning_rate': 0.08184713085924579, 'max_depth': 9.622647576404887, 'min_child_samples': 66.38126377582813, 'min_child_weight': 9.758109029438913, 'n_estimators': 1756.7643909639482, 'num_leaves': 69.48289045146765, 'reg_alpha': 0.037615867725489215, 'reg_lambda': 0.05754429832832404, 'subsample': 0.585984878966078}}\n",
      "Iteration 31: \n",
      "\t{'target': 0.08564930773184005, 'params': {'colsample_bytree': 0.5682239884277686, 'learning_rate': 0.09834751719604963, 'max_depth': 7.33126183648226, 'min_child_samples': 71.0255269450775, 'min_child_weight': 2.4095213520761964, 'n_estimators': 5733.310730827885, 'num_leaves': 85.67230736443113, 'reg_alpha': 0.0754702160299938, 'reg_lambda': 0.008472300942776123, 'subsample': 0.7616404237130897}}\n",
      "Iteration 32: \n",
      "\t{'target': 0.08300381435020612, 'params': {'colsample_bytree': 0.6418138470072773, 'learning_rate': 0.08155804887721674, 'max_depth': 9.724078946607303, 'min_child_samples': 55.062467451588276, 'min_child_weight': 7.21679714313852, 'n_estimators': 1756.9236730111274, 'num_leaves': 63.85048639327445, 'reg_alpha': 0.03910824147122395, 'reg_lambda': 0.0902767825576819, 'subsample': 0.813607077307785}}\n",
      "Iteration 33: \n",
      "\t{'target': 0.08819765881774373, 'params': {'colsample_bytree': 0.7715640076460859, 'learning_rate': 0.08256118452756518, 'max_depth': 3.5657597144830806, 'min_child_samples': 66.96683602041927, 'min_child_weight': 9.622787612459804, 'n_estimators': 5737.4618503588445, 'num_leaves': 89.33799537944492, 'reg_alpha': 0.031130809423774546, 'reg_lambda': 0.008088940660902003, 'subsample': 0.7741245107325078}}\n",
      "Iteration 34: \n",
      "\t{'target': 0.08321872054507078, 'params': {'colsample_bytree': 0.9899425618772667, 'learning_rate': 0.07479636283087913, 'max_depth': 8.922157825267309, 'min_child_samples': 64.94539331972669, 'min_child_weight': 6.330057659906276, 'n_estimators': 1763.545252283574, 'num_leaves': 71.77719084738084, 'reg_alpha': 0.06151267098463733, 'reg_lambda': 0.010766719810510236, 'subsample': 0.9814574944061016}}\n",
      "Iteration 35: \n",
      "\t{'target': 0.09376837295189219, 'params': {'colsample_bytree': 0.6902369413600984, 'learning_rate': 0.039106078075956806, 'max_depth': 3.3190682959701547, 'min_child_samples': 98.29928484119495, 'min_child_weight': 9.34851690718047, 'n_estimators': 3762.7572026436164, 'num_leaves': 92.11472493133157, 'reg_alpha': 0.07221364123308596, 'reg_lambda': 0.03155859852426858, 'subsample': 0.9112449043690563}}\n",
      "Iteration 36: \n",
      "\t{'target': 0.08305987497878191, 'params': {'colsample_bytree': 0.5256134767046545, 'learning_rate': 0.04532783371390909, 'max_depth': 8.505486996421864, 'min_child_samples': 96.41088921375732, 'min_child_weight': 5.748330760454485, 'n_estimators': 3758.1778084389775, 'num_leaves': 69.70566125929282, 'reg_alpha': 0.0293420591332766, 'reg_lambda': 0.02612009144149234, 'subsample': 0.7989270205680006}}\n",
      "Iteration 37: \n",
      "\t{'target': 0.08849055891080379, 'params': {'colsample_bytree': 0.8496361030494246, 'learning_rate': 0.07327058188148211, 'max_depth': 3.3241923208435695, 'min_child_samples': 61.092675926144565, 'min_child_weight': 0.6135159275409571, 'n_estimators': 5743.490999297638, 'num_leaves': 87.05406548083847, 'reg_alpha': 0.03927962729724028, 'reg_lambda': 0.04420226516127835, 'subsample': 0.5279185501015744}}\n",
      "Iteration 38: \n",
      "\t{'target': 0.0917742440161097, 'params': {'colsample_bytree': 0.8795685721895579, 'learning_rate': 0.007850777949379429, 'max_depth': 4.334824459639295, 'min_child_samples': 63.499559875408735, 'min_child_weight': 7.662993457972112, 'n_estimators': 5727.028943843028, 'num_leaves': 82.14905873678059, 'reg_alpha': 0.09229919390889758, 'reg_lambda': 0.07585776782614412, 'subsample': 0.9671105463174499}}\n",
      "Iteration 39: \n",
      "\t{'target': 0.08843245442261528, 'params': {'colsample_bytree': 0.6346378345178851, 'learning_rate': 0.05867867139516034, 'max_depth': 4.397750577477144, 'min_child_samples': 68.98506788812199, 'min_child_weight': 6.997222184358659, 'n_estimators': 1771.7325286966818, 'num_leaves': 65.38663364961349, 'reg_alpha': 0.07895588615047375, 'reg_lambda': 0.09232656298089899, 'subsample': 0.5898578590243414}}\n",
      "Iteration 40: \n",
      "\t{'target': 0.09437831981770889, 'params': {'colsample_bytree': 0.9624497951407929, 'learning_rate': 0.06098765765949575, 'max_depth': 3.9686781290307183, 'min_child_samples': 76.08821382987291, 'min_child_weight': 1.5895888828499711, 'n_estimators': 1753.1609512975024, 'num_leaves': 63.59805745356668, 'reg_alpha': 0.05904987023889979, 'reg_lambda': 0.013815431052096584, 'subsample': 0.8376388412663585}}\n",
      "Iteration 41: \n",
      "\t{'target': 0.08268567856086004, 'params': {'colsample_bytree': 0.7975394012965927, 'learning_rate': 0.033008278838992836, 'max_depth': 10.984801041040429, 'min_child_samples': 98.19956231574004, 'min_child_weight': 4.961986058668911, 'n_estimators': 3580.4010079343143, 'num_leaves': 44.40662911196413, 'reg_alpha': 0.07274260269130045, 'reg_lambda': 0.061563102786678765, 'subsample': 0.6469882057372478}}\n",
      "Iteration 42: \n",
      "\t{'target': 0.0868548846827891, 'params': {'colsample_bytree': 0.584669728719604, 'learning_rate': 0.03992370422314228, 'max_depth': 5.19621142778111, 'min_child_samples': 80.45685675755558, 'min_child_weight': 0.09399945350924513, 'n_estimators': 1751.8965425435513, 'num_leaves': 52.60810136642937, 'reg_alpha': 0.025479074509628077, 'reg_lambda': 0.07988054350703491, 'subsample': 0.7802224583019829}}\n",
      "Iteration 43: \n",
      "\t{'target': 0.08385294804777269, 'params': {'colsample_bytree': 0.8839597508010679, 'learning_rate': 0.08380993012284241, 'max_depth': 6.495201926660961, 'min_child_samples': 67.28177043640656, 'min_child_weight': 8.83927476016829, 'n_estimators': 1767.3913874413345, 'num_leaves': 63.14160900128443, 'reg_alpha': 0.024727094918551337, 'reg_lambda': 0.058930262843131784, 'subsample': 0.9488587525932766}}\n",
      "Iteration 44: \n",
      "\t{'target': 0.08311125593094437, 'params': {'colsample_bytree': 0.6583840129704468, 'learning_rate': 0.09653179922397455, 'max_depth': 10.379976530059938, 'min_child_samples': 69.83386516423076, 'min_child_weight': 0.6679572747860588, 'n_estimators': 1754.9270696281003, 'num_leaves': 59.27325815730964, 'reg_alpha': 0.07785351100877903, 'reg_lambda': 0.04037919070143084, 'subsample': 0.8324389084314241}}\n",
      "Iteration 45: \n",
      "\t{'target': 0.09122049208568137, 'params': {'colsample_bytree': 0.6620538267221882, 'learning_rate': 0.06086339191619332, 'max_depth': 3.961938932351011, 'min_child_samples': 91.16667239674463, 'min_child_weight': 0.7181528598914121, 'n_estimators': 3760.2381163438345, 'num_leaves': 84.81378299524722, 'reg_alpha': 0.08996387547343011, 'reg_lambda': 0.03754698073750162, 'subsample': 0.5998211811353487}}\n",
      "Iteration 46: \n",
      "\t{'target': 0.08313071102566563, 'params': {'colsample_bytree': 0.9056475581216613, 'learning_rate': 0.09937748999489684, 'max_depth': 13.552086064995622, 'min_child_samples': 58.48298597253089, 'min_child_weight': 8.840477686338208, 'n_estimators': 1758.441490102893, 'num_leaves': 74.58140661782166, 'reg_alpha': 0.06422247452070244, 'reg_lambda': 0.05318334980345596, 'subsample': 0.8854222808159358}}\n",
      "Iteration 47: \n",
      "\t{'target': 0.09295609927769999, 'params': {'colsample_bytree': 0.9355349099984295, 'learning_rate': 0.0789874692067864, 'max_depth': 3.3866890156111755, 'min_child_samples': 57.63882861574383, 'min_child_weight': 4.87312902635663, 'n_estimators': 1754.2392855402454, 'num_leaves': 78.1988162329135, 'reg_alpha': 0.02945994915440767, 'reg_lambda': 0.022130538615047348, 'subsample': 0.5050631605859757}}\n",
      "Iteration 48: \n",
      "\t{'target': 0.08610579764955878, 'params': {'colsample_bytree': 0.685891351705674, 'learning_rate': 0.06208618583408123, 'max_depth': 4.2715611814898935, 'min_child_samples': 93.81102012523714, 'min_child_weight': 3.2949773827435975, 'n_estimators': 3761.7547888648633, 'num_leaves': 72.85820237006797, 'reg_alpha': 0.09698752288316792, 'reg_lambda': 0.07977127760335304, 'subsample': 0.9177581321081596}}\n",
      "Iteration 49: \n",
      "\t{'target': 0.08461414211615688, 'params': {'colsample_bytree': 0.8887056189231917, 'learning_rate': 0.0972776603411516, 'max_depth': 5.1088942910623665, 'min_child_samples': 75.92192501617374, 'min_child_weight': 7.861831652325261, 'n_estimators': 1758.1369775030755, 'num_leaves': 64.82425912140093, 'reg_alpha': 0.008951925317793031, 'reg_lambda': 0.011089009724700422, 'subsample': 0.8140447715450774}}\n",
      "Iteration 50: \n",
      "\t{'target': 0.08439779880793612, 'params': {'colsample_bytree': 0.8006619256856129, 'learning_rate': 0.06988582434343081, 'max_depth': 5.796332022120266, 'min_child_samples': 67.80369475470113, 'min_child_weight': 4.246567848710668, 'n_estimators': 5737.784550301297, 'num_leaves': 80.25908828271133, 'reg_alpha': 0.0825196104715058, 'reg_lambda': 0.024369566291487937, 'subsample': 0.7189198682353952}}\n",
      "Iteration 51: \n",
      "\t{'target': 0.08761042760889112, 'params': {'colsample_bytree': 0.6790455187881552, 'learning_rate': 0.07205917262048432, 'max_depth': 4.326384805583974, 'min_child_samples': 81.55267601345703, 'min_child_weight': 1.5066499181987592, 'n_estimators': 1745.8943529080213, 'num_leaves': 64.46246890695, 'reg_alpha': 0.0030707925048201992, 'reg_lambda': 0.05928238262476493, 'subsample': 0.8474727381366038}}\n",
      "Iteration 52: \n",
      "\t{'target': 0.0838639522542365, 'params': {'colsample_bytree': 0.5162860148710537, 'learning_rate': 0.03652274863191978, 'max_depth': 7.038208202215504, 'min_child_samples': 51.1488878582195, 'min_child_weight': 1.1774472046797653, 'n_estimators': 1749.6871246990684, 'num_leaves': 77.25530677416297, 'reg_alpha': 0.052837070294190436, 'reg_lambda': 0.0292875786656817, 'subsample': 0.7577274584201461}}\n",
      "Iteration 53: \n",
      "\t{'target': 0.10114896261013409, 'params': {'colsample_bytree': 0.5002775953741465, 'learning_rate': 0.010131367641436916, 'max_depth': 4.057228879971349, 'min_child_samples': 79.16819177702034, 'min_child_weight': 3.0092127704631637, 'n_estimators': 1752.344308606145, 'num_leaves': 69.96108409169285, 'reg_alpha': 0.048383637997802646, 'reg_lambda': 0.06852619782274508, 'subsample': 0.8912219373333783}}\n",
      "Iteration 54: \n",
      "\t{'target': 0.08635383076443129, 'params': {'colsample_bytree': 0.5623875518374407, 'learning_rate': 0.04822760070705032, 'max_depth': 5.2737545677151, 'min_child_samples': 75.75543442976753, 'min_child_weight': 0.816998043187344, 'n_estimators': 1751.497159348634, 'num_leaves': 60.65747824963907, 'reg_alpha': 0.04600862646680699, 'reg_lambda': 0.08663218307861661, 'subsample': 0.5731818000510803}}\n",
      "Iteration 55: \n",
      "\t{'target': 0.083478063142259, 'params': {'colsample_bytree': 0.7233100217110169, 'learning_rate': 0.04055773286337292, 'max_depth': 7.090857699359644, 'min_child_samples': 69.44377513453706, 'min_child_weight': 2.390016987468796, 'n_estimators': 1749.738756585081, 'num_leaves': 71.3001755212184, 'reg_alpha': 0.005876997330032108, 'reg_lambda': 0.08888086248638617, 'subsample': 0.9683165052787948}}\n",
      "Iteration 56: \n",
      "\t{'target': 0.08884729238675013, 'params': {'colsample_bytree': 0.6149129218252545, 'learning_rate': 0.0733358352227721, 'max_depth': 3.337846644792627, 'min_child_samples': 65.48104652053014, 'min_child_weight': 9.9660870600272, 'n_estimators': 5729.171019378574, 'num_leaves': 85.59771678041864, 'reg_alpha': 0.048737239738605456, 'reg_lambda': 0.08728046494287761, 'subsample': 0.8858698927413633}}\n",
      "Iteration 57: \n",
      "\t{'target': 0.08372003330008818, 'params': {'colsample_bytree': 0.583400089956315, 'learning_rate': 0.04435237087267205, 'max_depth': 6.515260861726562, 'min_child_samples': 82.62789503459356, 'min_child_weight': 1.2259215660127731, 'n_estimators': 6230.091767663416, 'num_leaves': 51.4450387543615, 'reg_alpha': 0.017545281169753495, 'reg_lambda': 0.007709371583042802, 'subsample': 0.5598558713278996}}\n",
      "Iteration 58: \n",
      "\t{'target': 0.09288244415595752, 'params': {'colsample_bytree': 0.8922412646615894, 'learning_rate': 0.021421123669966815, 'max_depth': 4.842290406361792, 'min_child_samples': 80.69067839974531, 'min_child_weight': 2.5865748035712595, 'n_estimators': 1751.8491495430326, 'num_leaves': 68.41901157916472, 'reg_alpha': 0.03427499612242159, 'reg_lambda': 0.057254844742691616, 'subsample': 0.6427047323977895}}\n",
      "Iteration 59: \n",
      "\t{'target': 0.0837439131696919, 'params': {'colsample_bytree': 0.623380584936885, 'learning_rate': 0.011970095412813655, 'max_depth': 8.083979906034239, 'min_child_samples': 95.80463174805813, 'min_child_weight': 9.826535841398961, 'n_estimators': 3758.606530834242, 'num_leaves': 78.43701348562803, 'reg_alpha': 0.002465810318129747, 'reg_lambda': 0.026897685422880815, 'subsample': 0.52655896356175}}\n",
      "Iteration 60: \n",
      "\t{'target': 0.08903869033280257, 'params': {'colsample_bytree': 0.670827215019011, 'learning_rate': 0.051233854025436905, 'max_depth': 4.7645033331257185, 'min_child_samples': 81.46493728674362, 'min_child_weight': 6.514645967505185, 'n_estimators': 1753.9931446302423, 'num_leaves': 77.37276481847185, 'reg_alpha': 0.061592372432144764, 'reg_lambda': 0.03904684366655691, 'subsample': 0.6557658189322592}}\n",
      "Iteration 61: \n",
      "\t{'target': 0.09941662542053825, 'params': {'colsample_bytree': 0.8108039940012928, 'learning_rate': 0.009630622544128352, 'max_depth': 4.834465755106125, 'min_child_samples': 72.99111100981256, 'min_child_weight': 1.0531390913863965, 'n_estimators': 1752.981088605163, 'num_leaves': 73.59534433619405, 'reg_alpha': 0.030529092822989146, 'reg_lambda': 0.008653874480359078, 'subsample': 0.9862260084838025}}\n",
      "Iteration 62: \n",
      "\t{'target': 0.08950019796263789, 'params': {'colsample_bytree': 0.6261519939936206, 'learning_rate': 0.010173754081507325, 'max_depth': 5.980104754394631, 'min_child_samples': 95.97728868977156, 'min_child_weight': 8.93602009560477, 'n_estimators': 3584.543559387196, 'num_leaves': 43.41850219266312, 'reg_alpha': 0.08621524888003923, 'reg_lambda': 0.062221567273628674, 'subsample': 0.5250775085459154}}\n",
      "Iteration 63: \n",
      "\t{'target': 0.08485045974069458, 'params': {'colsample_bytree': 0.9084857744117735, 'learning_rate': 0.017300327342461452, 'max_depth': 6.489995321555984, 'min_child_samples': 91.26749636262208, 'min_child_weight': 5.252530650700554, 'n_estimators': 3583.9344603195545, 'num_leaves': 45.51826179088232, 'reg_alpha': 0.043819218358250166, 'reg_lambda': 0.07780022528934456, 'subsample': 0.9734129411568944}}\n",
      "Iteration 64: \n",
      "\t{'target': 0.08835511916343544, 'params': {'colsample_bytree': 0.6201479552298496, 'learning_rate': 0.08613164550276539, 'max_depth': 3.1693639680521106, 'min_child_samples': 67.87518588761836, 'min_child_weight': 6.482982677300639, 'n_estimators': 5732.058624154733, 'num_leaves': 79.96793274986058, 'reg_alpha': 0.06974568232240284, 'reg_lambda': 0.020680145314275478, 'subsample': 0.7863417718902406}}\n",
      "Iteration 65: \n",
      "\t{'target': 0.09940810020831538, 'params': {'colsample_bytree': 0.6888422252215333, 'learning_rate': 0.010304229190069496, 'max_depth': 4.971386649394619, 'min_child_samples': 70.6177485999292, 'min_child_weight': 3.133707493018938, 'n_estimators': 1757.0098168426102, 'num_leaves': 61.40661878483308, 'reg_alpha': 0.04278334300477473, 'reg_lambda': 0.032656614303413024, 'subsample': 0.5741357006158092}}\n",
      "Iteration 66: \n",
      "\t{'target': 0.08628307086093698, 'params': {'colsample_bytree': 0.5895900280108631, 'learning_rate': 0.05134172970993767, 'max_depth': 5.160960882815805, 'min_child_samples': 75.26029704722544, 'min_child_weight': 5.030969708542192, 'n_estimators': 1748.2168027568011, 'num_leaves': 64.63629133956096, 'reg_alpha': 0.04018921784830666, 'reg_lambda': 0.08853996776060226, 'subsample': 0.7516424506890699}}\n",
      "Iteration 67: \n",
      "\t{'target': 0.08341691568794384, 'params': {'colsample_bytree': 0.655888929022474, 'learning_rate': 0.05918344443246794, 'max_depth': 8.599194074684297, 'min_child_samples': 72.14933197833739, 'min_child_weight': 0.6511601704502599, 'n_estimators': 1766.0236744939546, 'num_leaves': 56.51256644765291, 'reg_alpha': 0.0985703119287104, 'reg_lambda': 0.062248232079049295, 'subsample': 0.5273402852274454}}\n",
      "Iteration 68: \n",
      "\t{'target': 0.0954928009867044, 'params': {'colsample_bytree': 0.5748482199903269, 'learning_rate': 0.019261603684369976, 'max_depth': 4.0253191498758625, 'min_child_samples': 67.04445879902843, 'min_child_weight': 6.883453511635491, 'n_estimators': 1757.8513135507358, 'num_leaves': 63.381732552221415, 'reg_alpha': 0.05428105099133564, 'reg_lambda': 0.07579544844495968, 'subsample': 0.5147535616746601}}\n",
      "Iteration 69: \n",
      "\t{'target': 0.10057040297688857, 'params': {'colsample_bytree': 0.5615103455424678, 'learning_rate': 0.03771591688074043, 'max_depth': 3.883649839489818, 'min_child_samples': 84.38766733522577, 'min_child_weight': 5.0410876529269615, 'n_estimators': 1755.6755128748678, 'num_leaves': 65.99538718397702, 'reg_alpha': 0.0322058017172267, 'reg_lambda': 0.014796045865098209, 'subsample': 0.5047450441646637}}\n",
      "Iteration 70: \n",
      "\t{'target': 0.10776781426437163, 'params': {'colsample_bytree': 0.7916537627663891, 'learning_rate': 0.004700212305053068, 'max_depth': 4.9294356782608, 'min_child_samples': 82.1164739375443, 'min_child_weight': 2.5524533636785005, 'n_estimators': 1756.4840006108634, 'num_leaves': 75.02217239381025, 'reg_alpha': 0.06382434813317718, 'reg_lambda': 0.08124163843462798, 'subsample': 0.5284101741684761}}\n",
      "Iteration 71: \n",
      "\t{'target': 0.11212165909184986, 'params': {'colsample_bytree': 0.607702639977727, 'learning_rate': 0.011350604160122551, 'max_depth': 3.4951335010544167, 'min_child_samples': 67.96966869202028, 'min_child_weight': 2.4936868072164113, 'n_estimators': 1759.2048060549362, 'num_leaves': 68.51684591413623, 'reg_alpha': 0.04808175910219348, 'reg_lambda': 0.05443201285862177, 'subsample': 0.6376326534479556}}\n",
      "Iteration 72: \n",
      "\t{'target': 0.08386409184512003, 'params': {'colsample_bytree': 0.9682676181089425, 'learning_rate': 0.06913968980220413, 'max_depth': 6.375505624885337, 'min_child_samples': 73.69406665581315, 'min_child_weight': 1.3699957623862626, 'n_estimators': 1756.7749072751621, 'num_leaves': 64.87532208228495, 'reg_alpha': 0.06394887775901825, 'reg_lambda': 0.008789772151655908, 'subsample': 0.8996112254611655}}\n",
      "Iteration 73: \n",
      "\t{'target': 0.0839695922781149, 'params': {'colsample_bytree': 0.8770886215115945, 'learning_rate': 0.08733318414167505, 'max_depth': 6.236493594949092, 'min_child_samples': 79.85202158987342, 'min_child_weight': 6.07426204939636, 'n_estimators': 1751.7292420787483, 'num_leaves': 67.82532553425457, 'reg_alpha': 0.07501587637047684, 'reg_lambda': 0.09954221348659724, 'subsample': 0.8080698599688512}}\n",
      "Iteration 74: \n",
      "\t{'target': 0.08415742078740168, 'params': {'colsample_bytree': 0.7471454026706248, 'learning_rate': 0.09423490544980065, 'max_depth': 6.729521189331761, 'min_child_samples': 90.44462934702156, 'min_child_weight': 4.174376059598056, 'n_estimators': 3764.631184780206, 'num_leaves': 94.22543323620661, 'reg_alpha': 0.0013716116949542524, 'reg_lambda': 0.09448057979077024, 'subsample': 0.9143219914924374}}\n",
      "Iteration 75: \n",
      "\t{'target': 0.09207466370537319, 'params': {'colsample_bytree': 0.7788578078062989, 'learning_rate': 0.025627484783740266, 'max_depth': 4.115856510807922, 'min_child_samples': 56.41292843883948, 'min_child_weight': 0.5438248930302099, 'n_estimators': 1761.3701841630068, 'num_leaves': 71.94177822097132, 'reg_alpha': 0.025640583507289656, 'reg_lambda': 0.020212213673314647, 'subsample': 0.9389643895218427}}\n",
      "Iteration 76: \n",
      "\t{'target': 0.08262425501154519, 'params': {'colsample_bytree': 0.8477394573114463, 'learning_rate': 0.07866533265052614, 'max_depth': 12.11669260644844, 'min_child_samples': 83.08203412854228, 'min_child_weight': 3.623642563066062, 'n_estimators': 1749.6733759777076, 'num_leaves': 73.52083255932537, 'reg_alpha': 0.022013288261708494, 'reg_lambda': 0.04342057665052842, 'subsample': 0.8658135855353152}}\n",
      "Iteration 77: \n",
      "\t{'target': 0.08594539066317762, 'params': {'colsample_bytree': 0.684609200053157, 'learning_rate': 0.012795876631335256, 'max_depth': 8.379280928664112, 'min_child_samples': 87.50531196179361, 'min_child_weight': 4.57084321426279, 'n_estimators': 1762.6603706309822, 'num_leaves': 59.624768712295676, 'reg_alpha': 0.09710151842197423, 'reg_lambda': 0.06373206963365238, 'subsample': 0.8010241328795142}}\n",
      "Iteration 78: \n",
      "\t{'target': 0.08473331813126539, 'params': {'colsample_bytree': 0.9585377268620174, 'learning_rate': 0.09441684051883141, 'max_depth': 5.121468557589378, 'min_child_samples': 89.06327061618036, 'min_child_weight': 0.4204523527468615, 'n_estimators': 1754.9496945539902, 'num_leaves': 68.25342482738878, 'reg_alpha': 0.06323008645769916, 'reg_lambda': 0.05417533916375219, 'subsample': 0.7336714938848816}}\n",
      "Iteration 79: \n",
      "\t{'target': 0.08298899476196805, 'params': {'colsample_bytree': 0.9543919953915185, 'learning_rate': 0.05740976188923225, 'max_depth': 9.094415500304812, 'min_child_samples': 85.522583354764, 'min_child_weight': 4.455817865106201, 'n_estimators': 1756.5660247654096, 'num_leaves': 63.37913070315564, 'reg_alpha': 0.018577889593474173, 'reg_lambda': 0.036155488744753404, 'subsample': 0.9648227575061273}}\n",
      "Iteration 80: \n",
      "\t{'target': 0.10095876404818509, 'params': {'colsample_bytree': 0.639729210139423, 'learning_rate': 0.03483579726965776, 'max_depth': 3.750087807640019, 'min_child_samples': 64.8812341052539, 'min_child_weight': 3.3349077849888786, 'n_estimators': 1760.9697300574778, 'num_leaves': 75.28723547536369, 'reg_alpha': 0.00676656418013019, 'reg_lambda': 0.04669886109685703, 'subsample': 0.5247159166736194}}\n",
      "Iteration 81: \n",
      "\t{'target': 0.09858836354916937, 'params': {'colsample_bytree': 0.7319584969905009, 'learning_rate': 0.04150283205684201, 'max_depth': 3.048241329454487, 'min_child_samples': 50.606766879922006, 'min_child_weight': 4.617666095825776, 'n_estimators': 1761.3122306203509, 'num_leaves': 81.27089359530808, 'reg_alpha': 0.00510804922131374, 'reg_lambda': 0.043129249032514486, 'subsample': 0.6195523265860166}}\n",
      "Iteration 82: \n",
      "\t{'target': 0.1433538299671225, 'params': {'colsample_bytree': 0.7317050934414302, 'learning_rate': 0.00233023649448519, 'max_depth': 3.1866571063106397, 'min_child_samples': 81.2576860684889, 'min_child_weight': 8.782114203994237, 'n_estimators': 1763.443603239383, 'num_leaves': 70.88321965294807, 'reg_alpha': 0.019723324036043505, 'reg_lambda': 0.012162818726337291, 'subsample': 0.5866506468364828}}\n",
      "Iteration 83: \n",
      "\t{'target': 0.08369497953144459, 'params': {'colsample_bytree': 0.982753118802075, 'learning_rate': 0.08593963788093038, 'max_depth': 7.6370720844329885, 'min_child_samples': 77.85399332972548, 'min_child_weight': 4.322562486588726, 'n_estimators': 1770.5149251978698, 'num_leaves': 80.15475267245826, 'reg_alpha': 0.02283039725171671, 'reg_lambda': 0.04121297054251302, 'subsample': 0.5026129084472124}}\n",
      "Iteration 84: \n",
      "\t{'target': 0.08283624721459203, 'params': {'colsample_bytree': 0.5414620792054432, 'learning_rate': 0.036699721712520186, 'max_depth': 14.966902105901651, 'min_child_samples': 46.96128612888598, 'min_child_weight': 7.656179364643087, 'n_estimators': 1766.261851626404, 'num_leaves': 87.74997671246847, 'reg_alpha': 0.08725924094364616, 'reg_lambda': 0.013928731823884571, 'subsample': 0.5469575431761308}}\n",
      "Iteration 85: \n",
      "\t{'target': 0.08316543205355524, 'params': {'colsample_bytree': 0.8332108115385053, 'learning_rate': 0.025541551827204786, 'max_depth': 11.730432377146053, 'min_child_samples': 91.34802114982618, 'min_child_weight': 4.912501025418043, 'n_estimators': 1773.6080353340235, 'num_leaves': 67.00635083204874, 'reg_alpha': 0.06207921576324293, 'reg_lambda': 0.036943392198814214, 'subsample': 0.8250073496973092}}\n",
      "Iteration 86: \n",
      "\t{'target': 0.08634471790343273, 'params': {'colsample_bytree': 0.9677719192107574, 'learning_rate': 0.016484760379821165, 'max_depth': 6.579097329095141, 'min_child_samples': 44.29947563956969, 'min_child_weight': 9.753050089419, 'n_estimators': 1770.5951408047952, 'num_leaves': 79.06828687204613, 'reg_alpha': 0.04045655753314617, 'reg_lambda': 0.016875289136518718, 'subsample': 0.5805000964371776}}\n",
      "Iteration 87: \n",
      "\t{'target': 0.0832397193206301, 'params': {'colsample_bytree': 0.8293066772819506, 'learning_rate': 0.09418316537826903, 'max_depth': 8.680192487993555, 'min_child_samples': 83.2580873066092, 'min_child_weight': 9.319036217429694, 'n_estimators': 1763.426680597433, 'num_leaves': 63.53290735931152, 'reg_alpha': 0.019384425854268438, 'reg_lambda': 0.008937194120025395, 'subsample': 0.8506131539299653}}\n",
      "Iteration 88: \n",
      "\t{'target': 0.08484617071764743, 'params': {'colsample_bytree': 0.917672301120835, 'learning_rate': 0.08582315895227184, 'max_depth': 5.57863864766588, 'min_child_samples': 71.44651695880897, 'min_child_weight': 8.67733447991873, 'n_estimators': 1758.1428563651452, 'num_leaves': 72.58573870862952, 'reg_alpha': 0.012575531047188226, 'reg_lambda': 0.03563954784253267, 'subsample': 0.563202191204065}}\n",
      "Iteration 89: \n",
      "\t{'target': 0.08396073006160124, 'params': {'colsample_bytree': 0.9645923351412321, 'learning_rate': 0.060169834107861475, 'max_depth': 6.434818639671891, 'min_child_samples': 87.58556439230279, 'min_child_weight': 6.401309867842327, 'n_estimators': 1755.821329480075, 'num_leaves': 71.74261732812242, 'reg_alpha': 0.05837852891668286, 'reg_lambda': 0.06364580297272013, 'subsample': 0.6373181709259923}}\n",
      "Iteration 90: \n",
      "\t{'target': 0.08697521457359458, 'params': {'colsample_bytree': 0.6716467629475393, 'learning_rate': 0.08866764099647743, 'max_depth': 4.044135300586797, 'min_child_samples': 55.46698134196643, 'min_child_weight': 1.6617844917888647, 'n_estimators': 1767.3262834269121, 'num_leaves': 84.11455369837206, 'reg_alpha': 0.05709228759412485, 'reg_lambda': 0.06974465176142493, 'subsample': 0.6092183441759684}}\n",
      "Iteration 91: \n",
      "\t{'target': 0.10034632844773535, 'params': {'colsample_bytree': 0.771261524797485, 'learning_rate': 0.033615734554847024, 'max_depth': 3.9542804228213306, 'min_child_samples': 79.65704844263456, 'min_child_weight': 7.090666139031332, 'n_estimators': 1759.3665819520004, 'num_leaves': 77.43546201976349, 'reg_alpha': 0.05332842038266029, 'reg_lambda': 0.020158150534801075, 'subsample': 0.6262701129672623}}\n",
      "Iteration 92: \n",
      "\t{'target': 0.08257739864120252, 'params': {'colsample_bytree': 0.8853768506053684, 'learning_rate': 0.06889823038180566, 'max_depth': 10.697292240200664, 'min_child_samples': 68.98870658439705, 'min_child_weight': 3.423262586583612, 'n_estimators': 1754.0689370172736, 'num_leaves': 84.88521452639776, 'reg_alpha': 0.09421814428571074, 'reg_lambda': 0.09351994109571589, 'subsample': 0.5882961130367862}}\n",
      "Iteration 93: \n",
      "\t{'target': 0.0828739825794049, 'params': {'colsample_bytree': 0.8031681086792799, 'learning_rate': 0.06214593764233111, 'max_depth': 13.001145390623218, 'min_child_samples': 83.08001458453501, 'min_child_weight': 0.3665802981437553, 'n_estimators': 3750.4573966777407, 'num_leaves': 86.74668220369037, 'reg_alpha': 0.0038014516081605366, 'reg_lambda': 0.08228620324575399, 'subsample': 0.5553477290559785}}\n",
      "Iteration 94: \n",
      "\t{'target': 0.08540938890885053, 'params': {'colsample_bytree': 0.6786311184431176, 'learning_rate': 0.06938297559504468, 'max_depth': 5.285270092134164, 'min_child_samples': 86.3719609118864, 'min_child_weight': 2.1732452654636174, 'n_estimators': 1756.894835806486, 'num_leaves': 89.48990121224404, 'reg_alpha': 0.07274262349422063, 'reg_lambda': 0.06286072464186587, 'subsample': 0.6737996679816572}}\n",
      "Iteration 95: \n",
      "\t{'target': 0.08251418453012778, 'params': {'colsample_bytree': 0.6775574796692153, 'learning_rate': 0.042443400672774245, 'max_depth': 12.070987218197704, 'min_child_samples': 81.54352511825809, 'min_child_weight': 2.3210399653766878, 'n_estimators': 1757.3959533315674, 'num_leaves': 74.42652090513414, 'reg_alpha': 0.09122843238209637, 'reg_lambda': 0.02643626831982545, 'subsample': 0.7420055791703156}}\n",
      "Iteration 96: \n",
      "\t{'target': 0.08385306875728979, 'params': {'colsample_bytree': 0.5171405239283754, 'learning_rate': 0.033460858280565706, 'max_depth': 7.164887979341843, 'min_child_samples': 35.51714723799143, 'min_child_weight': 3.8429196746090355, 'n_estimators': 1760.726540802732, 'num_leaves': 78.1099360476457, 'reg_alpha': 0.006908489142266372, 'reg_lambda': 0.001371699502168415, 'subsample': 0.5391888688654991}}\n",
      "Iteration 97: \n",
      "\t{'target': 0.08312030723828102, 'params': {'colsample_bytree': 0.5348697666907014, 'learning_rate': 0.041314351892807806, 'max_depth': 8.740002717599591, 'min_child_samples': 50.08442349026931, 'min_child_weight': 9.926257520543603, 'n_estimators': 5713.494201736545, 'num_leaves': 87.98977386855495, 'reg_alpha': 0.03653257782661083, 'reg_lambda': 0.09709238195991245, 'subsample': 0.7182733487870183}}\n",
      "Iteration 98: \n",
      "\t{'target': 0.0831079209214656, 'params': {'colsample_bytree': 0.5758761314236431, 'learning_rate': 0.07421617925892372, 'max_depth': 9.517751286039935, 'min_child_samples': 85.31041385279156, 'min_child_weight': 8.252375110119894, 'n_estimators': 1762.3735222282287, 'num_leaves': 79.62164866011219, 'reg_alpha': 0.02655987786348059, 'reg_lambda': 0.013180551319463215, 'subsample': 0.7336080015009525}}\n",
      "Iteration 99: \n",
      "\t{'target': 0.08414275009520873, 'params': {'colsample_bytree': 0.7799545962251873, 'learning_rate': 0.0922730635835466, 'max_depth': 12.345146758136414, 'min_child_samples': 96.58750384871769, 'min_child_weight': 0.02716775599426007, 'n_estimators': 3762.543073572943, 'num_leaves': 84.64462391534339, 'reg_alpha': 0.0183668360453926, 'reg_lambda': 0.0984427156392974, 'subsample': 0.6229972844292387}}\n",
      "Iteration 100: \n",
      "\t{'target': 0.08767091924010602, 'params': {'colsample_bytree': 0.9255338345876567, 'learning_rate': 0.062393441836624354, 'max_depth': 4.2718117112907645, 'min_child_samples': 56.4816214271628, 'min_child_weight': 7.094168437688497, 'n_estimators': 1771.3024561290472, 'num_leaves': 72.1317617131005, 'reg_alpha': 0.0027085354882985645, 'reg_lambda': 0.055748781984732064, 'subsample': 0.8690486613861959}}\n",
      "Iteration 101: \n",
      "\t{'target': 0.09731088128107479, 'params': {'colsample_bytree': 0.5148635172071998, 'learning_rate': 0.056076884494435986, 'max_depth': 3.6650972315372896, 'min_child_samples': 48.152751631644634, 'min_child_weight': 3.8296855745529466, 'n_estimators': 1748.2571696875384, 'num_leaves': 92.46775985477592, 'reg_alpha': 0.008094670916986079, 'reg_lambda': 0.062486931273021504, 'subsample': 0.8877270188366229}}\n",
      "Iteration 102: \n",
      "\t{'target': 0.16884613206171173, 'params': {'colsample_bytree': 0.7956323429425027, 'learning_rate': 0.0013430386136725034, 'max_depth': 3.371402491829888, 'min_child_samples': 40.729438079056045, 'min_child_weight': 9.029464802236694, 'n_estimators': 1750.2455826704856, 'num_leaves': 94.6577621427922, 'reg_alpha': 0.07258265630291426, 'reg_lambda': 0.02303351392898256, 'subsample': 0.9123720833111006}}\n",
      "Iteration 103: \n",
      "\t{'target': 0.08508475580016081, 'params': {'colsample_bytree': 0.6667575686640512, 'learning_rate': 0.06675345710671485, 'max_depth': 5.795925438241058, 'min_child_samples': 28.882601186505998, 'min_child_weight': 2.3424655485145953, 'n_estimators': 1746.4790636488176, 'num_leaves': 89.39135651995812, 'reg_alpha': 0.05556788288419952, 'reg_lambda': 0.06964013021195431, 'subsample': 0.8224374775241531}}\n",
      "Iteration 104: \n",
      "\t{'target': 0.08255107706934028, 'params': {'colsample_bytree': 0.9183492105769963, 'learning_rate': 0.07633329337740276, 'max_depth': 12.866533655756918, 'min_child_samples': 27.545558041566338, 'min_child_weight': 8.66555721215575, 'n_estimators': 1759.0764179175956, 'num_leaves': 92.47081935530186, 'reg_alpha': 0.007287303643419168, 'reg_lambda': 0.045426151232697574, 'subsample': 0.9736827446153025}}\n",
      "Iteration 105: \n",
      "\t{'target': 0.09322659534334503, 'params': {'colsample_bytree': 0.6256386403230003, 'learning_rate': 0.010109319689228142, 'max_depth': 5.951546998424602, 'min_child_samples': 36.93744830386454, 'min_child_weight': 3.880372837961381, 'n_estimators': 1744.848304972357, 'num_leaves': 97.72446199800596, 'reg_alpha': 0.0976169488268535, 'reg_lambda': 0.0747440446504673, 'subsample': 0.9671329201759515}}\n",
      "Iteration 106: \n",
      "\t{'target': 0.10514064665821228, 'params': {'colsample_bytree': 0.7627097323039589, 'learning_rate': 0.021629685653018416, 'max_depth': 3.473094802653807, 'min_child_samples': 33.242373008084876, 'min_child_weight': 4.718943005961635, 'n_estimators': 1759.8573171385592, 'num_leaves': 95.6762402502625, 'reg_alpha': 0.097098134857258, 'reg_lambda': 0.05449945741232713, 'subsample': 0.9531550383254863}}\n",
      "Iteration 107: \n",
      "\t{'target': 0.08481956327151947, 'params': {'colsample_bytree': 0.5104969052406696, 'learning_rate': 0.01575787064262184, 'max_depth': 8.570249223042655, 'min_child_samples': 53.3845893806999, 'min_child_weight': 6.408649831024073, 'n_estimators': 1745.7525866108447, 'num_leaves': 99.27809745074605, 'reg_alpha': 0.031395661454152374, 'reg_lambda': 0.01192069147575385, 'subsample': 0.6144871573877956}}\n",
      "Iteration 108: \n",
      "\t{'target': 0.13727951049421844, 'params': {'colsample_bytree': 0.5763967295321528, 'learning_rate': 0.003212468597217493, 'max_depth': 3.4133024534106218, 'min_child_samples': 46.21438409107422, 'min_child_weight': 6.142354982233333, 'n_estimators': 1759.6230687393895, 'num_leaves': 89.02943656726696, 'reg_alpha': 0.054595838537384735, 'reg_lambda': 0.02640133148434425, 'subsample': 0.8020999071058852}}\n",
      "Iteration 109: \n",
      "\t{'target': 0.08338861411942484, 'params': {'colsample_bytree': 0.8978293691352897, 'learning_rate': 0.03376129215606332, 'max_depth': 9.81583190350877, 'min_child_samples': 92.3006187971965, 'min_child_weight': 6.45569019394716, 'n_estimators': 3598.9019014432283, 'num_leaves': 28.793315144504994, 'reg_alpha': 0.0796179931450501, 'reg_lambda': 0.017601639891333867, 'subsample': 0.8938696585704929}}\n",
      "Iteration 110: \n",
      "\t{'target': 0.08243713163106375, 'params': {'colsample_bytree': 0.8638525923185862, 'learning_rate': 0.03489168623581493, 'max_depth': 9.017280100954629, 'min_child_samples': 42.1605906779394, 'min_child_weight': 7.003569910173868, 'n_estimators': 1748.1522988113165, 'num_leaves': 99.03101057237153, 'reg_alpha': 0.014245358835779081, 'reg_lambda': 0.06465844258118478, 'subsample': 0.51791048845843}}\n",
      "Iteration 111: \n",
      "\t{'target': 0.08413445999674074, 'params': {'colsample_bytree': 0.5962392878286553, 'learning_rate': 0.08424741235763201, 'max_depth': 6.338809132471744, 'min_child_samples': 90.84802138467465, 'min_child_weight': 6.596309207304591, 'n_estimators': 4438.602961506105, 'num_leaves': 73.64970051186116, 'reg_alpha': 0.005513090763331472, 'reg_lambda': 0.09757714171017594, 'subsample': 0.9421615237385119}}\n",
      "Iteration 112: \n",
      "\t{'target': 0.08252414410156109, 'params': {'colsample_bytree': 0.8343875659991798, 'learning_rate': 0.049426188001383736, 'max_depth': 8.813489013820746, 'min_child_samples': 37.96085476365201, 'min_child_weight': 5.907047046138684, 'n_estimators': 1761.6137464434998, 'num_leaves': 87.27756745272244, 'reg_alpha': 0.03478676399525284, 'reg_lambda': 0.0710741779065134, 'subsample': 0.6736609538822536}}\n",
      "Iteration 113: \n",
      "\t{'target': 0.08271849908482709, 'params': {'colsample_bytree': 0.7320745668211464, 'learning_rate': 0.03518558889666116, 'max_depth': 8.299634392630868, 'min_child_samples': 45.25183180304115, 'min_child_weight': 0.35347248593292147, 'n_estimators': 1764.7031739372323, 'num_leaves': 90.97095652990934, 'reg_alpha': 0.030482818487915588, 'reg_lambda': 0.017158158770558717, 'subsample': 0.5223987019890717}}\n",
      "Iteration 114: \n",
      "\t{'target': 0.08345992807797023, 'params': {'colsample_bytree': 0.8190628016617607, 'learning_rate': 0.09809187951923264, 'max_depth': 8.648283037274869, 'min_child_samples': 40.67727307303727, 'min_child_weight': 7.3126019544644, 'n_estimators': 1761.4156337476707, 'num_leaves': 93.38695887651323, 'reg_alpha': 0.039941487320232984, 'reg_lambda': 0.08939628679742843, 'subsample': 0.9356499315714621}}\n",
      "Iteration 115: \n",
      "\t{'target': 0.08318837978483853, 'params': {'colsample_bytree': 0.7734378495214038, 'learning_rate': 0.026475535095997912, 'max_depth': 8.286709798350383, 'min_child_samples': 43.06451886360145, 'min_child_weight': 9.769911392475379, 'n_estimators': 1746.9177547381712, 'num_leaves': 84.32032760946811, 'reg_alpha': 0.019382001251221363, 'reg_lambda': 0.03850276813922617, 'subsample': 0.9961428073847504}}\n",
      "Iteration 116: \n",
      "\t{'target': 0.08238340141632844, 'params': {'colsample_bytree': 0.829531124570916, 'learning_rate': 0.01970076064563371, 'max_depth': 13.466249679819523, 'min_child_samples': 99.84400491063734, 'min_child_weight': 7.0285334041429826, 'n_estimators': 3618.1604772042087, 'num_leaves': 73.33908267015511, 'reg_alpha': 0.018363648379243196, 'reg_lambda': 0.03658815419554755, 'subsample': 0.9338972615378004}}\n",
      "Iteration 117: \n",
      "\t{'target': 0.08496417153523443, 'params': {'colsample_bytree': 0.9833928863974414, 'learning_rate': 0.09697955500917958, 'max_depth': 11.179376006221172, 'min_child_samples': 10.858744177869124, 'min_child_weight': 4.350597408171152, 'n_estimators': 8934.807450449656, 'num_leaves': 76.29526105905022, 'reg_alpha': 0.08279846046819059, 'reg_lambda': 0.05855101596423917, 'subsample': 0.9463904515973982}}\n",
      "Iteration 118: \n",
      "\t{'target': 0.08297246866606298, 'params': {'colsample_bytree': 0.7808220414708622, 'learning_rate': 0.05534762036639961, 'max_depth': 7.736643784727574, 'min_child_samples': 29.800297759300495, 'min_child_weight': 1.5646607450489733, 'n_estimators': 1763.1207749054965, 'num_leaves': 99.60101945390592, 'reg_alpha': 0.06858691916433246, 'reg_lambda': 0.0340366900719046, 'subsample': 0.7805252913701552}}\n",
      "Iteration 119: \n",
      "\t{'target': 0.08514701455782224, 'params': {'colsample_bytree': 0.9762104132985869, 'learning_rate': 0.061737494183126754, 'max_depth': 5.662309081825083, 'min_child_samples': 32.482398404685725, 'min_child_weight': 9.430555810846808, 'n_estimators': 1748.237245713598, 'num_leaves': 89.7887324416186, 'reg_alpha': 0.06635568111128283, 'reg_lambda': 0.045450770156210865, 'subsample': 0.6394475617474026}}\n"
     ]
    }
   ],
   "source": [
    "from bayes_opt import BayesianOptimization\n",
    "from bayes_opt.util import UtilityFunction\n",
    "\n",
    "def lgbm_cv(learning_rate, n_estimators, max_depth, num_leaves, subsample, colsample_bytree, min_child_weight, min_child_samples, reg_alpha, reg_lambda):\n",
    "    lgbr_params = {'learning_rate': max(min(learning_rate, 1), 0),\n",
    "                   'n_estimators': int(n_estimators),\n",
    "                   'max_depth': int(max_depth),\n",
    "                   'num_leaves': int(num_leaves),\n",
    "                   'subsample': max(min(subsample, 1), 0),\n",
    "                   'colsample_bytree': max(min(colsample_bytree, 1), 0),\n",
    "                   'min_child_weight': max(min_child_weight, 0),\n",
    "                   'min_child_samples': int(min_child_samples),\n",
    "                   'random_state': 42,\n",
    "                   'reg_alpha': max(reg_alpha, 0),\n",
    "                   'boosting_type': 'gbdt',\n",
    "                   'histogram_pool_size': 2048,\n",
    "                   'reg_lambda': max(reg_lambda, 0)}\n",
    "    lgbr = LGBMRegressor(**lgbr_params)\n",
    "    return -np.mean(cross_val_score(lgbr, X_train, y_train, cv=5, scoring='neg_mean_squared_error'))\n",
    "\n",
    "bounds = {'learning_rate': (0.001, 0.1),\n",
    "          'n_estimators': (500, 10000),\n",
    "          'max_depth': (3, 15),\n",
    "          'num_leaves': (20, 100),\n",
    "          'subsample': (0.5, 1),\n",
    "          'colsample_bytree': (0.5, 1),\n",
    "          'min_child_weight': (0.001, 10),\n",
    "          'min_child_samples': (10, 100),\n",
    "          'reg_alpha': (0.001, 0.1),\n",
    "          'reg_lambda': (0.001, 0.1)}\n",
    "\n",
    "lgbm_bo = BayesianOptimization(lgbm_cv, bounds)\n",
    "utility = UtilityFunction(kind=\"ei\", kappa=2.5, xi=0.0)\n",
    "lgbm_bo.set_gp_params(alpha=1e-5, n_restarts_optimizer=2)\n",
    "lgbm_bo.maximize(init_points=20, n_iter=100, acquisition_function=utility)\n",
    "\n",
    "for i, res in enumerate(lgbm_bo.res):\n",
    "    print(\"Iteration {}: \\n\\t{}\".format(i, res))"
   ]
  },
  {
   "cell_type": "code",
   "execution_count": 18,
   "id": "2dbfb5ee",
   "metadata": {},
   "outputs": [
    {
     "name": "stdout",
     "output_type": "stream",
     "text": [
      "{'target': 0.16884613206171173, 'params': {'colsample_bytree': 0.7956323429425027, 'learning_rate': 0.0013430386136725034, 'max_depth': 3.371402491829888, 'min_child_samples': 40.729438079056045, 'min_child_weight': 9.029464802236694, 'n_estimators': 1750.2455826704856, 'num_leaves': 94.6577621427922, 'reg_alpha': 0.07258265630291426, 'reg_lambda': 0.02303351392898256, 'subsample': 0.9123720833111006}}\n"
     ]
    }
   ],
   "source": [
    "print(lgbm_bo.max)"
   ]
  },
  {
   "cell_type": "code",
   "execution_count": 19,
   "id": "64e36df7",
   "metadata": {},
   "outputs": [
    {
     "data": {
      "text/plain": [
       "{'colsample_bytree': 0.7956323429425027,\n",
       " 'learning_rate': 0.0013430386136725034,\n",
       " 'max_depth': 3.371402491829888,\n",
       " 'min_child_samples': 40.729438079056045,\n",
       " 'min_child_weight': 9.029464802236694,\n",
       " 'n_estimators': 1750.2455826704856,\n",
       " 'num_leaves': 94.6577621427922,\n",
       " 'reg_alpha': 0.07258265630291426,\n",
       " 'reg_lambda': 0.02303351392898256,\n",
       " 'subsample': 0.9123720833111006}"
      ]
     },
     "execution_count": 19,
     "metadata": {},
     "output_type": "execute_result"
    }
   ],
   "source": [
    "best_params = lgbm_bo.max['params']\n",
    "best_params"
   ]
  }
 ],
 "metadata": {
  "kernelspec": {
   "display_name": "Python 3 (ipykernel)",
   "language": "python",
   "name": "python3"
  },
  "language_info": {
   "codemirror_mode": {
    "name": "ipython",
    "version": 3
   },
   "file_extension": ".py",
   "mimetype": "text/x-python",
   "name": "python",
   "nbconvert_exporter": "python",
   "pygments_lexer": "ipython3",
   "version": "3.10.10"
  }
 },
 "nbformat": 4,
 "nbformat_minor": 5
}
