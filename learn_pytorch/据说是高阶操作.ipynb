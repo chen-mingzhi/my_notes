{
 "cells": [
  {
   "cell_type": "code",
   "execution_count": 1,
   "id": "5d9ebaf5",
   "metadata": {},
   "outputs": [],
   "source": [
    "import torch\n",
    "import numpy as np"
   ]
  },
  {
   "cell_type": "markdown",
   "id": "6241b23f",
   "metadata": {},
   "source": [
    "# where"
   ]
  },
  {
   "cell_type": "markdown",
   "id": "fbb01af0",
   "metadata": {},
   "source": [
    "PyTorch 的 where 函数是一个条件语句函数，用于根据给定的条件从两个输入张量中选择元素，并返回一个新的张量。它的语法如下\n",
    "\n",
    "torch.where(condition, x, y)"
   ]
  },
  {
   "cell_type": "markdown",
   "id": "c555c01b",
   "metadata": {},
   "source": [
    "下面列举几个常见的应用场景：\n",
    "\n",
    "1. 条件替换\n",
    "\n",
    "`where` 函数可以用于条件替换操作。例如，将所有小于某个阈值的元素替换为特定的值，可以使用 `where` 函数。这在图像处理中很常见，例如将图像中所有低于某个亮度阈值的像素替换为黑色。\n",
    "\n",
    "2. 条件索引\n",
    "\n",
    "`where` 函数可以用于根据条件选择张量中的元素。例如，选择张量中所有大于某个阈值的元素，可以使用 `where` 函数。这在数据处理中很常见，例如选择异常值或者过大的值。\n",
    "\n",
    "3. 条件计算\n",
    "\n",
    "`where` 函数可以用于根据条件计算张量中的元素。例如，对于一个张量，如果它的元素值小于某个阈值，则将其设置为该值的平方，否则将其设置为该值的立方。这在损失函数的计算中很常见，例如对于回归问题，对于预测值和真实值之间的差异进行不同的惩罚。\n",
    "\n",
    "总之，`where` 函数是一个非常有用的函数，可以让我们在处理数据时更加便捷和灵活。"
   ]
  },
  {
   "cell_type": "code",
   "execution_count": 10,
   "id": "9ce7e08d",
   "metadata": {},
   "outputs": [],
   "source": [
    "a = torch.rand(3,3)\n",
    "b = torch.zeros(3,3)"
   ]
  },
  {
   "cell_type": "code",
   "execution_count": 11,
   "id": "553cc568",
   "metadata": {},
   "outputs": [
    {
     "data": {
      "text/plain": [
       "tensor([[0.1874, 0.3390, 0.3112],\n",
       "        [0.0592, 0.6851, 0.7255],\n",
       "        [0.3920, 0.6936, 0.6886]])"
      ]
     },
     "execution_count": 11,
     "metadata": {},
     "output_type": "execute_result"
    }
   ],
   "source": [
    "a"
   ]
  },
  {
   "cell_type": "code",
   "execution_count": 12,
   "id": "6b822fb5",
   "metadata": {},
   "outputs": [
    {
     "data": {
      "text/plain": [
       "tensor([[0., 0., 0.],\n",
       "        [0., 0., 0.],\n",
       "        [0., 0., 0.]])"
      ]
     },
     "execution_count": 12,
     "metadata": {},
     "output_type": "execute_result"
    }
   ],
   "source": [
    "b"
   ]
  },
  {
   "cell_type": "code",
   "execution_count": 13,
   "id": "fa75fb0f",
   "metadata": {},
   "outputs": [
    {
     "data": {
      "text/plain": [
       "tensor([[0.0000, 0.0000, 0.0000],\n",
       "        [0.0000, 0.6851, 0.7255],\n",
       "        [0.0000, 0.6936, 0.6886]])"
      ]
     },
     "execution_count": 13,
     "metadata": {},
     "output_type": "execute_result"
    }
   ],
   "source": [
    "c = torch.where(a < 0.5, b ,a) # 使用where比使用for快得多\n",
    "c"
   ]
  },
  {
   "cell_type": "markdown",
   "id": "b4b43813",
   "metadata": {},
   "source": [
    "变量 b 的作用是提供一个零张量，用于替换张量 a 中小于零的元素。\n",
    "\n",
    "具体来说，b 是一个形状和 a 相同的全零张量，用作 where 函数的第二个输入。在 where 函数中，如果 condition 中的元素值为 True，则选择第一个输入张量 x 中的对应元素，否则选择第二个输入张量 y 中的对应元素。\n",
    "\n",
    "在本例中，如果 a 中的元素小于零，则选择 b 中的对应元素（即零），否则选择 a 中的对应元素"
   ]
  },
  {
   "cell_type": "markdown",
   "id": "70e69ce7",
   "metadata": {},
   "source": [
    "需要注意的是，b 的值可以是任何张量，只要其形状与 a 相同或者可以通过广播规则进行广播即可。"
   ]
  },
  {
   "cell_type": "markdown",
   "id": "ee3a803c",
   "metadata": {},
   "source": [
    "# gather(收集)\n",
    "\n",
    "用gpu去查表"
   ]
  },
  {
   "cell_type": "code",
   "execution_count": 14,
   "id": "48368d55",
   "metadata": {},
   "outputs": [
    {
     "data": {
      "text/plain": [
       "torch.return_types.topk(\n",
       "values=tensor([[0.5994, 0.5120, 0.2867],\n",
       "        [1.6230, 1.4252, 1.3826],\n",
       "        [1.2432, 1.0128, 0.5009],\n",
       "        [2.2302, 1.4364, 1.4265]]),\n",
       "indices=tensor([[8, 1, 3],\n",
       "        [0, 4, 5],\n",
       "        [9, 3, 2],\n",
       "        [5, 3, 7]]))"
      ]
     },
     "execution_count": 14,
     "metadata": {},
     "output_type": "execute_result"
    }
   ],
   "source": [
    "prob = torch.randn(4, 10)\n",
    "idx = prob.topk(dim=1, k=3)\n",
    "idx"
   ]
  },
  {
   "cell_type": "code",
   "execution_count": 15,
   "id": "fa417904",
   "metadata": {},
   "outputs": [
    {
     "data": {
      "text/plain": [
       "tensor([[8, 1, 3],\n",
       "        [0, 4, 5],\n",
       "        [9, 3, 2],\n",
       "        [5, 3, 7]])"
      ]
     },
     "execution_count": 15,
     "metadata": {},
     "output_type": "execute_result"
    }
   ],
   "source": [
    "idx = idx[1]\n",
    "idx"
   ]
  },
  {
   "cell_type": "code",
   "execution_count": 16,
   "id": "cdf8d928",
   "metadata": {},
   "outputs": [
    {
     "data": {
      "text/plain": [
       "tensor([100, 101, 102, 103, 104, 105, 106, 107, 108, 109])"
      ]
     },
     "execution_count": 16,
     "metadata": {},
     "output_type": "execute_result"
    }
   ],
   "source": [
    "label = torch.arange(10) + 100\n",
    "label"
   ]
  },
  {
   "cell_type": "code",
   "execution_count": 17,
   "id": "6cf11127",
   "metadata": {},
   "outputs": [
    {
     "data": {
      "text/plain": [
       "tensor([[108, 101, 103],\n",
       "        [100, 104, 105],\n",
       "        [109, 103, 102],\n",
       "        [105, 103, 107]])"
      ]
     },
     "execution_count": 17,
     "metadata": {},
     "output_type": "execute_result"
    }
   ],
   "source": [
    "torch.gather(label.expand(4, 10), dim=1, index=idx.long())\n",
    "# long()：数据类型转换，转换成torch.int64，因为在视频中tensor创建时默认是浮点型，所以要类型转换"
   ]
  },
  {
   "cell_type": "code",
   "execution_count": null,
   "id": "f1762b21",
   "metadata": {},
   "outputs": [],
   "source": []
  }
 ],
 "metadata": {
  "kernelspec": {
   "display_name": "Python 3 (ipykernel)",
   "language": "python",
   "name": "python3"
  },
  "language_info": {
   "codemirror_mode": {
    "name": "ipython",
    "version": 3
   },
   "file_extension": ".py",
   "mimetype": "text/x-python",
   "name": "python",
   "nbconvert_exporter": "python",
   "pygments_lexer": "ipython3",
   "version": "3.10.10"
  }
 },
 "nbformat": 4,
 "nbformat_minor": 5
}
