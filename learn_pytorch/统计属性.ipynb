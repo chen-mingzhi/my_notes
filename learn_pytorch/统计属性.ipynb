{
 "cells": [
  {
   "cell_type": "code",
   "execution_count": 1,
   "id": "6baf09da",
   "metadata": {},
   "outputs": [],
   "source": [
    "import torch\n",
    "import numpy as np"
   ]
  },
  {
   "cell_type": "markdown",
   "id": "95cfb4fd",
   "metadata": {},
   "source": [
    "# 范数(norm-p)"
   ]
  },
  {
   "cell_type": "markdown",
   "id": "43e41473",
   "metadata": {},
   "source": [
    "![](.\\img\\img1.png)"
   ]
  },
  {
   "cell_type": "code",
   "execution_count": 7,
   "id": "705cb946",
   "metadata": {},
   "outputs": [],
   "source": [
    "a = torch.full([8], 1.)\n",
    "b = a.view(2, 4)\n",
    "c = a.view(2, 2, 2)"
   ]
  },
  {
   "cell_type": "code",
   "execution_count": 8,
   "id": "160e3d0b",
   "metadata": {},
   "outputs": [
    {
     "data": {
      "text/plain": [
       "tensor([[1., 1., 1., 1.],\n",
       "        [1., 1., 1., 1.]])"
      ]
     },
     "execution_count": 8,
     "metadata": {},
     "output_type": "execute_result"
    }
   ],
   "source": [
    "b"
   ]
  },
  {
   "cell_type": "code",
   "execution_count": 9,
   "id": "7cc39ffc",
   "metadata": {},
   "outputs": [
    {
     "data": {
      "text/plain": [
       "tensor([[[1., 1.],\n",
       "         [1., 1.]],\n",
       "\n",
       "        [[1., 1.],\n",
       "         [1., 1.]]])"
      ]
     },
     "execution_count": 9,
     "metadata": {},
     "output_type": "execute_result"
    }
   ],
   "source": [
    "c"
   ]
  },
  {
   "cell_type": "code",
   "execution_count": 10,
   "id": "96972615",
   "metadata": {},
   "outputs": [
    {
     "data": {
      "text/plain": [
       "(tensor(8.), tensor(8.), tensor(8.))"
      ]
     },
     "execution_count": 10,
     "metadata": {},
     "output_type": "execute_result"
    }
   ],
   "source": [
    "a.norm(1), b.norm(1), c.norm(1)\n",
    "# 求1范数"
   ]
  },
  {
   "cell_type": "code",
   "execution_count": 11,
   "id": "7ab5617d",
   "metadata": {},
   "outputs": [
    {
     "data": {
      "text/plain": [
       "(tensor(2.8284), tensor(2.8284), tensor(2.8284))"
      ]
     },
     "execution_count": 11,
     "metadata": {},
     "output_type": "execute_result"
    }
   ],
   "source": [
    "a.norm(2), b.norm(2), c.norm(2)\n",
    "# 求2范数"
   ]
  },
  {
   "cell_type": "code",
   "execution_count": 12,
   "id": "2514c2d1",
   "metadata": {},
   "outputs": [
    {
     "data": {
      "text/plain": [
       "tensor([4., 4.])"
      ]
     },
     "execution_count": 12,
     "metadata": {},
     "output_type": "execute_result"
    }
   ],
   "source": [
    "b.norm(1, dim=1)"
   ]
  },
  {
   "cell_type": "code",
   "execution_count": 16,
   "id": "e0d4b251",
   "metadata": {},
   "outputs": [
    {
     "data": {
      "text/plain": [
       "tensor([2., 2., 2., 2.])"
      ]
     },
     "execution_count": 16,
     "metadata": {},
     "output_type": "execute_result"
    }
   ],
   "source": [
    "b.norm(1, dim=0)"
   ]
  },
  {
   "cell_type": "code",
   "execution_count": 13,
   "id": "72f4c171",
   "metadata": {},
   "outputs": [
    {
     "data": {
      "text/plain": [
       "tensor([2., 2.])"
      ]
     },
     "execution_count": 13,
     "metadata": {},
     "output_type": "execute_result"
    }
   ],
   "source": [
    "b.norm(2, dim=1)"
   ]
  },
  {
   "cell_type": "code",
   "execution_count": 14,
   "id": "bd4113d8",
   "metadata": {},
   "outputs": [
    {
     "data": {
      "text/plain": [
       "tensor([[2., 2.],\n",
       "        [2., 2.]])"
      ]
     },
     "execution_count": 14,
     "metadata": {},
     "output_type": "execute_result"
    }
   ],
   "source": [
    "c.norm(1, dim=0)"
   ]
  },
  {
   "cell_type": "code",
   "execution_count": 15,
   "id": "4330734b",
   "metadata": {},
   "outputs": [
    {
     "data": {
      "text/plain": [
       "tensor([[1.4142, 1.4142],\n",
       "        [1.4142, 1.4142]])"
      ]
     },
     "execution_count": 15,
     "metadata": {},
     "output_type": "execute_result"
    }
   ],
   "source": [
    "c.norm(2, dim=0)"
   ]
  },
  {
   "cell_type": "code",
   "execution_count": 17,
   "id": "1d247d96",
   "metadata": {},
   "outputs": [
    {
     "data": {
      "text/plain": [
       "tensor([[2., 2.],\n",
       "        [2., 2.]])"
      ]
     },
     "execution_count": 17,
     "metadata": {},
     "output_type": "execute_result"
    }
   ],
   "source": [
    "c.norm(1, dim=2)"
   ]
  },
  {
   "cell_type": "markdown",
   "id": "b0cf7689",
   "metadata": {},
   "source": [
    "# 其他一些常见的统计属性"
   ]
  },
  {
   "cell_type": "code",
   "execution_count": 19,
   "id": "60d17fd6",
   "metadata": {},
   "outputs": [
    {
     "data": {
      "text/plain": [
       "tensor([[0., 1., 2., 3.],\n",
       "        [4., 5., 6., 7.]])"
      ]
     },
     "execution_count": 19,
     "metadata": {},
     "output_type": "execute_result"
    }
   ],
   "source": [
    "a = torch.arange(8).view(2, 4).float()\n",
    "a"
   ]
  },
  {
   "cell_type": "code",
   "execution_count": 23,
   "id": "d678e7d2",
   "metadata": {},
   "outputs": [
    {
     "data": {
      "text/plain": [
       "(tensor(0.), tensor(7.), tensor(3.5000), tensor(0.))"
      ]
     },
     "execution_count": 23,
     "metadata": {},
     "output_type": "execute_result"
    }
   ],
   "source": [
    "a.min(), a.max(), a.mean(), a.prod()\n",
    "# prod:累乘"
   ]
  },
  {
   "cell_type": "code",
   "execution_count": 24,
   "id": "bae69663",
   "metadata": {},
   "outputs": [
    {
     "data": {
      "text/plain": [
       "tensor(28.)"
      ]
     },
     "execution_count": 24,
     "metadata": {},
     "output_type": "execute_result"
    }
   ],
   "source": [
    "a.sum()"
   ]
  },
  {
   "cell_type": "code",
   "execution_count": 26,
   "id": "b7b061d3",
   "metadata": {},
   "outputs": [
    {
     "data": {
      "text/plain": [
       "(tensor(7), tensor(0))"
      ]
     },
     "execution_count": 26,
     "metadata": {},
     "output_type": "execute_result"
    }
   ],
   "source": [
    "a.argmax(), a.argmin()\n",
    "# 最大值与最小值的索引（不加dimation就默认是打平后下标）"
   ]
  },
  {
   "cell_type": "code",
   "execution_count": 28,
   "id": "887b6058",
   "metadata": {},
   "outputs": [
    {
     "data": {
      "text/plain": [
       "tensor([[0.1734, 0.5547, 0.4958, 0.3359, 0.2146, 0.3433, 0.6722, 0.1660, 0.8811,\n",
       "         0.1131],\n",
       "        [0.1163, 0.6702, 0.6726, 0.7955, 0.8668, 0.4377, 0.6576, 0.0468, 0.1336,\n",
       "         0.5255],\n",
       "        [0.8105, 0.4936, 0.4220, 0.1442, 0.0721, 0.3817, 0.0426, 0.3283, 0.0461,\n",
       "         0.5493],\n",
       "        [0.0275, 0.2707, 0.5448, 0.0916, 0.8731, 0.5211, 0.4785, 0.8536, 0.0655,\n",
       "         0.7027]])"
      ]
     },
     "execution_count": 28,
     "metadata": {},
     "output_type": "execute_result"
    }
   ],
   "source": [
    "a = torch.rand(4, 10)\n",
    "a"
   ]
  },
  {
   "cell_type": "code",
   "execution_count": 30,
   "id": "a660500f",
   "metadata": {},
   "outputs": [
    {
     "data": {
      "text/plain": [
       "tensor([8, 4, 0, 4])"
      ]
     },
     "execution_count": 30,
     "metadata": {},
     "output_type": "execute_result"
    }
   ],
   "source": [
    "a.argmax(dim=1)\n",
    "# 求每一行的最大值"
   ]
  },
  {
   "cell_type": "code",
   "execution_count": 31,
   "id": "0d0d1b9f",
   "metadata": {},
   "outputs": [
    {
     "data": {
      "text/plain": [
       "tensor(8)"
      ]
     },
     "execution_count": 31,
     "metadata": {},
     "output_type": "execute_result"
    }
   ],
   "source": [
    "a.argmax()"
   ]
  },
  {
   "cell_type": "markdown",
   "id": "65660706",
   "metadata": {},
   "source": [
    "# dim与keepdim在统计里的作用"
   ]
  },
  {
   "cell_type": "code",
   "execution_count": 32,
   "id": "f623ad4c",
   "metadata": {},
   "outputs": [
    {
     "data": {
      "text/plain": [
       "tensor([[0.1734, 0.5547, 0.4958, 0.3359, 0.2146, 0.3433, 0.6722, 0.1660, 0.8811,\n",
       "         0.1131],\n",
       "        [0.1163, 0.6702, 0.6726, 0.7955, 0.8668, 0.4377, 0.6576, 0.0468, 0.1336,\n",
       "         0.5255],\n",
       "        [0.8105, 0.4936, 0.4220, 0.1442, 0.0721, 0.3817, 0.0426, 0.3283, 0.0461,\n",
       "         0.5493],\n",
       "        [0.0275, 0.2707, 0.5448, 0.0916, 0.8731, 0.5211, 0.4785, 0.8536, 0.0655,\n",
       "         0.7027]])"
      ]
     },
     "execution_count": 32,
     "metadata": {},
     "output_type": "execute_result"
    }
   ],
   "source": [
    "a\n",
    "# 4组照片每张照片的预测值"
   ]
  },
  {
   "cell_type": "code",
   "execution_count": 33,
   "id": "8b4cd170",
   "metadata": {},
   "outputs": [
    {
     "data": {
      "text/plain": [
       "torch.return_types.max(\n",
       "values=tensor([0.8811, 0.8668, 0.8105, 0.8731]),\n",
       "indices=tensor([8, 4, 0, 4]))"
      ]
     },
     "execution_count": 33,
     "metadata": {},
     "output_type": "execute_result"
    }
   ],
   "source": [
    "a.max(dim=1)"
   ]
  },
  {
   "cell_type": "code",
   "execution_count": 34,
   "id": "47e2190b",
   "metadata": {},
   "outputs": [
    {
     "data": {
      "text/plain": [
       "torch.return_types.max(\n",
       "values=tensor([[0.8811],\n",
       "        [0.8668],\n",
       "        [0.8105],\n",
       "        [0.8731]]),\n",
       "indices=tensor([[8],\n",
       "        [4],\n",
       "        [0],\n",
       "        [4]]))"
      ]
     },
     "execution_count": 34,
     "metadata": {},
     "output_type": "execute_result"
    }
   ],
   "source": [
    "a.max(dim=1, keepdim=True)"
   ]
  },
  {
   "cell_type": "code",
   "execution_count": 35,
   "id": "41f3ab6a",
   "metadata": {},
   "outputs": [
    {
     "data": {
      "text/plain": [
       "tensor([[8],\n",
       "        [4],\n",
       "        [0],\n",
       "        [4]])"
      ]
     },
     "execution_count": 35,
     "metadata": {},
     "output_type": "execute_result"
    }
   ],
   "source": [
    "a.argmax(dim=1, keepdim=True)"
   ]
  },
  {
   "cell_type": "markdown",
   "id": "52746c09",
   "metadata": {},
   "source": [
    "# top-k or k-th"
   ]
  },
  {
   "cell_type": "code",
   "execution_count": 36,
   "id": "2b7543a1",
   "metadata": {},
   "outputs": [
    {
     "data": {
      "text/plain": [
       "tensor([[0.1734, 0.5547, 0.4958, 0.3359, 0.2146, 0.3433, 0.6722, 0.1660, 0.8811,\n",
       "         0.1131],\n",
       "        [0.1163, 0.6702, 0.6726, 0.7955, 0.8668, 0.4377, 0.6576, 0.0468, 0.1336,\n",
       "         0.5255],\n",
       "        [0.8105, 0.4936, 0.4220, 0.1442, 0.0721, 0.3817, 0.0426, 0.3283, 0.0461,\n",
       "         0.5493],\n",
       "        [0.0275, 0.2707, 0.5448, 0.0916, 0.8731, 0.5211, 0.4785, 0.8536, 0.0655,\n",
       "         0.7027]])"
      ]
     },
     "execution_count": 36,
     "metadata": {},
     "output_type": "execute_result"
    }
   ],
   "source": [
    "a"
   ]
  },
  {
   "cell_type": "code",
   "execution_count": 37,
   "id": "17bc21c0",
   "metadata": {},
   "outputs": [
    {
     "data": {
      "text/plain": [
       "torch.return_types.topk(\n",
       "values=tensor([[0.8811, 0.6722, 0.5547],\n",
       "        [0.8668, 0.7955, 0.6726],\n",
       "        [0.8105, 0.5493, 0.4936],\n",
       "        [0.8731, 0.8536, 0.7027]]),\n",
       "indices=tensor([[8, 6, 1],\n",
       "        [4, 3, 2],\n",
       "        [0, 9, 1],\n",
       "        [4, 7, 9]]))"
      ]
     },
     "execution_count": 37,
     "metadata": {},
     "output_type": "execute_result"
    }
   ],
   "source": [
    "a.topk(3, dim=1)\n",
    "# 每行前三大的概率"
   ]
  },
  {
   "cell_type": "code",
   "execution_count": 39,
   "id": "b2996122",
   "metadata": {},
   "outputs": [
    {
     "data": {
      "text/plain": [
       "torch.return_types.topk(\n",
       "values=tensor([[0.1131, 0.1660, 0.1734],\n",
       "        [0.0468, 0.1163, 0.1336],\n",
       "        [0.0426, 0.0461, 0.0721],\n",
       "        [0.0275, 0.0655, 0.0916]]),\n",
       "indices=tensor([[9, 7, 0],\n",
       "        [7, 0, 8],\n",
       "        [6, 8, 4],\n",
       "        [0, 8, 3]]))"
      ]
     },
     "execution_count": 39,
     "metadata": {},
     "output_type": "execute_result"
    }
   ],
   "source": [
    "a.topk(3, dim=1, largest=False)\n",
    "# 每行前三小的"
   ]
  },
  {
   "cell_type": "code",
   "execution_count": 40,
   "id": "87ff950d",
   "metadata": {},
   "outputs": [
    {
     "data": {
      "text/plain": [
       "torch.return_types.kthvalue(\n",
       "values=tensor([0.5547, 0.6726, 0.4936, 0.7027]),\n",
       "indices=tensor([1, 2, 1, 9]))"
      ]
     },
     "execution_count": 40,
     "metadata": {},
     "output_type": "execute_result"
    }
   ],
   "source": [
    "a.kthvalue(8, dim=1)"
   ]
  },
  {
   "cell_type": "code",
   "execution_count": 41,
   "id": "24c734b8",
   "metadata": {},
   "outputs": [
    {
     "data": {
      "text/plain": [
       "torch.return_types.kthvalue(\n",
       "values=tensor([0.1734, 0.1336, 0.0721, 0.0916]),\n",
       "indices=tensor([0, 8, 4, 3]))"
      ]
     },
     "execution_count": 41,
     "metadata": {},
     "output_type": "execute_result"
    }
   ],
   "source": [
    "a.kthvalue(3)\n",
    "# 第k个value"
   ]
  },
  {
   "cell_type": "code",
   "execution_count": 42,
   "id": "d72539ed",
   "metadata": {},
   "outputs": [
    {
     "data": {
      "text/plain": [
       "torch.return_types.kthvalue(\n",
       "values=tensor([0.1734, 0.1336, 0.0721, 0.0916]),\n",
       "indices=tensor([0, 8, 4, 3]))"
      ]
     },
     "execution_count": 42,
     "metadata": {},
     "output_type": "execute_result"
    }
   ],
   "source": [
    "a.kthvalue(3, dim=1)"
   ]
  },
  {
   "cell_type": "markdown",
   "id": "11aaae1e",
   "metadata": {},
   "source": [
    "# 比较"
   ]
  },
  {
   "cell_type": "code",
   "execution_count": 44,
   "id": "b81d8198",
   "metadata": {},
   "outputs": [
    {
     "data": {
      "text/plain": [
       "tensor([[True, True, True, True, True, True, True, True, True, True],\n",
       "        [True, True, True, True, True, True, True, True, True, True],\n",
       "        [True, True, True, True, True, True, True, True, True, True],\n",
       "        [True, True, True, True, True, True, True, True, True, True]])"
      ]
     },
     "execution_count": 44,
     "metadata": {},
     "output_type": "execute_result"
    }
   ],
   "source": [
    "a > 0"
   ]
  },
  {
   "cell_type": "code",
   "execution_count": 45,
   "id": "92a6c38f",
   "metadata": {},
   "outputs": [
    {
     "data": {
      "text/plain": [
       "tensor([[True, True, True, True, True, True, True, True, True, True],\n",
       "        [True, True, True, True, True, True, True, True, True, True],\n",
       "        [True, True, True, True, True, True, True, True, True, True],\n",
       "        [True, True, True, True, True, True, True, True, True, True]])"
      ]
     },
     "execution_count": 45,
     "metadata": {},
     "output_type": "execute_result"
    }
   ],
   "source": [
    "torch.gt(a, 0)"
   ]
  },
  {
   "cell_type": "code",
   "execution_count": 46,
   "id": "b9aade6e",
   "metadata": {},
   "outputs": [
    {
     "data": {
      "text/plain": [
       "tensor([[True, True, True, True, True, True, True, True, True, True],\n",
       "        [True, True, True, True, True, True, True, True, True, True],\n",
       "        [True, True, True, True, True, True, True, True, True, True],\n",
       "        [True, True, True, True, True, True, True, True, True, True]])"
      ]
     },
     "execution_count": 46,
     "metadata": {},
     "output_type": "execute_result"
    }
   ],
   "source": [
    "a != 0"
   ]
  },
  {
   "cell_type": "code",
   "execution_count": 49,
   "id": "03a65406",
   "metadata": {},
   "outputs": [
    {
     "data": {
      "text/plain": [
       "tensor([[False, False, False],\n",
       "        [False, False, False]])"
      ]
     },
     "execution_count": 49,
     "metadata": {},
     "output_type": "execute_result"
    }
   ],
   "source": [
    "a = torch.ones(2, 3)\n",
    "b = torch.randn(2, 3)\n",
    "torch.eq(a, b)"
   ]
  },
  {
   "cell_type": "code",
   "execution_count": 50,
   "id": "4a8df880",
   "metadata": {},
   "outputs": [
    {
     "data": {
      "text/plain": [
       "tensor([[True, True, True],\n",
       "        [True, True, True]])"
      ]
     },
     "execution_count": 50,
     "metadata": {},
     "output_type": "execute_result"
    }
   ],
   "source": [
    "torch.eq(a, a)"
   ]
  },
  {
   "cell_type": "code",
   "execution_count": 51,
   "id": "69089022",
   "metadata": {},
   "outputs": [
    {
     "data": {
      "text/plain": [
       "True"
      ]
     },
     "execution_count": 51,
     "metadata": {},
     "output_type": "execute_result"
    }
   ],
   "source": [
    "torch.equal(a, a)"
   ]
  },
  {
   "cell_type": "code",
   "execution_count": null,
   "id": "6bd2f07e",
   "metadata": {},
   "outputs": [],
   "source": []
  }
 ],
 "metadata": {
  "kernelspec": {
   "display_name": "Python 3 (ipykernel)",
   "language": "python",
   "name": "python3"
  },
  "language_info": {
   "codemirror_mode": {
    "name": "ipython",
    "version": 3
   },
   "file_extension": ".py",
   "mimetype": "text/x-python",
   "name": "python",
   "nbconvert_exporter": "python",
   "pygments_lexer": "ipython3",
   "version": "3.10.10"
  }
 },
 "nbformat": 4,
 "nbformat_minor": 5
}
