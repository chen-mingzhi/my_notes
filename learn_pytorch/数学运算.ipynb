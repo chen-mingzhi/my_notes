{
 "cells": [
  {
   "cell_type": "code",
   "execution_count": 1,
   "id": "43bfdda5",
   "metadata": {},
   "outputs": [],
   "source": [
    "import torch\n",
    "import numpy as np"
   ]
  },
  {
   "cell_type": "markdown",
   "id": "b0aea194",
   "metadata": {},
   "source": [
    "加：add\n",
    "\n",
    "减：sub\n",
    "\n",
    "乘：mul\n",
    "\n",
    "除：div"
   ]
  },
  {
   "cell_type": "markdown",
   "id": "ee431e37",
   "metadata": {},
   "source": [
    "# 矩阵加法"
   ]
  },
  {
   "cell_type": "code",
   "execution_count": 2,
   "id": "6ff08b47",
   "metadata": {},
   "outputs": [
    {
     "data": {
      "text/plain": [
       "tensor([[0.8086, 1.1837, 0.8097, 1.1421],\n",
       "        [1.1543, 1.0996, 1.0537, 1.3399],\n",
       "        [1.3184, 0.9018, 0.7067, 0.7804]])"
      ]
     },
     "execution_count": 2,
     "metadata": {},
     "output_type": "execute_result"
    }
   ],
   "source": [
    "a = torch.rand(3, 4)\n",
    "b = torch.rand(4) # [4] ==> [1, 4] ==> [3, 4]\n",
    "\n",
    "a + b"
   ]
  },
  {
   "cell_type": "code",
   "execution_count": 3,
   "id": "2a5cc712",
   "metadata": {},
   "outputs": [
    {
     "data": {
      "text/plain": [
       "tensor([[0.8086, 1.1837, 0.8097, 1.1421],\n",
       "        [1.1543, 1.0996, 1.0537, 1.3399],\n",
       "        [1.3184, 0.9018, 0.7067, 0.7804]])"
      ]
     },
     "execution_count": 3,
     "metadata": {},
     "output_type": "execute_result"
    }
   ],
   "source": [
    "torch.add(a, b)"
   ]
  },
  {
   "cell_type": "code",
   "execution_count": 4,
   "id": "0fa0633e",
   "metadata": {},
   "outputs": [
    {
     "data": {
      "text/plain": [
       "tensor(True)"
      ]
     },
     "execution_count": 4,
     "metadata": {},
     "output_type": "execute_result"
    }
   ],
   "source": [
    "torch.all(torch.eq(a - b, torch.sub(a, b)))\n",
    "# torch.eq(a, b): 看a与b是否相等\n",
    "# torch.all（...）: 看括号里的是否都为真"
   ]
  },
  {
   "cell_type": "code",
   "execution_count": 5,
   "id": "e401c0b1",
   "metadata": {},
   "outputs": [
    {
     "data": {
      "text/plain": [
       "tensor(True)"
      ]
     },
     "execution_count": 5,
     "metadata": {},
     "output_type": "execute_result"
    }
   ],
   "source": [
    "torch.all(torch.eq(a * b, torch.mul(a, b)))"
   ]
  },
  {
   "cell_type": "code",
   "execution_count": 6,
   "id": "50c8a82c",
   "metadata": {},
   "outputs": [
    {
     "data": {
      "text/plain": [
       "tensor(True)"
      ]
     },
     "execution_count": 6,
     "metadata": {},
     "output_type": "execute_result"
    }
   ],
   "source": [
    "torch.all(torch.eq(a / b, torch.div(a, b)))"
   ]
  },
  {
   "cell_type": "markdown",
   "id": "2da4466e",
   "metadata": {},
   "source": [
    "### 建议直接使用运算符"
   ]
  },
  {
   "cell_type": "markdown",
   "id": "225182d5",
   "metadata": {},
   "source": [
    "# 矩阵相乘\n",
    "\n",
    "* : element wise（相同位置的元素进行相乘）\n",
    "\n",
    "矩阵相乘：matrix multiplication\n",
    "\n",
    "注意：.matmul与*不一样"
   ]
  },
  {
   "cell_type": "markdown",
   "id": "8cd55546",
   "metadata": {},
   "source": [
    "## 矩阵相乘的三种表达形式\n",
    "\n",
    "1.torch.mm(只适用于二维矩阵，不推荐)\n",
    "\n",
    "2.torch.matmul\n",
    "\n",
    "3.@\n",
    "\n",
    "torch.matmul与@是完全一样的"
   ]
  },
  {
   "cell_type": "code",
   "execution_count": 24,
   "id": "003a87ce",
   "metadata": {},
   "outputs": [
    {
     "data": {
      "text/plain": [
       "tensor([[3., 3.],\n",
       "        [3., 3.]])"
      ]
     },
     "execution_count": 24,
     "metadata": {},
     "output_type": "execute_result"
    }
   ],
   "source": [
    "a = torch.tensor([[3., 3], [3, 3]])\n",
    "# a = torch.Tensor(2, 2).fill_(3)\n",
    "a"
   ]
  },
  {
   "cell_type": "code",
   "execution_count": 15,
   "id": "229ac4da",
   "metadata": {},
   "outputs": [
    {
     "data": {
      "text/plain": [
       "tensor([[1., 1.],\n",
       "        [1., 1.]])"
      ]
     },
     "execution_count": 15,
     "metadata": {},
     "output_type": "execute_result"
    }
   ],
   "source": [
    "b = torch.ones(2, 2)\n",
    "b"
   ]
  },
  {
   "cell_type": "code",
   "execution_count": 16,
   "id": "bbe3eabe",
   "metadata": {},
   "outputs": [
    {
     "data": {
      "text/plain": [
       "tensor([[6., 6.],\n",
       "        [6., 6.]])"
      ]
     },
     "execution_count": 16,
     "metadata": {},
     "output_type": "execute_result"
    }
   ],
   "source": [
    "torch.mm(a, b)"
   ]
  },
  {
   "cell_type": "code",
   "execution_count": 17,
   "id": "43c17965",
   "metadata": {},
   "outputs": [
    {
     "data": {
      "text/plain": [
       "tensor([[6., 6.],\n",
       "        [6., 6.]])"
      ]
     },
     "execution_count": 17,
     "metadata": {},
     "output_type": "execute_result"
    }
   ],
   "source": [
    "torch.matmul(a, b)"
   ]
  },
  {
   "cell_type": "code",
   "execution_count": 18,
   "id": "a4cb2003",
   "metadata": {},
   "outputs": [
    {
     "data": {
      "text/plain": [
       "tensor([[6., 6.],\n",
       "        [6., 6.]])"
      ]
     },
     "execution_count": 18,
     "metadata": {},
     "output_type": "execute_result"
    }
   ],
   "source": [
    "a @ b"
   ]
  },
  {
   "cell_type": "code",
   "execution_count": 26,
   "id": "e0d782d7",
   "metadata": {},
   "outputs": [
    {
     "data": {
      "text/plain": [
       "torch.Size([4, 512])"
      ]
     },
     "execution_count": 26,
     "metadata": {},
     "output_type": "execute_result"
    }
   ],
   "source": [
    "# 以一个线性层相加为例\n",
    "a = torch.rand(4, 784)\n",
    "x = torch.rand(4, 784) # x是4张被打平了的相片\n",
    "w = torch.rand(512,784)  # 对x进行降维\n",
    "\n",
    "(x @ w.t()).shape\n",
    "# 注意：.t()只适用于二维，高维度的还得用transpose"
   ]
  },
  {
   "cell_type": "markdown",
   "id": "c945902b",
   "metadata": {},
   "source": [
    "# 对于>2d的矩阵的运算"
   ]
  },
  {
   "cell_type": "code",
   "execution_count": 33,
   "id": "0963502a",
   "metadata": {},
   "outputs": [
    {
     "ename": "RuntimeError",
     "evalue": "self must be a matrix",
     "output_type": "error",
     "traceback": [
      "\u001b[1;31m---------------------------------------------------------------------------\u001b[0m",
      "\u001b[1;31mRuntimeError\u001b[0m                              Traceback (most recent call last)",
      "Cell \u001b[1;32mIn[33], line 4\u001b[0m\n\u001b[0;32m      1\u001b[0m a \u001b[38;5;241m=\u001b[39m torch\u001b[38;5;241m.\u001b[39mrand(\u001b[38;5;241m4\u001b[39m, \u001b[38;5;241m3\u001b[39m, \u001b[38;5;241m28\u001b[39m, \u001b[38;5;241m64\u001b[39m)\n\u001b[0;32m      2\u001b[0m b \u001b[38;5;241m=\u001b[39m torch\u001b[38;5;241m.\u001b[39mrand(\u001b[38;5;241m4\u001b[39m, \u001b[38;5;241m3\u001b[39m, \u001b[38;5;241m64\u001b[39m, \u001b[38;5;241m32\u001b[39m)\n\u001b[1;32m----> 4\u001b[0m \u001b[43mtorch\u001b[49m\u001b[38;5;241;43m.\u001b[39;49m\u001b[43mmm\u001b[49m\u001b[43m(\u001b[49m\u001b[43ma\u001b[49m\u001b[43m,\u001b[49m\u001b[43m \u001b[49m\u001b[43mb\u001b[49m\u001b[43m)\u001b[49m\u001b[38;5;241m.\u001b[39mshape\n",
      "\u001b[1;31mRuntimeError\u001b[0m: self must be a matrix"
     ]
    }
   ],
   "source": [
    "a = torch.rand(4, 3, 28, 64)\n",
    "b = torch.rand(4, 3, 64, 32)\n",
    "\n",
    "torch.mm(a, b).shape"
   ]
  },
  {
   "cell_type": "code",
   "execution_count": 34,
   "id": "779a2c61",
   "metadata": {},
   "outputs": [
    {
     "data": {
      "text/plain": [
       "torch.Size([4, 3, 28, 32])"
      ]
     },
     "execution_count": 34,
     "metadata": {},
     "output_type": "execute_result"
    }
   ],
   "source": [
    "torch.matmul(a, b).shape  # 只取后面两维进行计算\n",
    "# 其实就是支持对多个矩阵对并行相乘"
   ]
  },
  {
   "cell_type": "code",
   "execution_count": 35,
   "id": "4d97212e",
   "metadata": {},
   "outputs": [
    {
     "data": {
      "text/plain": [
       "torch.Size([4, 3, 28, 32])"
      ]
     },
     "execution_count": 35,
     "metadata": {},
     "output_type": "execute_result"
    }
   ],
   "source": [
    "b = torch.rand(4, 1, 64, 32)\n",
    "torch.matmul(a, b).shape"
   ]
  },
  {
   "cell_type": "code",
   "execution_count": 36,
   "id": "df837d4e",
   "metadata": {},
   "outputs": [
    {
     "ename": "RuntimeError",
     "evalue": "The size of tensor a (3) must match the size of tensor b (4) at non-singleton dimension 1",
     "output_type": "error",
     "traceback": [
      "\u001b[1;31m---------------------------------------------------------------------------\u001b[0m",
      "\u001b[1;31mRuntimeError\u001b[0m                              Traceback (most recent call last)",
      "Cell \u001b[1;32mIn[36], line 2\u001b[0m\n\u001b[0;32m      1\u001b[0m b \u001b[38;5;241m=\u001b[39m torch\u001b[38;5;241m.\u001b[39mrand(\u001b[38;5;241m4\u001b[39m, \u001b[38;5;241m64\u001b[39m, \u001b[38;5;241m32\u001b[39m)\n\u001b[1;32m----> 2\u001b[0m \u001b[43mtorch\u001b[49m\u001b[38;5;241;43m.\u001b[39;49m\u001b[43mmatmul\u001b[49m\u001b[43m(\u001b[49m\u001b[43ma\u001b[49m\u001b[43m,\u001b[49m\u001b[43m \u001b[49m\u001b[43mb\u001b[49m\u001b[43m)\u001b[49m\u001b[38;5;241m.\u001b[39mshape\n",
      "\u001b[1;31mRuntimeError\u001b[0m: The size of tensor a (3) must match the size of tensor b (4) at non-singleton dimension 1"
     ]
    }
   ],
   "source": [
    "b = torch.rand(4, 64, 32) # [4, 64, 32] ==> [1, 4, 64, 32] ==> [4, 4, 64, 32] 4与3不匹配，不能广播\n",
    "torch.matmul(a, b).shape"
   ]
  },
  {
   "cell_type": "markdown",
   "id": "3ed1c7f6",
   "metadata": {},
   "source": [
    "# 次方运算(power)"
   ]
  },
  {
   "cell_type": "code",
   "execution_count": 38,
   "id": "8d05f2cf",
   "metadata": {},
   "outputs": [
    {
     "data": {
      "text/plain": [
       "tensor([[9, 9],\n",
       "        [9, 9]])"
      ]
     },
     "execution_count": 38,
     "metadata": {},
     "output_type": "execute_result"
    }
   ],
   "source": [
    "a = torch.full([2, 2], 3)\n",
    "a.pow(2)"
   ]
  },
  {
   "cell_type": "code",
   "execution_count": 39,
   "id": "b82bacd2",
   "metadata": {},
   "outputs": [
    {
     "data": {
      "text/plain": [
       "tensor([[9, 9],\n",
       "        [9, 9]])"
      ]
     },
     "execution_count": 39,
     "metadata": {},
     "output_type": "execute_result"
    }
   ],
   "source": [
    "a**2"
   ]
  },
  {
   "cell_type": "code",
   "execution_count": 40,
   "id": "b323c0fe",
   "metadata": {},
   "outputs": [
    {
     "data": {
      "text/plain": [
       "tensor([[3., 3.],\n",
       "        [3., 3.]])"
      ]
     },
     "execution_count": 40,
     "metadata": {},
     "output_type": "execute_result"
    }
   ],
   "source": [
    "aa = a**2\n",
    "aa.sqrt() # 平方根"
   ]
  },
  {
   "cell_type": "code",
   "execution_count": 41,
   "id": "99a8d9a0",
   "metadata": {},
   "outputs": [
    {
     "data": {
      "text/plain": [
       "tensor([[0.3333, 0.3333],\n",
       "        [0.3333, 0.3333]])"
      ]
     },
     "execution_count": 41,
     "metadata": {},
     "output_type": "execute_result"
    }
   ],
   "source": [
    "aa.rsqrt() # 平方根的倒数"
   ]
  },
  {
   "cell_type": "code",
   "execution_count": 42,
   "id": "1a8b61d6",
   "metadata": {},
   "outputs": [
    {
     "data": {
      "text/plain": [
       "tensor([[3., 3.],\n",
       "        [3., 3.]])"
      ]
     },
     "execution_count": 42,
     "metadata": {},
     "output_type": "execute_result"
    }
   ],
   "source": [
    "aa**(0.5)"
   ]
  },
  {
   "cell_type": "markdown",
   "id": "a6c02a99",
   "metadata": {},
   "source": [
    "# 对数运算（exp）"
   ]
  },
  {
   "cell_type": "code",
   "execution_count": 43,
   "id": "12ddfb07",
   "metadata": {},
   "outputs": [
    {
     "data": {
      "text/plain": [
       "tensor([[2.7183, 2.7183],\n",
       "        [2.7183, 2.7183]])"
      ]
     },
     "execution_count": 43,
     "metadata": {},
     "output_type": "execute_result"
    }
   ],
   "source": [
    "a = torch.exp(torch.ones(2, 2)) # e^1的二维矩阵\n",
    "a"
   ]
  },
  {
   "cell_type": "code",
   "execution_count": 44,
   "id": "b3659e74",
   "metadata": {},
   "outputs": [
    {
     "data": {
      "text/plain": [
       "tensor([[1., 1.],\n",
       "        [1., 1.]])"
      ]
     },
     "execution_count": 44,
     "metadata": {},
     "output_type": "execute_result"
    }
   ],
   "source": [
    "torch.log(a) # loge 1"
   ]
  },
  {
   "cell_type": "markdown",
   "id": "69bdf2fe",
   "metadata": {},
   "source": [
    "# 近似值"
   ]
  },
  {
   "cell_type": "code",
   "execution_count": 45,
   "id": "501bb3fc",
   "metadata": {},
   "outputs": [
    {
     "data": {
      "text/plain": [
       "(tensor(3.), tensor(4.), tensor(3.), tensor(0.1400))"
      ]
     },
     "execution_count": 45,
     "metadata": {},
     "output_type": "execute_result"
    }
   ],
   "source": [
    "a = torch.tensor(3.14)\n",
    "a.floor(), a.ceil(), a.trunc(), a.frac()\n",
    "# floor:往下取整\n",
    "# ceil:往上取整\n",
    "# trunc:取整数部分\n",
    "# frac:取小数部分"
   ]
  },
  {
   "cell_type": "code",
   "execution_count": 46,
   "id": "9e2c4023",
   "metadata": {},
   "outputs": [
    {
     "data": {
      "text/plain": [
       "tensor(3.)"
      ]
     },
     "execution_count": 46,
     "metadata": {},
     "output_type": "execute_result"
    }
   ],
   "source": [
    "a = torch.tensor(3.499)\n",
    "a.round() # 四舍五入"
   ]
  },
  {
   "cell_type": "code",
   "execution_count": 47,
   "id": "009ab62c",
   "metadata": {},
   "outputs": [
    {
     "data": {
      "text/plain": [
       "tensor(4.)"
      ]
     },
     "execution_count": 47,
     "metadata": {},
     "output_type": "execute_result"
    }
   ],
   "source": [
    "a = torch.tensor(3.5)\n",
    "a.round()"
   ]
  },
  {
   "cell_type": "markdown",
   "id": "de6d74d7",
   "metadata": {},
   "source": [
    "# clamp（裁剪）\n",
    "\n",
    "多用于梯度裁剪\n",
    "\n",
    "梯度弥散：梯度非常小，接近于0\n",
    "\n",
    "梯度爆炸：梯度非常大（100多）"
   ]
  },
  {
   "cell_type": "code",
   "execution_count": 48,
   "id": "b003bb84",
   "metadata": {},
   "outputs": [
    {
     "data": {
      "text/plain": [
       "tensor(14.5829)"
      ]
     },
     "execution_count": 48,
     "metadata": {},
     "output_type": "execute_result"
    }
   ],
   "source": [
    "grad = torch.rand(2, 3) * 15\n",
    "grad.max() # 找最大值"
   ]
  },
  {
   "cell_type": "code",
   "execution_count": 49,
   "id": "d3d5daf6",
   "metadata": {},
   "outputs": [
    {
     "data": {
      "text/plain": [
       "tensor(2.0717)"
      ]
     },
     "execution_count": 49,
     "metadata": {},
     "output_type": "execute_result"
    }
   ],
   "source": [
    "grad.median() # 找中间值"
   ]
  },
  {
   "cell_type": "code",
   "execution_count": 50,
   "id": "e316bf5f",
   "metadata": {},
   "outputs": [
    {
     "data": {
      "text/plain": [
       "tensor([[10.0000, 10.0000, 14.5829],\n",
       "        [10.0000, 10.0000, 10.0000]])"
      ]
     },
     "execution_count": 50,
     "metadata": {},
     "output_type": "execute_result"
    }
   ],
   "source": [
    "grad.clamp(10) # 小于10的都变为10"
   ]
  },
  {
   "cell_type": "code",
   "execution_count": 51,
   "id": "ef2db50f",
   "metadata": {},
   "outputs": [
    {
     "data": {
      "text/plain": [
       "tensor([[ 0.3026,  0.8506, 14.5829],\n",
       "        [ 9.5310,  2.0717,  7.2538]])"
      ]
     },
     "execution_count": 51,
     "metadata": {},
     "output_type": "execute_result"
    }
   ],
   "source": [
    "grad"
   ]
  },
  {
   "cell_type": "code",
   "execution_count": 52,
   "id": "be81bd5f",
   "metadata": {},
   "outputs": [
    {
     "data": {
      "text/plain": [
       "tensor([[ 0.3026,  0.8506, 10.0000],\n",
       "        [ 9.5310,  2.0717,  7.2538]])"
      ]
     },
     "execution_count": 52,
     "metadata": {},
     "output_type": "execute_result"
    }
   ],
   "source": [
    "grad.clamp(0, 10) # 下限为0，上限为10"
   ]
  },
  {
   "cell_type": "code",
   "execution_count": null,
   "id": "7e7ff795",
   "metadata": {},
   "outputs": [],
   "source": []
  }
 ],
 "metadata": {
  "kernelspec": {
   "display_name": "Python 3 (ipykernel)",
   "language": "python",
   "name": "python3"
  },
  "language_info": {
   "codemirror_mode": {
    "name": "ipython",
    "version": 3
   },
   "file_extension": ".py",
   "mimetype": "text/x-python",
   "name": "python",
   "nbconvert_exporter": "python",
   "pygments_lexer": "ipython3",
   "version": "3.10.10"
  }
 },
 "nbformat": 4,
 "nbformat_minor": 5
}
