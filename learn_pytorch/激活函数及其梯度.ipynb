{
 "cells": [
  {
   "cell_type": "markdown",
   "id": "e1cc5655",
   "metadata": {},
   "source": [
    "# 激活函数——阶跃函数\n",
    "\n",
    "![](./img/img3.png)"
   ]
  },
  {
   "cell_type": "markdown",
   "id": "f7c2baa3",
   "metadata": {},
   "source": [
    "阶跃函数连续不可导，以前的人们用启发式搜索进行优化。\n",
    "\n",
    "为解决阶跃函数不可导的问题，人们提出了sigmoid函数\n",
    "\n",
    "![](./img/img4.png)"
   ]
  },
  {
   "cell_type": "markdown",
   "id": "fbe40a34",
   "metadata": {},
   "source": [
    "# sigmoid函数的求导\n",
    "\n",
    "![](./img/sigmoid.png)"
   ]
  },
  {
   "cell_type": "markdown",
   "id": "624cbbb3",
   "metadata": {},
   "source": [
    "你可以发现sigmoid函数求导时是不需要另一个新的值的，所以sigmoid就是好啊！\n",
    "\n",
    "但是当x处于正无穷的时候它的导数接近0，所以参数容易长时间得不到更新，这就是梯度弥散"
   ]
  },
  {
   "cell_type": "code",
   "execution_count": 1,
   "id": "74ecff72",
   "metadata": {},
   "outputs": [],
   "source": [
    "import torch"
   ]
  },
  {
   "cell_type": "code",
   "execution_count": 2,
   "id": "903a8615",
   "metadata": {},
   "outputs": [
    {
     "data": {
      "text/plain": [
       "tensor([-100.0000,  -77.7778,  -55.5556,  -33.3333,  -11.1111,   11.1111,\n",
       "          33.3333,   55.5556,   77.7778,  100.0000])"
      ]
     },
     "execution_count": 2,
     "metadata": {},
     "output_type": "execute_result"
    }
   ],
   "source": [
    "a = torch.linspace(-100, 100, 10)  # 从-100到100划分成10个片段\n",
    "a"
   ]
  },
  {
   "cell_type": "code",
   "execution_count": 3,
   "id": "639d1d02",
   "metadata": {},
   "outputs": [
    {
     "data": {
      "text/plain": [
       "tensor([0.0000e+00, 1.6655e-34, 7.4564e-25, 3.3382e-15, 1.4945e-05, 9.9999e-01,\n",
       "        1.0000e+00, 1.0000e+00, 1.0000e+00, 1.0000e+00])"
      ]
     },
     "execution_count": 3,
     "metadata": {},
     "output_type": "execute_result"
    }
   ],
   "source": [
    "torch.sigmoid(a) # 这与F.sigmoid是一样的（from torch.nn import functional as F）"
   ]
  },
  {
   "cell_type": "markdown",
   "id": "8b38da7a",
   "metadata": {},
   "source": [
    "# tanh\n",
    "\n",
    "![](./img/tanh.png)"
   ]
  },
  {
   "cell_type": "markdown",
   "id": "3c3b52f7",
   "metadata": {},
   "source": [
    "# tanh的求导\n",
    "\n",
    "![](./img/tanh2.png)"
   ]
  },
  {
   "cell_type": "markdown",
   "id": "6723025a",
   "metadata": {},
   "source": [
    "同样的，tanh的导数也不需要新的值"
   ]
  },
  {
   "cell_type": "code",
   "execution_count": 4,
   "id": "610ea7e7",
   "metadata": {},
   "outputs": [
    {
     "data": {
      "text/plain": [
       "tensor([-1.0000, -0.7778, -0.5556, -0.3333, -0.1111,  0.1111,  0.3333,  0.5556,\n",
       "         0.7778,  1.0000])"
      ]
     },
     "execution_count": 4,
     "metadata": {},
     "output_type": "execute_result"
    }
   ],
   "source": [
    "z = torch.linspace(-1, 1, 10)\n",
    "z"
   ]
  },
  {
   "cell_type": "code",
   "execution_count": 5,
   "id": "0482abf8",
   "metadata": {},
   "outputs": [
    {
     "data": {
      "text/plain": [
       "tensor([-0.7616, -0.6514, -0.5047, -0.3215, -0.1107,  0.1107,  0.3215,  0.5047,\n",
       "         0.6514,  0.7616])"
      ]
     },
     "execution_count": 5,
     "metadata": {},
     "output_type": "execute_result"
    }
   ],
   "source": [
    "torch.tanh(z)"
   ]
  },
  {
   "cell_type": "markdown",
   "id": "76f677b3",
   "metadata": {},
   "source": [
    "# ReLu\n",
    "\n",
    "![](./img/relu.png)"
   ]
  },
  {
   "cell_type": "markdown",
   "id": "ec330077",
   "metadata": {},
   "source": [
    "# ReLu函数的求导\n",
    "\n",
    "![](./img/relu2.png)"
   ]
  },
  {
   "cell_type": "markdown",
   "id": "042a5b0d",
   "metadata": {},
   "source": [
    "首先，它的倒数简单；其次，他很难出现梯度弥撒和梯度爆炸的情况"
   ]
  },
  {
   "cell_type": "code",
   "execution_count": 7,
   "id": "85a062e9",
   "metadata": {},
   "outputs": [
    {
     "data": {
      "text/plain": [
       "tensor([0.0000, 0.0000, 0.0000, 0.0000, 0.0000, 0.1111, 0.3333, 0.5556, 0.7778,\n",
       "        1.0000])"
      ]
     },
     "execution_count": 7,
     "metadata": {},
     "output_type": "execute_result"
    }
   ],
   "source": [
    "from torch.nn import functional as F\n",
    "\n",
    "a = torch.linspace(-1, 1, 10)\n",
    "torch.relu(a)"
   ]
  },
  {
   "cell_type": "code",
   "execution_count": 8,
   "id": "e9af67ce",
   "metadata": {},
   "outputs": [
    {
     "data": {
      "text/plain": [
       "tensor([0.0000, 0.0000, 0.0000, 0.0000, 0.0000, 0.1111, 0.3333, 0.5556, 0.7778,\n",
       "        1.0000])"
      ]
     },
     "execution_count": 8,
     "metadata": {},
     "output_type": "execute_result"
    }
   ],
   "source": [
    "F.relu(a)"
   ]
  },
  {
   "cell_type": "code",
   "execution_count": null,
   "id": "9c5c24a0",
   "metadata": {},
   "outputs": [],
   "source": []
  }
 ],
 "metadata": {
  "kernelspec": {
   "display_name": "Python 3 (ipykernel)",
   "language": "python",
   "name": "python3"
  },
  "language_info": {
   "codemirror_mode": {
    "name": "ipython",
    "version": 3
   },
   "file_extension": ".py",
   "mimetype": "text/x-python",
   "name": "python",
   "nbconvert_exporter": "python",
   "pygments_lexer": "ipython3",
   "version": "3.10.10"
  }
 },
 "nbformat": 4,
 "nbformat_minor": 5
}
